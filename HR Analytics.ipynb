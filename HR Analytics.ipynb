{
 "cells": [
  {
   "cell_type": "code",
   "execution_count": 1,
   "metadata": {},
   "outputs": [],
   "source": [
    "import pandas as pd\n",
    "import numpy as np\n",
    "import matplotlib.pyplot as plt\n",
    "import seaborn as sns"
   ]
  },
  {
   "cell_type": "code",
   "execution_count": 2,
   "metadata": {},
   "outputs": [],
   "source": [
    "#df = pd.read_excel('Data_Set_Case_Study_Homework.xlsx')"
   ]
  },
  {
   "cell_type": "code",
   "execution_count": 3,
   "metadata": {},
   "outputs": [],
   "source": [
    "df1 = pd.read_excel('Data_Set_Case_Study_Homework - Unit 1.xlsx')"
   ]
  },
  {
   "cell_type": "code",
   "execution_count": 4,
   "metadata": {},
   "outputs": [],
   "source": [
    "df2 = pd.read_excel('Data_Set_Case_Study_Homework - Unit 2.xlsx')"
   ]
  },
  {
   "cell_type": "code",
   "execution_count": 5,
   "metadata": {},
   "outputs": [
    {
     "data": {
      "text/html": [
       "<div>\n",
       "<style scoped>\n",
       "    .dataframe tbody tr th:only-of-type {\n",
       "        vertical-align: middle;\n",
       "    }\n",
       "\n",
       "    .dataframe tbody tr th {\n",
       "        vertical-align: top;\n",
       "    }\n",
       "\n",
       "    .dataframe thead th {\n",
       "        text-align: right;\n",
       "    }\n",
       "</style>\n",
       "<table border=\"1\" class=\"dataframe\">\n",
       "  <thead>\n",
       "    <tr style=\"text-align: right;\">\n",
       "      <th></th>\n",
       "      <th>Employee ID</th>\n",
       "      <th>Data Effective Date</th>\n",
       "      <th>Employee\\nStatus\\n</th>\n",
       "      <th>Career Level \\n(1=lowest, 6=highest)\\n</th>\n",
       "      <th>Hired Date</th>\n",
       "      <th>Hired in FY\\n(Yes/No)</th>\n",
       "      <th>Termination Date</th>\n",
       "      <th>Terminated\\nin FY\\n(Yes/No)</th>\n",
       "      <th>Termination Type\\n(Voluntary or Involuntary Exit)</th>\n",
       "      <th>Job Start Date</th>\n",
       "      <th>Promoted\\nin FY\\n(Yes/No)</th>\n",
       "      <th>Birth Date</th>\n",
       "      <th>Age\\n(Years)</th>\n",
       "      <th>Tenure\\n(Years)</th>\n",
       "      <th>Time in\\nJob (Years)</th>\n",
       "      <th>Rating</th>\n",
       "      <th>Education\\n(Highest\\nDegree)</th>\n",
       "    </tr>\n",
       "  </thead>\n",
       "  <tbody>\n",
       "    <tr>\n",
       "      <th>0</th>\n",
       "      <td>A0001</td>\n",
       "      <td>2016-12-31</td>\n",
       "      <td>Active</td>\n",
       "      <td>1</td>\n",
       "      <td>2016-09-12</td>\n",
       "      <td>Yes</td>\n",
       "      <td>NaT</td>\n",
       "      <td>No</td>\n",
       "      <td>NaN</td>\n",
       "      <td>2016-09-12</td>\n",
       "      <td>NaN</td>\n",
       "      <td>1992-09-21</td>\n",
       "      <td>NaN</td>\n",
       "      <td>NaN</td>\n",
       "      <td>NaN</td>\n",
       "      <td>At Target</td>\n",
       "      <td>BA/BS</td>\n",
       "    </tr>\n",
       "    <tr>\n",
       "      <th>1</th>\n",
       "      <td>A0002</td>\n",
       "      <td>2016-12-31</td>\n",
       "      <td>Active</td>\n",
       "      <td>1</td>\n",
       "      <td>2016-04-19</td>\n",
       "      <td>Yes</td>\n",
       "      <td>NaT</td>\n",
       "      <td>No</td>\n",
       "      <td>NaN</td>\n",
       "      <td>2016-04-19</td>\n",
       "      <td>NaN</td>\n",
       "      <td>1993-11-16</td>\n",
       "      <td>NaN</td>\n",
       "      <td>NaN</td>\n",
       "      <td>NaN</td>\n",
       "      <td>At Target</td>\n",
       "      <td>BA/BS</td>\n",
       "    </tr>\n",
       "    <tr>\n",
       "      <th>2</th>\n",
       "      <td>A0003</td>\n",
       "      <td>2016-12-31</td>\n",
       "      <td>Active</td>\n",
       "      <td>1</td>\n",
       "      <td>2016-03-14</td>\n",
       "      <td>Yes</td>\n",
       "      <td>NaT</td>\n",
       "      <td>No</td>\n",
       "      <td>NaN</td>\n",
       "      <td>2016-03-14</td>\n",
       "      <td>NaN</td>\n",
       "      <td>1993-11-26</td>\n",
       "      <td>NaN</td>\n",
       "      <td>NaN</td>\n",
       "      <td>NaN</td>\n",
       "      <td>At Target</td>\n",
       "      <td>MA/MS</td>\n",
       "    </tr>\n",
       "    <tr>\n",
       "      <th>3</th>\n",
       "      <td>A0004</td>\n",
       "      <td>2016-12-31</td>\n",
       "      <td>Active</td>\n",
       "      <td>1</td>\n",
       "      <td>2016-09-12</td>\n",
       "      <td>Yes</td>\n",
       "      <td>NaT</td>\n",
       "      <td>No</td>\n",
       "      <td>NaN</td>\n",
       "      <td>2016-09-12</td>\n",
       "      <td>NaN</td>\n",
       "      <td>1993-03-28</td>\n",
       "      <td>NaN</td>\n",
       "      <td>NaN</td>\n",
       "      <td>NaN</td>\n",
       "      <td>At Target</td>\n",
       "      <td>BA/BS</td>\n",
       "    </tr>\n",
       "    <tr>\n",
       "      <th>4</th>\n",
       "      <td>A0005</td>\n",
       "      <td>2016-12-31</td>\n",
       "      <td>Active</td>\n",
       "      <td>1</td>\n",
       "      <td>2016-04-19</td>\n",
       "      <td>Yes</td>\n",
       "      <td>NaT</td>\n",
       "      <td>No</td>\n",
       "      <td>NaN</td>\n",
       "      <td>2016-04-19</td>\n",
       "      <td>NaN</td>\n",
       "      <td>1992-09-01</td>\n",
       "      <td>NaN</td>\n",
       "      <td>NaN</td>\n",
       "      <td>NaN</td>\n",
       "      <td>At Target</td>\n",
       "      <td>BA/BS</td>\n",
       "    </tr>\n",
       "    <tr>\n",
       "      <th>...</th>\n",
       "      <td>...</td>\n",
       "      <td>...</td>\n",
       "      <td>...</td>\n",
       "      <td>...</td>\n",
       "      <td>...</td>\n",
       "      <td>...</td>\n",
       "      <td>...</td>\n",
       "      <td>...</td>\n",
       "      <td>...</td>\n",
       "      <td>...</td>\n",
       "      <td>...</td>\n",
       "      <td>...</td>\n",
       "      <td>...</td>\n",
       "      <td>...</td>\n",
       "      <td>...</td>\n",
       "      <td>...</td>\n",
       "      <td>...</td>\n",
       "    </tr>\n",
       "    <tr>\n",
       "      <th>6323</th>\n",
       "      <td>A6324</td>\n",
       "      <td>2016-12-31</td>\n",
       "      <td>Terminated</td>\n",
       "      <td>6</td>\n",
       "      <td>1981-01-18</td>\n",
       "      <td>No</td>\n",
       "      <td>2016-01-19</td>\n",
       "      <td>Yes</td>\n",
       "      <td>Voluntary Exit</td>\n",
       "      <td>2004-01-19</td>\n",
       "      <td>No</td>\n",
       "      <td>1960-12-18</td>\n",
       "      <td>NaN</td>\n",
       "      <td>NaN</td>\n",
       "      <td>NaN</td>\n",
       "      <td>Above Target</td>\n",
       "      <td>JD</td>\n",
       "    </tr>\n",
       "    <tr>\n",
       "      <th>6324</th>\n",
       "      <td>A6325</td>\n",
       "      <td>2016-12-31</td>\n",
       "      <td>Terminated</td>\n",
       "      <td>6</td>\n",
       "      <td>1980-07-07</td>\n",
       "      <td>No</td>\n",
       "      <td>2016-04-25</td>\n",
       "      <td>Yes</td>\n",
       "      <td>Voluntary Exit</td>\n",
       "      <td>2005-08-13</td>\n",
       "      <td>No</td>\n",
       "      <td>1955-04-08</td>\n",
       "      <td>NaN</td>\n",
       "      <td>NaN</td>\n",
       "      <td>NaN</td>\n",
       "      <td>Above Target</td>\n",
       "      <td>BA/BS</td>\n",
       "    </tr>\n",
       "    <tr>\n",
       "      <th>6325</th>\n",
       "      <td>A6326</td>\n",
       "      <td>2016-12-31</td>\n",
       "      <td>Terminated</td>\n",
       "      <td>6</td>\n",
       "      <td>1991-04-21</td>\n",
       "      <td>No</td>\n",
       "      <td>2016-09-13</td>\n",
       "      <td>Yes</td>\n",
       "      <td>Voluntary Exit</td>\n",
       "      <td>2005-02-06</td>\n",
       "      <td>No</td>\n",
       "      <td>1965-02-25</td>\n",
       "      <td>NaN</td>\n",
       "      <td>NaN</td>\n",
       "      <td>NaN</td>\n",
       "      <td>Significantly Above Target</td>\n",
       "      <td>MA/MS</td>\n",
       "    </tr>\n",
       "    <tr>\n",
       "      <th>6326</th>\n",
       "      <td>A6327</td>\n",
       "      <td>2016-12-31</td>\n",
       "      <td>Terminated</td>\n",
       "      <td>6</td>\n",
       "      <td>1980-10-30</td>\n",
       "      <td>No</td>\n",
       "      <td>2016-07-12</td>\n",
       "      <td>Yes</td>\n",
       "      <td>Voluntary Exit</td>\n",
       "      <td>2004-01-11</td>\n",
       "      <td>No</td>\n",
       "      <td>1958-01-26</td>\n",
       "      <td>NaN</td>\n",
       "      <td>NaN</td>\n",
       "      <td>NaN</td>\n",
       "      <td>Above Target</td>\n",
       "      <td>MBA</td>\n",
       "    </tr>\n",
       "    <tr>\n",
       "      <th>6327</th>\n",
       "      <td>A6328</td>\n",
       "      <td>2016-12-31</td>\n",
       "      <td>Terminated</td>\n",
       "      <td>6</td>\n",
       "      <td>1985-11-12</td>\n",
       "      <td>No</td>\n",
       "      <td>2016-01-25</td>\n",
       "      <td>Yes</td>\n",
       "      <td>Voluntary Exit</td>\n",
       "      <td>2004-08-31</td>\n",
       "      <td>No</td>\n",
       "      <td>1956-07-05</td>\n",
       "      <td>NaN</td>\n",
       "      <td>NaN</td>\n",
       "      <td>NaN</td>\n",
       "      <td>Significantly Above Target</td>\n",
       "      <td>BA/BS</td>\n",
       "    </tr>\n",
       "  </tbody>\n",
       "</table>\n",
       "<p>6328 rows × 17 columns</p>\n",
       "</div>"
      ],
      "text/plain": [
       "     Employee ID Data Effective Date Employee\\nStatus\\n  \\\n",
       "0          A0001          2016-12-31             Active   \n",
       "1          A0002          2016-12-31             Active   \n",
       "2          A0003          2016-12-31             Active   \n",
       "3          A0004          2016-12-31             Active   \n",
       "4          A0005          2016-12-31             Active   \n",
       "...          ...                 ...                ...   \n",
       "6323       A6324          2016-12-31         Terminated   \n",
       "6324       A6325          2016-12-31         Terminated   \n",
       "6325       A6326          2016-12-31         Terminated   \n",
       "6326       A6327          2016-12-31         Terminated   \n",
       "6327       A6328          2016-12-31         Terminated   \n",
       "\n",
       "      Career Level \\n(1=lowest, 6=highest)\\n Hired Date Hired in FY\\n(Yes/No)  \\\n",
       "0                                          1 2016-09-12                   Yes   \n",
       "1                                          1 2016-04-19                   Yes   \n",
       "2                                          1 2016-03-14                   Yes   \n",
       "3                                          1 2016-09-12                   Yes   \n",
       "4                                          1 2016-04-19                   Yes   \n",
       "...                                      ...        ...                   ...   \n",
       "6323                                       6 1981-01-18                    No   \n",
       "6324                                       6 1980-07-07                    No   \n",
       "6325                                       6 1991-04-21                    No   \n",
       "6326                                       6 1980-10-30                    No   \n",
       "6327                                       6 1985-11-12                    No   \n",
       "\n",
       "     Termination Date Terminated\\nin FY\\n(Yes/No)  \\\n",
       "0                 NaT                          No   \n",
       "1                 NaT                          No   \n",
       "2                 NaT                          No   \n",
       "3                 NaT                          No   \n",
       "4                 NaT                          No   \n",
       "...               ...                         ...   \n",
       "6323       2016-01-19                         Yes   \n",
       "6324       2016-04-25                         Yes   \n",
       "6325       2016-09-13                         Yes   \n",
       "6326       2016-07-12                         Yes   \n",
       "6327       2016-01-25                         Yes   \n",
       "\n",
       "     Termination Type\\n(Voluntary or Involuntary Exit) Job Start Date  \\\n",
       "0                                                  NaN     2016-09-12   \n",
       "1                                                  NaN     2016-04-19   \n",
       "2                                                  NaN     2016-03-14   \n",
       "3                                                  NaN     2016-09-12   \n",
       "4                                                  NaN     2016-04-19   \n",
       "...                                                ...            ...   \n",
       "6323                                    Voluntary Exit     2004-01-19   \n",
       "6324                                    Voluntary Exit     2005-08-13   \n",
       "6325                                    Voluntary Exit     2005-02-06   \n",
       "6326                                    Voluntary Exit     2004-01-11   \n",
       "6327                                    Voluntary Exit     2004-08-31   \n",
       "\n",
       "     Promoted\\nin FY\\n(Yes/No) Birth Date  Age\\n(Years)  Tenure\\n(Years)  \\\n",
       "0                          NaN 1992-09-21           NaN              NaN   \n",
       "1                          NaN 1993-11-16           NaN              NaN   \n",
       "2                          NaN 1993-11-26           NaN              NaN   \n",
       "3                          NaN 1993-03-28           NaN              NaN   \n",
       "4                          NaN 1992-09-01           NaN              NaN   \n",
       "...                        ...        ...           ...              ...   \n",
       "6323                        No 1960-12-18           NaN              NaN   \n",
       "6324                        No 1955-04-08           NaN              NaN   \n",
       "6325                        No 1965-02-25           NaN              NaN   \n",
       "6326                        No 1958-01-26           NaN              NaN   \n",
       "6327                        No 1956-07-05           NaN              NaN   \n",
       "\n",
       "      Time in\\nJob (Years)                      Rating  \\\n",
       "0                      NaN                   At Target   \n",
       "1                      NaN                   At Target   \n",
       "2                      NaN                   At Target   \n",
       "3                      NaN                   At Target   \n",
       "4                      NaN                   At Target   \n",
       "...                    ...                         ...   \n",
       "6323                   NaN                Above Target   \n",
       "6324                   NaN                Above Target   \n",
       "6325                   NaN  Significantly Above Target   \n",
       "6326                   NaN                Above Target   \n",
       "6327                   NaN  Significantly Above Target   \n",
       "\n",
       "     Education\\n(Highest\\nDegree)  \n",
       "0                           BA/BS  \n",
       "1                           BA/BS  \n",
       "2                           MA/MS  \n",
       "3                           BA/BS  \n",
       "4                           BA/BS  \n",
       "...                           ...  \n",
       "6323                           JD  \n",
       "6324                        BA/BS  \n",
       "6325                        MA/MS  \n",
       "6326                          MBA  \n",
       "6327                        BA/BS  \n",
       "\n",
       "[6328 rows x 17 columns]"
      ]
     },
     "execution_count": 5,
     "metadata": {},
     "output_type": "execute_result"
    }
   ],
   "source": [
    "df1"
   ]
  },
  {
   "cell_type": "code",
   "execution_count": 6,
   "metadata": {},
   "outputs": [
    {
     "data": {
      "text/html": [
       "<div>\n",
       "<style scoped>\n",
       "    .dataframe tbody tr th:only-of-type {\n",
       "        vertical-align: middle;\n",
       "    }\n",
       "\n",
       "    .dataframe tbody tr th {\n",
       "        vertical-align: top;\n",
       "    }\n",
       "\n",
       "    .dataframe thead th {\n",
       "        text-align: right;\n",
       "    }\n",
       "</style>\n",
       "<table border=\"1\" class=\"dataframe\">\n",
       "  <thead>\n",
       "    <tr style=\"text-align: right;\">\n",
       "      <th></th>\n",
       "      <th>Employee ID</th>\n",
       "      <th>Data Effective Date</th>\n",
       "      <th>Employee\\nStatus\\n</th>\n",
       "      <th>Career Level \\n(1=lowest, 6=highest)\\n</th>\n",
       "      <th>Hired Date</th>\n",
       "      <th>Hired in FY\\n(Yes/No)</th>\n",
       "      <th>Termination Date</th>\n",
       "      <th>Terminated\\nin FY\\n(Yes/No)</th>\n",
       "      <th>Termination Type\\n(Voluntary or Involuntary Exit)</th>\n",
       "      <th>Job Start Date</th>\n",
       "      <th>Promoted\\nin FY\\n(Yes/No)</th>\n",
       "      <th>Birth Date</th>\n",
       "      <th>Age\\n(Years)</th>\n",
       "      <th>Tenure\\n(Years)</th>\n",
       "      <th>Time in\\nJob (Years)</th>\n",
       "      <th>Rating\\n(1=lowest, 5=highest)</th>\n",
       "      <th>Education\\n(Highest\\nDegree)</th>\n",
       "    </tr>\n",
       "  </thead>\n",
       "  <tbody>\n",
       "    <tr>\n",
       "      <th>0</th>\n",
       "      <td>N0001</td>\n",
       "      <td>2016-12-31 00:00:00</td>\n",
       "      <td>Active</td>\n",
       "      <td>1</td>\n",
       "      <td>2016-04-19 00:00:00</td>\n",
       "      <td>Yes</td>\n",
       "      <td>NaN</td>\n",
       "      <td>No</td>\n",
       "      <td>NaN</td>\n",
       "      <td>2016-04-19 00:00:00</td>\n",
       "      <td>NaN</td>\n",
       "      <td>1995-09-01 00:00:00</td>\n",
       "      <td>NaN</td>\n",
       "      <td>NaN</td>\n",
       "      <td>NaN</td>\n",
       "      <td>3</td>\n",
       "      <td>MA/MS</td>\n",
       "    </tr>\n",
       "    <tr>\n",
       "      <th>1</th>\n",
       "      <td>N0002</td>\n",
       "      <td>2016-12-31 00:00:00</td>\n",
       "      <td>Active</td>\n",
       "      <td>1</td>\n",
       "      <td>2016-10-19 00:00:00</td>\n",
       "      <td>Yes</td>\n",
       "      <td>NaN</td>\n",
       "      <td>No</td>\n",
       "      <td>NaN</td>\n",
       "      <td>2016-10-19 00:00:00</td>\n",
       "      <td>NaN</td>\n",
       "      <td>1994-09-13 00:00:00</td>\n",
       "      <td>NaN</td>\n",
       "      <td>NaN</td>\n",
       "      <td>NaN</td>\n",
       "      <td>4</td>\n",
       "      <td>MA/MS</td>\n",
       "    </tr>\n",
       "    <tr>\n",
       "      <th>2</th>\n",
       "      <td>N0003</td>\n",
       "      <td>2016-12-31 00:00:00</td>\n",
       "      <td>Active</td>\n",
       "      <td>1</td>\n",
       "      <td>2016-05-26 00:00:00</td>\n",
       "      <td>Yes</td>\n",
       "      <td>NaN</td>\n",
       "      <td>No</td>\n",
       "      <td>NaN</td>\n",
       "      <td>2016-05-26 00:00:00</td>\n",
       "      <td>NaN</td>\n",
       "      <td>1996-04-19 00:00:00</td>\n",
       "      <td>NaN</td>\n",
       "      <td>NaN</td>\n",
       "      <td>NaN</td>\n",
       "      <td>3</td>\n",
       "      <td>BA/BS</td>\n",
       "    </tr>\n",
       "    <tr>\n",
       "      <th>3</th>\n",
       "      <td>N0004</td>\n",
       "      <td>2016-12-31 00:00:00</td>\n",
       "      <td>Active</td>\n",
       "      <td>1</td>\n",
       "      <td>2016-10-19 00:00:00</td>\n",
       "      <td>Yes</td>\n",
       "      <td>NaN</td>\n",
       "      <td>No</td>\n",
       "      <td>NaN</td>\n",
       "      <td>2016-10-19 00:00:00</td>\n",
       "      <td>NaN</td>\n",
       "      <td>1994-01-21 00:00:00</td>\n",
       "      <td>NaN</td>\n",
       "      <td>NaN</td>\n",
       "      <td>NaN</td>\n",
       "      <td>3</td>\n",
       "      <td>BA/BS</td>\n",
       "    </tr>\n",
       "    <tr>\n",
       "      <th>4</th>\n",
       "      <td>N0005</td>\n",
       "      <td>2016-12-31 00:00:00</td>\n",
       "      <td>Active</td>\n",
       "      <td>1</td>\n",
       "      <td>2016-02-06 00:00:00</td>\n",
       "      <td>Yes</td>\n",
       "      <td>NaN</td>\n",
       "      <td>No</td>\n",
       "      <td>NaN</td>\n",
       "      <td>2016-02-06 00:00:00</td>\n",
       "      <td>NaN</td>\n",
       "      <td>1993-05-18 00:00:00</td>\n",
       "      <td>NaN</td>\n",
       "      <td>NaN</td>\n",
       "      <td>NaN</td>\n",
       "      <td>3</td>\n",
       "      <td>BA/BS</td>\n",
       "    </tr>\n",
       "    <tr>\n",
       "      <th>...</th>\n",
       "      <td>...</td>\n",
       "      <td>...</td>\n",
       "      <td>...</td>\n",
       "      <td>...</td>\n",
       "      <td>...</td>\n",
       "      <td>...</td>\n",
       "      <td>...</td>\n",
       "      <td>...</td>\n",
       "      <td>...</td>\n",
       "      <td>...</td>\n",
       "      <td>...</td>\n",
       "      <td>...</td>\n",
       "      <td>...</td>\n",
       "      <td>...</td>\n",
       "      <td>...</td>\n",
       "      <td>...</td>\n",
       "      <td>...</td>\n",
       "    </tr>\n",
       "    <tr>\n",
       "      <th>2788</th>\n",
       "      <td>N2589</td>\n",
       "      <td>42735</td>\n",
       "      <td>Terminated</td>\n",
       "      <td>4</td>\n",
       "      <td>38238</td>\n",
       "      <td>No</td>\n",
       "      <td>42438</td>\n",
       "      <td>Yes</td>\n",
       "      <td>Voluntary Exit</td>\n",
       "      <td>40904</td>\n",
       "      <td>No</td>\n",
       "      <td>31447</td>\n",
       "      <td>NaN</td>\n",
       "      <td>NaN</td>\n",
       "      <td>NaN</td>\n",
       "      <td>2</td>\n",
       "      <td>MA/MS</td>\n",
       "    </tr>\n",
       "    <tr>\n",
       "      <th>2789</th>\n",
       "      <td>N2590</td>\n",
       "      <td>42735</td>\n",
       "      <td>Terminated</td>\n",
       "      <td>4</td>\n",
       "      <td>38623</td>\n",
       "      <td>No</td>\n",
       "      <td>42641</td>\n",
       "      <td>Yes</td>\n",
       "      <td>Involuntary Exit</td>\n",
       "      <td>41070</td>\n",
       "      <td>No</td>\n",
       "      <td>30923</td>\n",
       "      <td>NaN</td>\n",
       "      <td>NaN</td>\n",
       "      <td>NaN</td>\n",
       "      <td>2</td>\n",
       "      <td>BA/BS</td>\n",
       "    </tr>\n",
       "    <tr>\n",
       "      <th>2790</th>\n",
       "      <td>N2591</td>\n",
       "      <td>42735</td>\n",
       "      <td>Terminated</td>\n",
       "      <td>4</td>\n",
       "      <td>38878</td>\n",
       "      <td>No</td>\n",
       "      <td>42384</td>\n",
       "      <td>Yes</td>\n",
       "      <td>Involuntary Exit</td>\n",
       "      <td>40850</td>\n",
       "      <td>No</td>\n",
       "      <td>32011</td>\n",
       "      <td>NaN</td>\n",
       "      <td>NaN</td>\n",
       "      <td>NaN</td>\n",
       "      <td>2</td>\n",
       "      <td>MBA</td>\n",
       "    </tr>\n",
       "    <tr>\n",
       "      <th>2791</th>\n",
       "      <td>N2592</td>\n",
       "      <td>42735</td>\n",
       "      <td>Terminated</td>\n",
       "      <td>4</td>\n",
       "      <td>38827</td>\n",
       "      <td>No</td>\n",
       "      <td>42553</td>\n",
       "      <td>Yes</td>\n",
       "      <td>Involuntary Exit</td>\n",
       "      <td>41165</td>\n",
       "      <td>No</td>\n",
       "      <td>32454</td>\n",
       "      <td>NaN</td>\n",
       "      <td>NaN</td>\n",
       "      <td>NaN</td>\n",
       "      <td>2</td>\n",
       "      <td>BA/BS</td>\n",
       "    </tr>\n",
       "    <tr>\n",
       "      <th>2792</th>\n",
       "      <td>N2593</td>\n",
       "      <td>42735</td>\n",
       "      <td>Terminated</td>\n",
       "      <td>4</td>\n",
       "      <td>39283</td>\n",
       "      <td>No</td>\n",
       "      <td>42716</td>\n",
       "      <td>Yes</td>\n",
       "      <td>Involuntary Exit</td>\n",
       "      <td>41109</td>\n",
       "      <td>No</td>\n",
       "      <td>30500</td>\n",
       "      <td>NaN</td>\n",
       "      <td>NaN</td>\n",
       "      <td>NaN</td>\n",
       "      <td>2</td>\n",
       "      <td>BA/BS</td>\n",
       "    </tr>\n",
       "  </tbody>\n",
       "</table>\n",
       "<p>2793 rows × 17 columns</p>\n",
       "</div>"
      ],
      "text/plain": [
       "     Employee ID  Data Effective Date Employee\\nStatus\\n  \\\n",
       "0          N0001  2016-12-31 00:00:00             Active   \n",
       "1          N0002  2016-12-31 00:00:00             Active   \n",
       "2          N0003  2016-12-31 00:00:00             Active   \n",
       "3          N0004  2016-12-31 00:00:00             Active   \n",
       "4          N0005  2016-12-31 00:00:00             Active   \n",
       "...          ...                  ...                ...   \n",
       "2788       N2589                42735         Terminated   \n",
       "2789       N2590                42735         Terminated   \n",
       "2790       N2591                42735         Terminated   \n",
       "2791       N2592                42735         Terminated   \n",
       "2792       N2593                42735         Terminated   \n",
       "\n",
       "      Career Level \\n(1=lowest, 6=highest)\\n           Hired Date  \\\n",
       "0                                          1  2016-04-19 00:00:00   \n",
       "1                                          1  2016-10-19 00:00:00   \n",
       "2                                          1  2016-05-26 00:00:00   \n",
       "3                                          1  2016-10-19 00:00:00   \n",
       "4                                          1  2016-02-06 00:00:00   \n",
       "...                                      ...                  ...   \n",
       "2788                                       4                38238   \n",
       "2789                                       4                38623   \n",
       "2790                                       4                38878   \n",
       "2791                                       4                38827   \n",
       "2792                                       4                39283   \n",
       "\n",
       "     Hired in FY\\n(Yes/No) Termination Date Terminated\\nin FY\\n(Yes/No)  \\\n",
       "0                      Yes              NaN                          No   \n",
       "1                      Yes              NaN                          No   \n",
       "2                      Yes              NaN                          No   \n",
       "3                      Yes              NaN                          No   \n",
       "4                      Yes              NaN                          No   \n",
       "...                    ...              ...                         ...   \n",
       "2788                    No            42438                         Yes   \n",
       "2789                    No            42641                         Yes   \n",
       "2790                    No            42384                         Yes   \n",
       "2791                    No            42553                         Yes   \n",
       "2792                    No            42716                         Yes   \n",
       "\n",
       "     Termination Type\\n(Voluntary or Involuntary Exit)       Job Start Date  \\\n",
       "0                                                  NaN  2016-04-19 00:00:00   \n",
       "1                                                  NaN  2016-10-19 00:00:00   \n",
       "2                                                  NaN  2016-05-26 00:00:00   \n",
       "3                                                  NaN  2016-10-19 00:00:00   \n",
       "4                                                  NaN  2016-02-06 00:00:00   \n",
       "...                                                ...                  ...   \n",
       "2788                                    Voluntary Exit                40904   \n",
       "2789                                  Involuntary Exit                41070   \n",
       "2790                                  Involuntary Exit                40850   \n",
       "2791                                  Involuntary Exit                41165   \n",
       "2792                                  Involuntary Exit                41109   \n",
       "\n",
       "     Promoted\\nin FY\\n(Yes/No)           Birth Date  Age\\n(Years)  \\\n",
       "0                          NaN  1995-09-01 00:00:00           NaN   \n",
       "1                          NaN  1994-09-13 00:00:00           NaN   \n",
       "2                          NaN  1996-04-19 00:00:00           NaN   \n",
       "3                          NaN  1994-01-21 00:00:00           NaN   \n",
       "4                          NaN  1993-05-18 00:00:00           NaN   \n",
       "...                        ...                  ...           ...   \n",
       "2788                        No                31447           NaN   \n",
       "2789                        No                30923           NaN   \n",
       "2790                        No                32011           NaN   \n",
       "2791                        No                32454           NaN   \n",
       "2792                        No                30500           NaN   \n",
       "\n",
       "      Tenure\\n(Years)  Time in\\nJob (Years)  Rating\\n(1=lowest, 5=highest)  \\\n",
       "0                 NaN                   NaN                              3   \n",
       "1                 NaN                   NaN                              4   \n",
       "2                 NaN                   NaN                              3   \n",
       "3                 NaN                   NaN                              3   \n",
       "4                 NaN                   NaN                              3   \n",
       "...               ...                   ...                            ...   \n",
       "2788              NaN                   NaN                              2   \n",
       "2789              NaN                   NaN                              2   \n",
       "2790              NaN                   NaN                              2   \n",
       "2791              NaN                   NaN                              2   \n",
       "2792              NaN                   NaN                              2   \n",
       "\n",
       "     Education\\n(Highest\\nDegree)  \n",
       "0                           MA/MS  \n",
       "1                           MA/MS  \n",
       "2                           BA/BS  \n",
       "3                           BA/BS  \n",
       "4                           BA/BS  \n",
       "...                           ...  \n",
       "2788                        MA/MS  \n",
       "2789                        BA/BS  \n",
       "2790                          MBA  \n",
       "2791                        BA/BS  \n",
       "2792                        BA/BS  \n",
       "\n",
       "[2793 rows x 17 columns]"
      ]
     },
     "execution_count": 6,
     "metadata": {},
     "output_type": "execute_result"
    }
   ],
   "source": [
    "df2"
   ]
  },
  {
   "cell_type": "code",
   "execution_count": 7,
   "metadata": {},
   "outputs": [
    {
     "name": "stdout",
     "output_type": "stream",
     "text": [
      "<class 'pandas.core.frame.DataFrame'>\n",
      "RangeIndex: 6328 entries, 0 to 6327\n",
      "Data columns (total 17 columns):\n",
      " #   Column                                            Non-Null Count  Dtype         \n",
      "---  ------                                            --------------  -----         \n",
      " 0   Employee ID                                       6328 non-null   object        \n",
      " 1   Data Effective Date                               6328 non-null   datetime64[ns]\n",
      " 2   Employee\n",
      "Status\n",
      "                                  6328 non-null   object        \n",
      " 3   Career Level \n",
      "(1=lowest, 6=highest)\n",
      "              6328 non-null   int64         \n",
      " 4   Hired Date                                        6328 non-null   datetime64[ns]\n",
      " 5   Hired in FY\n",
      "(Yes/No)                              6328 non-null   object        \n",
      " 6   Termination Date                                  408 non-null    datetime64[ns]\n",
      " 7   Terminated\n",
      "in FY\n",
      "(Yes/No)                         6328 non-null   object        \n",
      " 8   Termination Type\n",
      "(Voluntary or Involuntary Exit)  408 non-null    object        \n",
      " 9   Job Start Date                                    6328 non-null   datetime64[ns]\n",
      " 10  Promoted\n",
      "in FY\n",
      "(Yes/No)                           5293 non-null   object        \n",
      " 11  Birth Date                                        6328 non-null   datetime64[ns]\n",
      " 12  Age\n",
      "(Years)                                       0 non-null      float64       \n",
      " 13  Tenure\n",
      "(Years)                                    0 non-null      float64       \n",
      " 14  Time in\n",
      "Job (Years)                               0 non-null      float64       \n",
      " 15  Rating                                            6328 non-null   object        \n",
      " 16  Education\n",
      "(Highest\n",
      "Degree)                        6328 non-null   object        \n",
      "dtypes: datetime64[ns](5), float64(3), int64(1), object(8)\n",
      "memory usage: 840.6+ KB\n"
     ]
    }
   ],
   "source": [
    "df1.info()"
   ]
  },
  {
   "cell_type": "code",
   "execution_count": 8,
   "metadata": {},
   "outputs": [],
   "source": [
    "#df1.groupby(['Birth Date']).count()"
   ]
  },
  {
   "cell_type": "code",
   "execution_count": 9,
   "metadata": {},
   "outputs": [],
   "source": [
    "#df1.groupby(['Birth Date', 'Hired Date']).count()"
   ]
  },
  {
   "cell_type": "code",
   "execution_count": 10,
   "metadata": {
    "scrolled": false
   },
   "outputs": [],
   "source": [
    "#df1.groupby(['Birth Date', 'Hired Date']).groups"
   ]
  },
  {
   "cell_type": "markdown",
   "metadata": {},
   "source": [
    "#### Feature Engineerinig"
   ]
  },
  {
   "cell_type": "code",
   "execution_count": 11,
   "metadata": {},
   "outputs": [],
   "source": [
    "df2.drop(df2.index[2733:2793], axis = 0, inplace = True)"
   ]
  },
  {
   "cell_type": "code",
   "execution_count": 12,
   "metadata": {},
   "outputs": [],
   "source": [
    "df2['Age\\n(Years)'] = df2['Birth Date'].dt.year.apply(lambda x: 2016 - x)"
   ]
  },
  {
   "cell_type": "code",
   "execution_count": 13,
   "metadata": {},
   "outputs": [],
   "source": [
    "df2['Tenure\\n(Years)'] = df2['Hired Date'].dt.year.apply(lambda x: 2016 - x)"
   ]
  },
  {
   "cell_type": "code",
   "execution_count": 14,
   "metadata": {},
   "outputs": [],
   "source": [
    "df2['Time in\\nJob (Years)'] = df2['Job Start Date'].dt.year.apply(lambda x: 2016 -x)"
   ]
  },
  {
   "cell_type": "code",
   "execution_count": 15,
   "metadata": {},
   "outputs": [],
   "source": [
    "df2['Age bins'] = pd.cut(df2['Age\\n(Years)'], bins = [20, 30, 40, 50, 60])"
   ]
  },
  {
   "cell_type": "code",
   "execution_count": 16,
   "metadata": {},
   "outputs": [
    {
     "data": {
      "text/html": [
       "<div>\n",
       "<style scoped>\n",
       "    .dataframe tbody tr th:only-of-type {\n",
       "        vertical-align: middle;\n",
       "    }\n",
       "\n",
       "    .dataframe tbody tr th {\n",
       "        vertical-align: top;\n",
       "    }\n",
       "\n",
       "    .dataframe thead th {\n",
       "        text-align: right;\n",
       "    }\n",
       "</style>\n",
       "<table border=\"1\" class=\"dataframe\">\n",
       "  <thead>\n",
       "    <tr style=\"text-align: right;\">\n",
       "      <th></th>\n",
       "      <th>Employee ID</th>\n",
       "      <th>Data Effective Date</th>\n",
       "      <th>Employee\\nStatus\\n</th>\n",
       "      <th>Career Level \\n(1=lowest, 6=highest)\\n</th>\n",
       "      <th>Hired Date</th>\n",
       "      <th>Hired in FY\\n(Yes/No)</th>\n",
       "      <th>Termination Date</th>\n",
       "      <th>Terminated\\nin FY\\n(Yes/No)</th>\n",
       "      <th>Termination Type\\n(Voluntary or Involuntary Exit)</th>\n",
       "      <th>Job Start Date</th>\n",
       "      <th>Promoted\\nin FY\\n(Yes/No)</th>\n",
       "      <th>Birth Date</th>\n",
       "      <th>Age\\n(Years)</th>\n",
       "      <th>Tenure\\n(Years)</th>\n",
       "      <th>Time in\\nJob (Years)</th>\n",
       "      <th>Rating\\n(1=lowest, 5=highest)</th>\n",
       "      <th>Education\\n(Highest\\nDegree)</th>\n",
       "      <th>Age bins</th>\n",
       "    </tr>\n",
       "  </thead>\n",
       "  <tbody>\n",
       "    <tr>\n",
       "      <th>0</th>\n",
       "      <td>N0001</td>\n",
       "      <td>2016-12-31 00:00:00</td>\n",
       "      <td>Active</td>\n",
       "      <td>1</td>\n",
       "      <td>2016-04-19 00:00:00</td>\n",
       "      <td>Yes</td>\n",
       "      <td>NaN</td>\n",
       "      <td>No</td>\n",
       "      <td>NaN</td>\n",
       "      <td>2016-04-19 00:00:00</td>\n",
       "      <td>NaN</td>\n",
       "      <td>1995-09-01 00:00:00</td>\n",
       "      <td>21</td>\n",
       "      <td>0</td>\n",
       "      <td>0</td>\n",
       "      <td>3</td>\n",
       "      <td>MA/MS</td>\n",
       "      <td>(20.0, 30.0]</td>\n",
       "    </tr>\n",
       "    <tr>\n",
       "      <th>1</th>\n",
       "      <td>N0002</td>\n",
       "      <td>2016-12-31 00:00:00</td>\n",
       "      <td>Active</td>\n",
       "      <td>1</td>\n",
       "      <td>2016-10-19 00:00:00</td>\n",
       "      <td>Yes</td>\n",
       "      <td>NaN</td>\n",
       "      <td>No</td>\n",
       "      <td>NaN</td>\n",
       "      <td>2016-10-19 00:00:00</td>\n",
       "      <td>NaN</td>\n",
       "      <td>1994-09-13 00:00:00</td>\n",
       "      <td>22</td>\n",
       "      <td>0</td>\n",
       "      <td>0</td>\n",
       "      <td>4</td>\n",
       "      <td>MA/MS</td>\n",
       "      <td>(20.0, 30.0]</td>\n",
       "    </tr>\n",
       "    <tr>\n",
       "      <th>2</th>\n",
       "      <td>N0003</td>\n",
       "      <td>2016-12-31 00:00:00</td>\n",
       "      <td>Active</td>\n",
       "      <td>1</td>\n",
       "      <td>2016-05-26 00:00:00</td>\n",
       "      <td>Yes</td>\n",
       "      <td>NaN</td>\n",
       "      <td>No</td>\n",
       "      <td>NaN</td>\n",
       "      <td>2016-05-26 00:00:00</td>\n",
       "      <td>NaN</td>\n",
       "      <td>1996-04-19 00:00:00</td>\n",
       "      <td>20</td>\n",
       "      <td>0</td>\n",
       "      <td>0</td>\n",
       "      <td>3</td>\n",
       "      <td>BA/BS</td>\n",
       "      <td>NaN</td>\n",
       "    </tr>\n",
       "    <tr>\n",
       "      <th>3</th>\n",
       "      <td>N0004</td>\n",
       "      <td>2016-12-31 00:00:00</td>\n",
       "      <td>Active</td>\n",
       "      <td>1</td>\n",
       "      <td>2016-10-19 00:00:00</td>\n",
       "      <td>Yes</td>\n",
       "      <td>NaN</td>\n",
       "      <td>No</td>\n",
       "      <td>NaN</td>\n",
       "      <td>2016-10-19 00:00:00</td>\n",
       "      <td>NaN</td>\n",
       "      <td>1994-01-21 00:00:00</td>\n",
       "      <td>22</td>\n",
       "      <td>0</td>\n",
       "      <td>0</td>\n",
       "      <td>3</td>\n",
       "      <td>BA/BS</td>\n",
       "      <td>(20.0, 30.0]</td>\n",
       "    </tr>\n",
       "    <tr>\n",
       "      <th>4</th>\n",
       "      <td>N0005</td>\n",
       "      <td>2016-12-31 00:00:00</td>\n",
       "      <td>Active</td>\n",
       "      <td>1</td>\n",
       "      <td>2016-02-06 00:00:00</td>\n",
       "      <td>Yes</td>\n",
       "      <td>NaN</td>\n",
       "      <td>No</td>\n",
       "      <td>NaN</td>\n",
       "      <td>2016-02-06 00:00:00</td>\n",
       "      <td>NaN</td>\n",
       "      <td>1993-05-18 00:00:00</td>\n",
       "      <td>23</td>\n",
       "      <td>0</td>\n",
       "      <td>0</td>\n",
       "      <td>3</td>\n",
       "      <td>BA/BS</td>\n",
       "      <td>(20.0, 30.0]</td>\n",
       "    </tr>\n",
       "    <tr>\n",
       "      <th>...</th>\n",
       "      <td>...</td>\n",
       "      <td>...</td>\n",
       "      <td>...</td>\n",
       "      <td>...</td>\n",
       "      <td>...</td>\n",
       "      <td>...</td>\n",
       "      <td>...</td>\n",
       "      <td>...</td>\n",
       "      <td>...</td>\n",
       "      <td>...</td>\n",
       "      <td>...</td>\n",
       "      <td>...</td>\n",
       "      <td>...</td>\n",
       "      <td>...</td>\n",
       "      <td>...</td>\n",
       "      <td>...</td>\n",
       "      <td>...</td>\n",
       "      <td>...</td>\n",
       "    </tr>\n",
       "    <tr>\n",
       "      <th>2728</th>\n",
       "      <td>N2729</td>\n",
       "      <td>2016-12-31 00:00:00</td>\n",
       "      <td>Terminated</td>\n",
       "      <td>6</td>\n",
       "      <td>1988-01-21 00:00:00</td>\n",
       "      <td>No</td>\n",
       "      <td>2016-01-21 00:00:00</td>\n",
       "      <td>Yes</td>\n",
       "      <td>Involuntary Exit</td>\n",
       "      <td>2004-04-03 00:00:00</td>\n",
       "      <td>No</td>\n",
       "      <td>1965-01-09 00:00:00</td>\n",
       "      <td>51</td>\n",
       "      <td>28</td>\n",
       "      <td>12</td>\n",
       "      <td>2</td>\n",
       "      <td>PhD</td>\n",
       "      <td>(50.0, 60.0]</td>\n",
       "    </tr>\n",
       "    <tr>\n",
       "      <th>2729</th>\n",
       "      <td>N2730</td>\n",
       "      <td>2016-12-31 00:00:00</td>\n",
       "      <td>Terminated</td>\n",
       "      <td>6</td>\n",
       "      <td>1985-03-13 00:00:00</td>\n",
       "      <td>No</td>\n",
       "      <td>2016-02-05 00:00:00</td>\n",
       "      <td>Yes</td>\n",
       "      <td>Involuntary Exit</td>\n",
       "      <td>2005-03-13 00:00:00</td>\n",
       "      <td>No</td>\n",
       "      <td>1965-02-22 00:00:00</td>\n",
       "      <td>51</td>\n",
       "      <td>31</td>\n",
       "      <td>11</td>\n",
       "      <td>2</td>\n",
       "      <td>MBA</td>\n",
       "      <td>(50.0, 60.0]</td>\n",
       "    </tr>\n",
       "    <tr>\n",
       "      <th>2730</th>\n",
       "      <td>N2731</td>\n",
       "      <td>2016-12-31 00:00:00</td>\n",
       "      <td>Terminated</td>\n",
       "      <td>6</td>\n",
       "      <td>1984-08-25 00:00:00</td>\n",
       "      <td>No</td>\n",
       "      <td>2016-07-19 00:00:00</td>\n",
       "      <td>Yes</td>\n",
       "      <td>Involuntary Exit</td>\n",
       "      <td>2005-11-06 00:00:00</td>\n",
       "      <td>No</td>\n",
       "      <td>1962-03-05 00:00:00</td>\n",
       "      <td>54</td>\n",
       "      <td>32</td>\n",
       "      <td>11</td>\n",
       "      <td>2</td>\n",
       "      <td>BA/BS</td>\n",
       "      <td>(50.0, 60.0]</td>\n",
       "    </tr>\n",
       "    <tr>\n",
       "      <th>2731</th>\n",
       "      <td>N2732</td>\n",
       "      <td>2016-12-31 00:00:00</td>\n",
       "      <td>Terminated</td>\n",
       "      <td>6</td>\n",
       "      <td>1986-12-16 00:00:00</td>\n",
       "      <td>No</td>\n",
       "      <td>2016-04-04 00:00:00</td>\n",
       "      <td>Yes</td>\n",
       "      <td>Involuntary Exit</td>\n",
       "      <td>2004-12-16 00:00:00</td>\n",
       "      <td>No</td>\n",
       "      <td>1964-08-27 00:00:00</td>\n",
       "      <td>52</td>\n",
       "      <td>30</td>\n",
       "      <td>12</td>\n",
       "      <td>2</td>\n",
       "      <td>PhD</td>\n",
       "      <td>(50.0, 60.0]</td>\n",
       "    </tr>\n",
       "    <tr>\n",
       "      <th>2732</th>\n",
       "      <td>N2733</td>\n",
       "      <td>2016-12-31 00:00:00</td>\n",
       "      <td>Terminated</td>\n",
       "      <td>6</td>\n",
       "      <td>1988-11-16 00:00:00</td>\n",
       "      <td>No</td>\n",
       "      <td>2016-09-04 00:00:00</td>\n",
       "      <td>Yes</td>\n",
       "      <td>Involuntary Exit</td>\n",
       "      <td>2006-03-06 00:00:00</td>\n",
       "      <td>No</td>\n",
       "      <td>1960-11-06 00:00:00</td>\n",
       "      <td>56</td>\n",
       "      <td>28</td>\n",
       "      <td>10</td>\n",
       "      <td>2</td>\n",
       "      <td>PhD</td>\n",
       "      <td>(50.0, 60.0]</td>\n",
       "    </tr>\n",
       "  </tbody>\n",
       "</table>\n",
       "<p>2733 rows × 18 columns</p>\n",
       "</div>"
      ],
      "text/plain": [
       "     Employee ID  Data Effective Date Employee\\nStatus\\n  \\\n",
       "0          N0001  2016-12-31 00:00:00             Active   \n",
       "1          N0002  2016-12-31 00:00:00             Active   \n",
       "2          N0003  2016-12-31 00:00:00             Active   \n",
       "3          N0004  2016-12-31 00:00:00             Active   \n",
       "4          N0005  2016-12-31 00:00:00             Active   \n",
       "...          ...                  ...                ...   \n",
       "2728       N2729  2016-12-31 00:00:00         Terminated   \n",
       "2729       N2730  2016-12-31 00:00:00         Terminated   \n",
       "2730       N2731  2016-12-31 00:00:00         Terminated   \n",
       "2731       N2732  2016-12-31 00:00:00         Terminated   \n",
       "2732       N2733  2016-12-31 00:00:00         Terminated   \n",
       "\n",
       "      Career Level \\n(1=lowest, 6=highest)\\n           Hired Date  \\\n",
       "0                                          1  2016-04-19 00:00:00   \n",
       "1                                          1  2016-10-19 00:00:00   \n",
       "2                                          1  2016-05-26 00:00:00   \n",
       "3                                          1  2016-10-19 00:00:00   \n",
       "4                                          1  2016-02-06 00:00:00   \n",
       "...                                      ...                  ...   \n",
       "2728                                       6  1988-01-21 00:00:00   \n",
       "2729                                       6  1985-03-13 00:00:00   \n",
       "2730                                       6  1984-08-25 00:00:00   \n",
       "2731                                       6  1986-12-16 00:00:00   \n",
       "2732                                       6  1988-11-16 00:00:00   \n",
       "\n",
       "     Hired in FY\\n(Yes/No)     Termination Date Terminated\\nin FY\\n(Yes/No)  \\\n",
       "0                      Yes                  NaN                          No   \n",
       "1                      Yes                  NaN                          No   \n",
       "2                      Yes                  NaN                          No   \n",
       "3                      Yes                  NaN                          No   \n",
       "4                      Yes                  NaN                          No   \n",
       "...                    ...                  ...                         ...   \n",
       "2728                    No  2016-01-21 00:00:00                         Yes   \n",
       "2729                    No  2016-02-05 00:00:00                         Yes   \n",
       "2730                    No  2016-07-19 00:00:00                         Yes   \n",
       "2731                    No  2016-04-04 00:00:00                         Yes   \n",
       "2732                    No  2016-09-04 00:00:00                         Yes   \n",
       "\n",
       "     Termination Type\\n(Voluntary or Involuntary Exit)       Job Start Date  \\\n",
       "0                                                  NaN  2016-04-19 00:00:00   \n",
       "1                                                  NaN  2016-10-19 00:00:00   \n",
       "2                                                  NaN  2016-05-26 00:00:00   \n",
       "3                                                  NaN  2016-10-19 00:00:00   \n",
       "4                                                  NaN  2016-02-06 00:00:00   \n",
       "...                                                ...                  ...   \n",
       "2728                                  Involuntary Exit  2004-04-03 00:00:00   \n",
       "2729                                  Involuntary Exit  2005-03-13 00:00:00   \n",
       "2730                                  Involuntary Exit  2005-11-06 00:00:00   \n",
       "2731                                  Involuntary Exit  2004-12-16 00:00:00   \n",
       "2732                                  Involuntary Exit  2006-03-06 00:00:00   \n",
       "\n",
       "     Promoted\\nin FY\\n(Yes/No)           Birth Date  Age\\n(Years)  \\\n",
       "0                          NaN  1995-09-01 00:00:00            21   \n",
       "1                          NaN  1994-09-13 00:00:00            22   \n",
       "2                          NaN  1996-04-19 00:00:00            20   \n",
       "3                          NaN  1994-01-21 00:00:00            22   \n",
       "4                          NaN  1993-05-18 00:00:00            23   \n",
       "...                        ...                  ...           ...   \n",
       "2728                        No  1965-01-09 00:00:00            51   \n",
       "2729                        No  1965-02-22 00:00:00            51   \n",
       "2730                        No  1962-03-05 00:00:00            54   \n",
       "2731                        No  1964-08-27 00:00:00            52   \n",
       "2732                        No  1960-11-06 00:00:00            56   \n",
       "\n",
       "      Tenure\\n(Years)  Time in\\nJob (Years)  Rating\\n(1=lowest, 5=highest)  \\\n",
       "0                   0                     0                              3   \n",
       "1                   0                     0                              4   \n",
       "2                   0                     0                              3   \n",
       "3                   0                     0                              3   \n",
       "4                   0                     0                              3   \n",
       "...               ...                   ...                            ...   \n",
       "2728               28                    12                              2   \n",
       "2729               31                    11                              2   \n",
       "2730               32                    11                              2   \n",
       "2731               30                    12                              2   \n",
       "2732               28                    10                              2   \n",
       "\n",
       "     Education\\n(Highest\\nDegree)      Age bins  \n",
       "0                           MA/MS  (20.0, 30.0]  \n",
       "1                           MA/MS  (20.0, 30.0]  \n",
       "2                           BA/BS           NaN  \n",
       "3                           BA/BS  (20.0, 30.0]  \n",
       "4                           BA/BS  (20.0, 30.0]  \n",
       "...                           ...           ...  \n",
       "2728                          PhD  (50.0, 60.0]  \n",
       "2729                          MBA  (50.0, 60.0]  \n",
       "2730                        BA/BS  (50.0, 60.0]  \n",
       "2731                          PhD  (50.0, 60.0]  \n",
       "2732                          PhD  (50.0, 60.0]  \n",
       "\n",
       "[2733 rows x 18 columns]"
      ]
     },
     "execution_count": 16,
     "metadata": {},
     "output_type": "execute_result"
    }
   ],
   "source": [
    "df2"
   ]
  },
  {
   "cell_type": "code",
   "execution_count": 17,
   "metadata": {},
   "outputs": [],
   "source": [
    "#df1['Termination Type\\n(Voluntary or Involuntary Exit)'].value_counts()"
   ]
  },
  {
   "cell_type": "code",
   "execution_count": 18,
   "metadata": {},
   "outputs": [],
   "source": [
    "#df1['Birth Date'].dt.year.apply(lambda x: 2016 - x)"
   ]
  },
  {
   "cell_type": "code",
   "execution_count": 19,
   "metadata": {},
   "outputs": [],
   "source": [
    "#df1['Hired Date'].dt.year.apply(lambda x: 2016 - x)"
   ]
  },
  {
   "cell_type": "code",
   "execution_count": 20,
   "metadata": {},
   "outputs": [],
   "source": [
    "#df1['Job Start Date'].dt.year.apply(lambda x: 2016 -x)"
   ]
  },
  {
   "cell_type": "code",
   "execution_count": 21,
   "metadata": {},
   "outputs": [],
   "source": [
    "df1['Age\\n(Years)'] = df1['Birth Date'].dt.year.apply(lambda x: 2016 - x)"
   ]
  },
  {
   "cell_type": "code",
   "execution_count": 22,
   "metadata": {},
   "outputs": [],
   "source": [
    "df1['Tenure\\n(Years)'] = df1['Hired Date'].dt.year.apply(lambda x: 2016 - x)"
   ]
  },
  {
   "cell_type": "code",
   "execution_count": 23,
   "metadata": {},
   "outputs": [],
   "source": [
    "df1['Time in\\nJob (Years)'] = df1['Job Start Date'].dt.year.apply(lambda x: 2016 -x)"
   ]
  },
  {
   "cell_type": "code",
   "execution_count": 24,
   "metadata": {},
   "outputs": [],
   "source": [
    "#pd.cut(df1['Age\\n(Years)'], bins = [20, 30, 40, 50, 60])"
   ]
  },
  {
   "cell_type": "code",
   "execution_count": 25,
   "metadata": {},
   "outputs": [],
   "source": [
    "df1['Age bins'] = pd.cut(df1['Age\\n(Years)'], bins = [20, 30, 40, 50, 60])"
   ]
  },
  {
   "cell_type": "code",
   "execution_count": 26,
   "metadata": {},
   "outputs": [],
   "source": [
    "#df1['Rating'].unique()"
   ]
  },
  {
   "cell_type": "code",
   "execution_count": 27,
   "metadata": {},
   "outputs": [],
   "source": [
    "#Converting nominal data to ordinal data\n",
    "df1['Rating'].replace(to_replace = ['Significantly Below Target', 'Below Target', 'At Target','Above Target','Significantly Above Target' ], value = [1,2,3,4,5], inplace = True)"
   ]
  },
  {
   "cell_type": "code",
   "execution_count": 28,
   "metadata": {},
   "outputs": [],
   "source": [
    "#print('before')\n",
    "#df1"
   ]
  },
  {
   "cell_type": "code",
   "execution_count": 29,
   "metadata": {},
   "outputs": [
    {
     "name": "stdout",
     "output_type": "stream",
     "text": [
      "after\n"
     ]
    },
    {
     "data": {
      "text/html": [
       "<div>\n",
       "<style scoped>\n",
       "    .dataframe tbody tr th:only-of-type {\n",
       "        vertical-align: middle;\n",
       "    }\n",
       "\n",
       "    .dataframe tbody tr th {\n",
       "        vertical-align: top;\n",
       "    }\n",
       "\n",
       "    .dataframe thead th {\n",
       "        text-align: right;\n",
       "    }\n",
       "</style>\n",
       "<table border=\"1\" class=\"dataframe\">\n",
       "  <thead>\n",
       "    <tr style=\"text-align: right;\">\n",
       "      <th></th>\n",
       "      <th>Employee ID</th>\n",
       "      <th>Data Effective Date</th>\n",
       "      <th>Employee\\nStatus\\n</th>\n",
       "      <th>Career Level \\n(1=lowest, 6=highest)\\n</th>\n",
       "      <th>Hired Date</th>\n",
       "      <th>Hired in FY\\n(Yes/No)</th>\n",
       "      <th>Termination Date</th>\n",
       "      <th>Terminated\\nin FY\\n(Yes/No)</th>\n",
       "      <th>Termination Type\\n(Voluntary or Involuntary Exit)</th>\n",
       "      <th>Job Start Date</th>\n",
       "      <th>Promoted\\nin FY\\n(Yes/No)</th>\n",
       "      <th>Birth Date</th>\n",
       "      <th>Age\\n(Years)</th>\n",
       "      <th>Tenure\\n(Years)</th>\n",
       "      <th>Time in\\nJob (Years)</th>\n",
       "      <th>Rating</th>\n",
       "      <th>Education\\n(Highest\\nDegree)</th>\n",
       "      <th>Age bins</th>\n",
       "    </tr>\n",
       "  </thead>\n",
       "  <tbody>\n",
       "    <tr>\n",
       "      <th>0</th>\n",
       "      <td>A0001</td>\n",
       "      <td>2016-12-31</td>\n",
       "      <td>Active</td>\n",
       "      <td>1</td>\n",
       "      <td>2016-09-12</td>\n",
       "      <td>Yes</td>\n",
       "      <td>NaT</td>\n",
       "      <td>No</td>\n",
       "      <td>NaN</td>\n",
       "      <td>2016-09-12</td>\n",
       "      <td>NaN</td>\n",
       "      <td>1992-09-21</td>\n",
       "      <td>24</td>\n",
       "      <td>0</td>\n",
       "      <td>0</td>\n",
       "      <td>3</td>\n",
       "      <td>BA/BS</td>\n",
       "      <td>(20.0, 30.0]</td>\n",
       "    </tr>\n",
       "    <tr>\n",
       "      <th>1</th>\n",
       "      <td>A0002</td>\n",
       "      <td>2016-12-31</td>\n",
       "      <td>Active</td>\n",
       "      <td>1</td>\n",
       "      <td>2016-04-19</td>\n",
       "      <td>Yes</td>\n",
       "      <td>NaT</td>\n",
       "      <td>No</td>\n",
       "      <td>NaN</td>\n",
       "      <td>2016-04-19</td>\n",
       "      <td>NaN</td>\n",
       "      <td>1993-11-16</td>\n",
       "      <td>23</td>\n",
       "      <td>0</td>\n",
       "      <td>0</td>\n",
       "      <td>3</td>\n",
       "      <td>BA/BS</td>\n",
       "      <td>(20.0, 30.0]</td>\n",
       "    </tr>\n",
       "    <tr>\n",
       "      <th>2</th>\n",
       "      <td>A0003</td>\n",
       "      <td>2016-12-31</td>\n",
       "      <td>Active</td>\n",
       "      <td>1</td>\n",
       "      <td>2016-03-14</td>\n",
       "      <td>Yes</td>\n",
       "      <td>NaT</td>\n",
       "      <td>No</td>\n",
       "      <td>NaN</td>\n",
       "      <td>2016-03-14</td>\n",
       "      <td>NaN</td>\n",
       "      <td>1993-11-26</td>\n",
       "      <td>23</td>\n",
       "      <td>0</td>\n",
       "      <td>0</td>\n",
       "      <td>3</td>\n",
       "      <td>MA/MS</td>\n",
       "      <td>(20.0, 30.0]</td>\n",
       "    </tr>\n",
       "    <tr>\n",
       "      <th>3</th>\n",
       "      <td>A0004</td>\n",
       "      <td>2016-12-31</td>\n",
       "      <td>Active</td>\n",
       "      <td>1</td>\n",
       "      <td>2016-09-12</td>\n",
       "      <td>Yes</td>\n",
       "      <td>NaT</td>\n",
       "      <td>No</td>\n",
       "      <td>NaN</td>\n",
       "      <td>2016-09-12</td>\n",
       "      <td>NaN</td>\n",
       "      <td>1993-03-28</td>\n",
       "      <td>23</td>\n",
       "      <td>0</td>\n",
       "      <td>0</td>\n",
       "      <td>3</td>\n",
       "      <td>BA/BS</td>\n",
       "      <td>(20.0, 30.0]</td>\n",
       "    </tr>\n",
       "    <tr>\n",
       "      <th>4</th>\n",
       "      <td>A0005</td>\n",
       "      <td>2016-12-31</td>\n",
       "      <td>Active</td>\n",
       "      <td>1</td>\n",
       "      <td>2016-04-19</td>\n",
       "      <td>Yes</td>\n",
       "      <td>NaT</td>\n",
       "      <td>No</td>\n",
       "      <td>NaN</td>\n",
       "      <td>2016-04-19</td>\n",
       "      <td>NaN</td>\n",
       "      <td>1992-09-01</td>\n",
       "      <td>24</td>\n",
       "      <td>0</td>\n",
       "      <td>0</td>\n",
       "      <td>3</td>\n",
       "      <td>BA/BS</td>\n",
       "      <td>(20.0, 30.0]</td>\n",
       "    </tr>\n",
       "    <tr>\n",
       "      <th>...</th>\n",
       "      <td>...</td>\n",
       "      <td>...</td>\n",
       "      <td>...</td>\n",
       "      <td>...</td>\n",
       "      <td>...</td>\n",
       "      <td>...</td>\n",
       "      <td>...</td>\n",
       "      <td>...</td>\n",
       "      <td>...</td>\n",
       "      <td>...</td>\n",
       "      <td>...</td>\n",
       "      <td>...</td>\n",
       "      <td>...</td>\n",
       "      <td>...</td>\n",
       "      <td>...</td>\n",
       "      <td>...</td>\n",
       "      <td>...</td>\n",
       "      <td>...</td>\n",
       "    </tr>\n",
       "    <tr>\n",
       "      <th>6323</th>\n",
       "      <td>A6324</td>\n",
       "      <td>2016-12-31</td>\n",
       "      <td>Terminated</td>\n",
       "      <td>6</td>\n",
       "      <td>1981-01-18</td>\n",
       "      <td>No</td>\n",
       "      <td>2016-01-19</td>\n",
       "      <td>Yes</td>\n",
       "      <td>Voluntary Exit</td>\n",
       "      <td>2004-01-19</td>\n",
       "      <td>No</td>\n",
       "      <td>1960-12-18</td>\n",
       "      <td>56</td>\n",
       "      <td>35</td>\n",
       "      <td>12</td>\n",
       "      <td>4</td>\n",
       "      <td>JD</td>\n",
       "      <td>(50.0, 60.0]</td>\n",
       "    </tr>\n",
       "    <tr>\n",
       "      <th>6324</th>\n",
       "      <td>A6325</td>\n",
       "      <td>2016-12-31</td>\n",
       "      <td>Terminated</td>\n",
       "      <td>6</td>\n",
       "      <td>1980-07-07</td>\n",
       "      <td>No</td>\n",
       "      <td>2016-04-25</td>\n",
       "      <td>Yes</td>\n",
       "      <td>Voluntary Exit</td>\n",
       "      <td>2005-08-13</td>\n",
       "      <td>No</td>\n",
       "      <td>1955-04-08</td>\n",
       "      <td>61</td>\n",
       "      <td>36</td>\n",
       "      <td>11</td>\n",
       "      <td>4</td>\n",
       "      <td>BA/BS</td>\n",
       "      <td>NaN</td>\n",
       "    </tr>\n",
       "    <tr>\n",
       "      <th>6325</th>\n",
       "      <td>A6326</td>\n",
       "      <td>2016-12-31</td>\n",
       "      <td>Terminated</td>\n",
       "      <td>6</td>\n",
       "      <td>1991-04-21</td>\n",
       "      <td>No</td>\n",
       "      <td>2016-09-13</td>\n",
       "      <td>Yes</td>\n",
       "      <td>Voluntary Exit</td>\n",
       "      <td>2005-02-06</td>\n",
       "      <td>No</td>\n",
       "      <td>1965-02-25</td>\n",
       "      <td>51</td>\n",
       "      <td>25</td>\n",
       "      <td>11</td>\n",
       "      <td>5</td>\n",
       "      <td>MA/MS</td>\n",
       "      <td>(50.0, 60.0]</td>\n",
       "    </tr>\n",
       "    <tr>\n",
       "      <th>6326</th>\n",
       "      <td>A6327</td>\n",
       "      <td>2016-12-31</td>\n",
       "      <td>Terminated</td>\n",
       "      <td>6</td>\n",
       "      <td>1980-10-30</td>\n",
       "      <td>No</td>\n",
       "      <td>2016-07-12</td>\n",
       "      <td>Yes</td>\n",
       "      <td>Voluntary Exit</td>\n",
       "      <td>2004-01-11</td>\n",
       "      <td>No</td>\n",
       "      <td>1958-01-26</td>\n",
       "      <td>58</td>\n",
       "      <td>36</td>\n",
       "      <td>12</td>\n",
       "      <td>4</td>\n",
       "      <td>MBA</td>\n",
       "      <td>(50.0, 60.0]</td>\n",
       "    </tr>\n",
       "    <tr>\n",
       "      <th>6327</th>\n",
       "      <td>A6328</td>\n",
       "      <td>2016-12-31</td>\n",
       "      <td>Terminated</td>\n",
       "      <td>6</td>\n",
       "      <td>1985-11-12</td>\n",
       "      <td>No</td>\n",
       "      <td>2016-01-25</td>\n",
       "      <td>Yes</td>\n",
       "      <td>Voluntary Exit</td>\n",
       "      <td>2004-08-31</td>\n",
       "      <td>No</td>\n",
       "      <td>1956-07-05</td>\n",
       "      <td>60</td>\n",
       "      <td>31</td>\n",
       "      <td>12</td>\n",
       "      <td>5</td>\n",
       "      <td>BA/BS</td>\n",
       "      <td>(50.0, 60.0]</td>\n",
       "    </tr>\n",
       "  </tbody>\n",
       "</table>\n",
       "<p>6328 rows × 18 columns</p>\n",
       "</div>"
      ],
      "text/plain": [
       "     Employee ID Data Effective Date Employee\\nStatus\\n  \\\n",
       "0          A0001          2016-12-31             Active   \n",
       "1          A0002          2016-12-31             Active   \n",
       "2          A0003          2016-12-31             Active   \n",
       "3          A0004          2016-12-31             Active   \n",
       "4          A0005          2016-12-31             Active   \n",
       "...          ...                 ...                ...   \n",
       "6323       A6324          2016-12-31         Terminated   \n",
       "6324       A6325          2016-12-31         Terminated   \n",
       "6325       A6326          2016-12-31         Terminated   \n",
       "6326       A6327          2016-12-31         Terminated   \n",
       "6327       A6328          2016-12-31         Terminated   \n",
       "\n",
       "      Career Level \\n(1=lowest, 6=highest)\\n Hired Date Hired in FY\\n(Yes/No)  \\\n",
       "0                                          1 2016-09-12                   Yes   \n",
       "1                                          1 2016-04-19                   Yes   \n",
       "2                                          1 2016-03-14                   Yes   \n",
       "3                                          1 2016-09-12                   Yes   \n",
       "4                                          1 2016-04-19                   Yes   \n",
       "...                                      ...        ...                   ...   \n",
       "6323                                       6 1981-01-18                    No   \n",
       "6324                                       6 1980-07-07                    No   \n",
       "6325                                       6 1991-04-21                    No   \n",
       "6326                                       6 1980-10-30                    No   \n",
       "6327                                       6 1985-11-12                    No   \n",
       "\n",
       "     Termination Date Terminated\\nin FY\\n(Yes/No)  \\\n",
       "0                 NaT                          No   \n",
       "1                 NaT                          No   \n",
       "2                 NaT                          No   \n",
       "3                 NaT                          No   \n",
       "4                 NaT                          No   \n",
       "...               ...                         ...   \n",
       "6323       2016-01-19                         Yes   \n",
       "6324       2016-04-25                         Yes   \n",
       "6325       2016-09-13                         Yes   \n",
       "6326       2016-07-12                         Yes   \n",
       "6327       2016-01-25                         Yes   \n",
       "\n",
       "     Termination Type\\n(Voluntary or Involuntary Exit) Job Start Date  \\\n",
       "0                                                  NaN     2016-09-12   \n",
       "1                                                  NaN     2016-04-19   \n",
       "2                                                  NaN     2016-03-14   \n",
       "3                                                  NaN     2016-09-12   \n",
       "4                                                  NaN     2016-04-19   \n",
       "...                                                ...            ...   \n",
       "6323                                    Voluntary Exit     2004-01-19   \n",
       "6324                                    Voluntary Exit     2005-08-13   \n",
       "6325                                    Voluntary Exit     2005-02-06   \n",
       "6326                                    Voluntary Exit     2004-01-11   \n",
       "6327                                    Voluntary Exit     2004-08-31   \n",
       "\n",
       "     Promoted\\nin FY\\n(Yes/No) Birth Date  Age\\n(Years)  Tenure\\n(Years)  \\\n",
       "0                          NaN 1992-09-21            24                0   \n",
       "1                          NaN 1993-11-16            23                0   \n",
       "2                          NaN 1993-11-26            23                0   \n",
       "3                          NaN 1993-03-28            23                0   \n",
       "4                          NaN 1992-09-01            24                0   \n",
       "...                        ...        ...           ...              ...   \n",
       "6323                        No 1960-12-18            56               35   \n",
       "6324                        No 1955-04-08            61               36   \n",
       "6325                        No 1965-02-25            51               25   \n",
       "6326                        No 1958-01-26            58               36   \n",
       "6327                        No 1956-07-05            60               31   \n",
       "\n",
       "      Time in\\nJob (Years)  Rating Education\\n(Highest\\nDegree)      Age bins  \n",
       "0                        0       3                        BA/BS  (20.0, 30.0]  \n",
       "1                        0       3                        BA/BS  (20.0, 30.0]  \n",
       "2                        0       3                        MA/MS  (20.0, 30.0]  \n",
       "3                        0       3                        BA/BS  (20.0, 30.0]  \n",
       "4                        0       3                        BA/BS  (20.0, 30.0]  \n",
       "...                    ...     ...                          ...           ...  \n",
       "6323                    12       4                           JD  (50.0, 60.0]  \n",
       "6324                    11       4                        BA/BS           NaN  \n",
       "6325                    11       5                        MA/MS  (50.0, 60.0]  \n",
       "6326                    12       4                          MBA  (50.0, 60.0]  \n",
       "6327                    12       5                        BA/BS  (50.0, 60.0]  \n",
       "\n",
       "[6328 rows x 18 columns]"
      ]
     },
     "execution_count": 29,
     "metadata": {},
     "output_type": "execute_result"
    }
   ],
   "source": [
    "print('after')\n",
    "df1"
   ]
  },
  {
   "cell_type": "code",
   "execution_count": 30,
   "metadata": {},
   "outputs": [
    {
     "data": {
      "text/plain": [
       "array([ 24,  23,  22,  25,   6,  27,  26,  28,  29,  30,  32,  31,  34,\n",
       "        33,  36,  35,  37,  38,  39,  43,  41,  40,  42,  44, 116,  55,\n",
       "        50,  54,  52,  48,  47,  49,  51,  46,  53,  56,  45,  58,  61,\n",
       "        60], dtype=int64)"
      ]
     },
     "execution_count": 30,
     "metadata": {},
     "output_type": "execute_result"
    }
   ],
   "source": [
    "df1['Age\\n(Years)'].unique()"
   ]
  },
  {
   "cell_type": "code",
   "execution_count": 31,
   "metadata": {},
   "outputs": [],
   "source": [
    "todrop = (df1['Age\\n(Years)'] < 20) | (df1['Age\\n(Years)'] > 65)\n",
    "#todrop.unique()"
   ]
  },
  {
   "cell_type": "code",
   "execution_count": 32,
   "metadata": {},
   "outputs": [],
   "source": [
    "df1 = df1.loc[-todrop]"
   ]
  },
  {
   "cell_type": "code",
   "execution_count": 33,
   "metadata": {},
   "outputs": [],
   "source": [
    "#df1.to_csv('unit1.csv')"
   ]
  },
  {
   "cell_type": "markdown",
   "metadata": {},
   "source": [
    "#### Data Analysis - Overview"
   ]
  },
  {
   "cell_type": "code",
   "execution_count": 34,
   "metadata": {},
   "outputs": [],
   "source": [
    "#df1['Age\\n(Years)'].value_counts()"
   ]
  },
  {
   "cell_type": "code",
   "execution_count": 35,
   "metadata": {},
   "outputs": [
    {
     "data": {
      "text/html": [
       "<div>\n",
       "<style scoped>\n",
       "    .dataframe tbody tr th:only-of-type {\n",
       "        vertical-align: middle;\n",
       "    }\n",
       "\n",
       "    .dataframe tbody tr th {\n",
       "        vertical-align: top;\n",
       "    }\n",
       "\n",
       "    .dataframe thead th {\n",
       "        text-align: right;\n",
       "    }\n",
       "</style>\n",
       "<table border=\"1\" class=\"dataframe\">\n",
       "  <thead>\n",
       "    <tr style=\"text-align: right;\">\n",
       "      <th></th>\n",
       "      <th>Career Level \\n(1=lowest, 6=highest)\\n</th>\n",
       "      <th>Age\\n(Years)</th>\n",
       "      <th>Tenure\\n(Years)</th>\n",
       "      <th>Time in\\nJob (Years)</th>\n",
       "      <th>Rating</th>\n",
       "    </tr>\n",
       "  </thead>\n",
       "  <tbody>\n",
       "    <tr>\n",
       "      <th>Career Level \\n(1=lowest, 6=highest)\\n</th>\n",
       "      <td>1.000000</td>\n",
       "      <td>0.941351</td>\n",
       "      <td>0.920275</td>\n",
       "      <td>0.753845</td>\n",
       "      <td>0.299782</td>\n",
       "    </tr>\n",
       "    <tr>\n",
       "      <th>Age\\n(Years)</th>\n",
       "      <td>0.941351</td>\n",
       "      <td>1.000000</td>\n",
       "      <td>0.964659</td>\n",
       "      <td>0.764087</td>\n",
       "      <td>0.271952</td>\n",
       "    </tr>\n",
       "    <tr>\n",
       "      <th>Tenure\\n(Years)</th>\n",
       "      <td>0.920275</td>\n",
       "      <td>0.964659</td>\n",
       "      <td>1.000000</td>\n",
       "      <td>0.793538</td>\n",
       "      <td>0.284719</td>\n",
       "    </tr>\n",
       "    <tr>\n",
       "      <th>Time in\\nJob (Years)</th>\n",
       "      <td>0.753845</td>\n",
       "      <td>0.764087</td>\n",
       "      <td>0.793538</td>\n",
       "      <td>1.000000</td>\n",
       "      <td>0.136572</td>\n",
       "    </tr>\n",
       "    <tr>\n",
       "      <th>Rating</th>\n",
       "      <td>0.299782</td>\n",
       "      <td>0.271952</td>\n",
       "      <td>0.284719</td>\n",
       "      <td>0.136572</td>\n",
       "      <td>1.000000</td>\n",
       "    </tr>\n",
       "  </tbody>\n",
       "</table>\n",
       "</div>"
      ],
      "text/plain": [
       "                                        Career Level \\n(1=lowest, 6=highest)\\n  \\\n",
       "Career Level \\n(1=lowest, 6=highest)\\n                                1.000000   \n",
       "Age\\n(Years)                                                          0.941351   \n",
       "Tenure\\n(Years)                                                       0.920275   \n",
       "Time in\\nJob (Years)                                                  0.753845   \n",
       "Rating                                                                0.299782   \n",
       "\n",
       "                                        Age\\n(Years)  Tenure\\n(Years)  \\\n",
       "Career Level \\n(1=lowest, 6=highest)\\n      0.941351         0.920275   \n",
       "Age\\n(Years)                                1.000000         0.964659   \n",
       "Tenure\\n(Years)                             0.964659         1.000000   \n",
       "Time in\\nJob (Years)                        0.764087         0.793538   \n",
       "Rating                                      0.271952         0.284719   \n",
       "\n",
       "                                        Time in\\nJob (Years)    Rating  \n",
       "Career Level \\n(1=lowest, 6=highest)\\n              0.753845  0.299782  \n",
       "Age\\n(Years)                                        0.764087  0.271952  \n",
       "Tenure\\n(Years)                                     0.793538  0.284719  \n",
       "Time in\\nJob (Years)                                1.000000  0.136572  \n",
       "Rating                                              0.136572  1.000000  "
      ]
     },
     "execution_count": 35,
     "metadata": {},
     "output_type": "execute_result"
    }
   ],
   "source": [
    "df1.corr()"
   ]
  },
  {
   "cell_type": "code",
   "execution_count": 36,
   "metadata": {},
   "outputs": [
    {
     "data": {
      "text/html": [
       "<div>\n",
       "<style scoped>\n",
       "    .dataframe tbody tr th:only-of-type {\n",
       "        vertical-align: middle;\n",
       "    }\n",
       "\n",
       "    .dataframe tbody tr th {\n",
       "        vertical-align: top;\n",
       "    }\n",
       "\n",
       "    .dataframe thead th {\n",
       "        text-align: right;\n",
       "    }\n",
       "</style>\n",
       "<table border=\"1\" class=\"dataframe\">\n",
       "  <thead>\n",
       "    <tr style=\"text-align: right;\">\n",
       "      <th></th>\n",
       "      <th>Career Level \\n(1=lowest, 6=highest)\\n</th>\n",
       "      <th>Age\\n(Years)</th>\n",
       "      <th>Tenure\\n(Years)</th>\n",
       "      <th>Time in\\nJob (Years)</th>\n",
       "      <th>Rating\\n(1=lowest, 5=highest)</th>\n",
       "    </tr>\n",
       "  </thead>\n",
       "  <tbody>\n",
       "    <tr>\n",
       "      <th>Career Level \\n(1=lowest, 6=highest)\\n</th>\n",
       "      <td>1.000000</td>\n",
       "      <td>0.904213</td>\n",
       "      <td>0.765082</td>\n",
       "      <td>0.582836</td>\n",
       "      <td>0.217539</td>\n",
       "    </tr>\n",
       "    <tr>\n",
       "      <th>Age\\n(Years)</th>\n",
       "      <td>0.904213</td>\n",
       "      <td>1.000000</td>\n",
       "      <td>0.785976</td>\n",
       "      <td>0.622838</td>\n",
       "      <td>0.150206</td>\n",
       "    </tr>\n",
       "    <tr>\n",
       "      <th>Tenure\\n(Years)</th>\n",
       "      <td>0.765082</td>\n",
       "      <td>0.785976</td>\n",
       "      <td>1.000000</td>\n",
       "      <td>0.782486</td>\n",
       "      <td>0.068490</td>\n",
       "    </tr>\n",
       "    <tr>\n",
       "      <th>Time in\\nJob (Years)</th>\n",
       "      <td>0.582836</td>\n",
       "      <td>0.622838</td>\n",
       "      <td>0.782486</td>\n",
       "      <td>1.000000</td>\n",
       "      <td>-0.235412</td>\n",
       "    </tr>\n",
       "    <tr>\n",
       "      <th>Rating\\n(1=lowest, 5=highest)</th>\n",
       "      <td>0.217539</td>\n",
       "      <td>0.150206</td>\n",
       "      <td>0.068490</td>\n",
       "      <td>-0.235412</td>\n",
       "      <td>1.000000</td>\n",
       "    </tr>\n",
       "  </tbody>\n",
       "</table>\n",
       "</div>"
      ],
      "text/plain": [
       "                                        Career Level \\n(1=lowest, 6=highest)\\n  \\\n",
       "Career Level \\n(1=lowest, 6=highest)\\n                                1.000000   \n",
       "Age\\n(Years)                                                          0.904213   \n",
       "Tenure\\n(Years)                                                       0.765082   \n",
       "Time in\\nJob (Years)                                                  0.582836   \n",
       "Rating\\n(1=lowest, 5=highest)                                         0.217539   \n",
       "\n",
       "                                        Age\\n(Years)  Tenure\\n(Years)  \\\n",
       "Career Level \\n(1=lowest, 6=highest)\\n      0.904213         0.765082   \n",
       "Age\\n(Years)                                1.000000         0.785976   \n",
       "Tenure\\n(Years)                             0.785976         1.000000   \n",
       "Time in\\nJob (Years)                        0.622838         0.782486   \n",
       "Rating\\n(1=lowest, 5=highest)               0.150206         0.068490   \n",
       "\n",
       "                                        Time in\\nJob (Years)  \\\n",
       "Career Level \\n(1=lowest, 6=highest)\\n              0.582836   \n",
       "Age\\n(Years)                                        0.622838   \n",
       "Tenure\\n(Years)                                     0.782486   \n",
       "Time in\\nJob (Years)                                1.000000   \n",
       "Rating\\n(1=lowest, 5=highest)                      -0.235412   \n",
       "\n",
       "                                        Rating\\n(1=lowest, 5=highest)  \n",
       "Career Level \\n(1=lowest, 6=highest)\\n                       0.217539  \n",
       "Age\\n(Years)                                                 0.150206  \n",
       "Tenure\\n(Years)                                              0.068490  \n",
       "Time in\\nJob (Years)                                        -0.235412  \n",
       "Rating\\n(1=lowest, 5=highest)                                1.000000  "
      ]
     },
     "execution_count": 36,
     "metadata": {},
     "output_type": "execute_result"
    }
   ],
   "source": [
    "df2.corr()"
   ]
  },
  {
   "cell_type": "code",
   "execution_count": 37,
   "metadata": {},
   "outputs": [],
   "source": [
    "#sns.heatmap(df1.corr())"
   ]
  },
  {
   "cell_type": "code",
   "execution_count": 38,
   "metadata": {},
   "outputs": [],
   "source": [
    "#plt.bar(df1['Age\\n(Years)'].value_counts().index, df1['Age\\n(Years)'].value_counts())"
   ]
  },
  {
   "cell_type": "code",
   "execution_count": 39,
   "metadata": {},
   "outputs": [
    {
     "data": {
      "image/png": "[encoded data removed]",
      "text/plain": [
       "<Figure size 432x288 with 1 Axes>"
      ]
     },
     "metadata": {
      "needs_background": "light"
     },
     "output_type": "display_data"
    }
   ],
   "source": [
    "#fig, (ax1, ax2) =plt.subplots(2)\n",
    "\n",
    "plt.hist(df1['Age\\n(Years)'],bins = 20, range = (20, 60) )\n",
    "#plt.hist(df2['Age\\n(Years)'],bins = 20, range = (20, 60) )\n",
    "plt.xlabel('Age')\n",
    "plt.ylabel('No. of employees')\n",
    "\n",
    "plt.title('Age distribution Unit 1')\n",
    "plt.savefig('Age distribution Unit 1')\n",
    "\n",
    "#plt.legend()"
   ]
  },
  {
   "cell_type": "code",
   "execution_count": 40,
   "metadata": {},
   "outputs": [
    {
     "data": {
      "image/png": "[encoded data removed]",
      "text/plain": [
       "<Figure size 432x288 with 1 Axes>"
      ]
     },
     "metadata": {
      "needs_background": "light"
     },
     "output_type": "display_data"
    }
   ],
   "source": [
    "plt.hist(df2['Age\\n(Years)'],bins = 20, range = (20, 60) )\n",
    "plt.title('Age distribution Unit 2')\n",
    "plt.xlabel('Age')\n",
    "plt.ylabel('No. of employees')\n",
    "\n",
    "#plt.title('Age distribution Unit 1')\n",
    "plt.savefig('Age distribution Unit 2')"
   ]
  },
  {
   "cell_type": "code",
   "execution_count": 41,
   "metadata": {},
   "outputs": [
    {
     "data": {
      "image/png": "[encoded data removed]",
      "text/plain": [
       "<Figure size 432x288 with 1 Axes>"
      ]
     },
     "metadata": {
      "needs_background": "light"
     },
     "output_type": "display_data"
    }
   ],
   "source": [
    "sns.distplot(df1['Age\\n(Years)'])\n",
    "sns.distplot(df2['Age\\n(Years)'])\n",
    "plt.legend(['Unit 1', 'Unit 2'])\n",
    "plt.title('Age distribution - KDE')\n",
    "plt.xlabel('Age')\n",
    "plt.ylabel('Density')\n",
    "plt.savefig('Age distribution - KDE')"
   ]
  },
  {
   "cell_type": "code",
   "execution_count": 42,
   "metadata": {},
   "outputs": [],
   "source": [
    "#df1['Tenure\\n(Years)'].value_counts()"
   ]
  },
  {
   "cell_type": "code",
   "execution_count": 43,
   "metadata": {},
   "outputs": [],
   "source": [
    "#plt.bar(df1['Tenure\\n(Years)'].value_counts().index, df1['Tenure\\n(Years)'].value_counts())"
   ]
  },
  {
   "cell_type": "code",
   "execution_count": 44,
   "metadata": {},
   "outputs": [
    {
     "data": {
      "image/png": "[encoded data removed]",
      "text/plain": [
       "<Figure size 432x288 with 1 Axes>"
      ]
     },
     "metadata": {
      "needs_background": "light"
     },
     "output_type": "display_data"
    }
   ],
   "source": [
    "plt.hist(df1['Tenure\\n(Years)'],bins = 15)\n",
    "plt.xlabel('Tenure (Years)')\n",
    "plt.ylabel('No. of employees')\n",
    "\n",
    "plt.title('Tenure distribution Unit 1')\n",
    "plt.savefig('Tenure distribution Unit 1')"
   ]
  },
  {
   "cell_type": "code",
   "execution_count": 45,
   "metadata": {},
   "outputs": [
    {
     "data": {
      "image/png": "[encoded data removed]",
      "text/plain": [
       "<Figure size 432x288 with 1 Axes>"
      ]
     },
     "metadata": {
      "needs_background": "light"
     },
     "output_type": "display_data"
    }
   ],
   "source": [
    "plt.hist(df2['Tenure\\n(Years)'], bins = 15)\n",
    "plt.xlabel('Tenure (Years)')\n",
    "plt.ylabel('No. of employees')\n",
    "\n",
    "plt.title('Tenure distribution Unit 2')\n",
    "plt.savefig('Tenure distribution Unit 2')"
   ]
  },
  {
   "cell_type": "code",
   "execution_count": 46,
   "metadata": {},
   "outputs": [
    {
     "data": {
      "image/png": "[encoded data removed]",
      "text/plain": [
       "<Figure size 432x288 with 1 Axes>"
      ]
     },
     "metadata": {
      "needs_background": "light"
     },
     "output_type": "display_data"
    }
   ],
   "source": [
    "sns.distplot(df1['Tenure\\n(Years)'], bins =15)\n",
    "sns.distplot(df2['Tenure\\n(Years)'], bins =15)\n",
    "plt.legend(['Unit 1', 'Unit 2'])\n",
    "plt.title('Tenure distribution')\n",
    "#plt.title('Age distribution - KDE')\n",
    "plt.xlabel('Tenure (years)')\n",
    "plt.ylabel('Density')\n",
    "plt.savefig('Tenure distribution - KDE')\n"
   ]
  },
  {
   "cell_type": "code",
   "execution_count": 47,
   "metadata": {},
   "outputs": [],
   "source": [
    "#sns.distplot(df1['Tenure\\n(Years)'], bins = 20, kde = False)\n",
    "#sns.distplot(df1['Age\\n(Years)'])\n",
    "#plt.title('test')\n"
   ]
  },
  {
   "cell_type": "code",
   "execution_count": 48,
   "metadata": {},
   "outputs": [
    {
     "data": {
      "text/plain": [
       "0     1625\n",
       "3      838\n",
       "2      661\n",
       "4      524\n",
       "5      453\n",
       "7      448\n",
       "8      446\n",
       "6      403\n",
       "9      336\n",
       "1      241\n",
       "10     235\n",
       "11     112\n",
       "12       4\n",
       "Name: Time in\\nJob (Years), dtype: int64"
      ]
     },
     "execution_count": 48,
     "metadata": {},
     "output_type": "execute_result"
    }
   ],
   "source": [
    "df1['Time in\\nJob (Years)'].value_counts()"
   ]
  },
  {
   "cell_type": "code",
   "execution_count": 49,
   "metadata": {},
   "outputs": [
    {
     "data": {
      "image/png": "[encoded data removed]",
      "text/plain": [
       "<Figure size 432x288 with 1 Axes>"
      ]
     },
     "metadata": {
      "needs_background": "light"
     },
     "output_type": "display_data"
    }
   ],
   "source": [
    "plt.bar(df1['Time in\\nJob (Years)'].value_counts().index, df1['Time in\\nJob (Years)'].value_counts())\n",
    "#plt.bar(df1['Hired Date'].dt.month.value_counts().index, df1['Hired Date'].dt.month.value_counts())\n",
    "plt.xlabel('Time in job (Years)')\n",
    "plt.ylabel('No. of employees')\n",
    "\n",
    "plt.title('Time in job distribution Unit 1')\n",
    "plt.savefig('Time in job distribution Unit 1')"
   ]
  },
  {
   "cell_type": "code",
   "execution_count": 50,
   "metadata": {},
   "outputs": [
    {
     "data": {
      "image/png": "[encoded data removed]",
      "text/plain": [
       "<Figure size 432x288 with 1 Axes>"
      ]
     },
     "metadata": {
      "needs_background": "light"
     },
     "output_type": "display_data"
    }
   ],
   "source": [
    "plt.bar(df2['Time in\\nJob (Years)'].value_counts().index, df2['Time in\\nJob (Years)'].value_counts())\n",
    "plt.xlabel('Time in job (Years)')\n",
    "plt.ylabel('No. of employees')\n",
    "\n",
    "plt.title('Time in job distribution Unit 2')\n",
    "plt.savefig('Time in job distribution Unit 2')"
   ]
  },
  {
   "cell_type": "code",
   "execution_count": 51,
   "metadata": {},
   "outputs": [
    {
     "data": {
      "text/plain": [
       "Text(27.125, 0.5, 'Density')"
      ]
     },
     "execution_count": 51,
     "metadata": {},
     "output_type": "execute_result"
    },
    {
     "data": {
      "image/png": "[encoded data removed]",
      "text/plain": [
       "<Figure size 432x288 with 1 Axes>"
      ]
     },
     "metadata": {
      "needs_background": "light"
     },
     "output_type": "display_data"
    }
   ],
   "source": [
    "sns.distplot(df1['Time in\\nJob (Years)'])\n",
    "sns.distplot(df2['Time in\\nJob (Years)'])\n",
    "plt.legend(['Unit 1', 'Unit 2'])\n",
    "plt.title('Time in job (years) distribution')\n",
    "plt.savefig('Time in job distribution - density')\n",
    "#plt.title('Tenure distribution')\n",
    "#plt.title('Age distribution - KDE')\n",
    "plt.xlabel('Time in job (years)')\n",
    "plt.ylabel('Density')"
   ]
  },
  {
   "cell_type": "code",
   "execution_count": null,
   "metadata": {},
   "outputs": [],
   "source": []
  },
  {
   "cell_type": "code",
   "execution_count": null,
   "metadata": {},
   "outputs": [],
   "source": []
  },
  {
   "cell_type": "code",
   "execution_count": 52,
   "metadata": {},
   "outputs": [],
   "source": [
    "#sns.countplot(df1['Time in\\nJob (Years)'])"
   ]
  },
  {
   "cell_type": "code",
   "execution_count": 53,
   "metadata": {},
   "outputs": [],
   "source": [
    "#plt.bar(df1['Hired Date'].dt.month.value_counts().index, df1['Hired Date'].dt.month.value_counts())"
   ]
  },
  {
   "cell_type": "code",
   "execution_count": 54,
   "metadata": {},
   "outputs": [
    {
     "data": {
      "image/png": "[encoded data removed]",
      "text/plain": [
       "<Figure size 432x288 with 1 Axes>"
      ]
     },
     "metadata": {
      "needs_background": "light"
     },
     "output_type": "display_data"
    }
   ],
   "source": [
    "plt.bar(df1['Career Level \\n(1=lowest, 6=highest)\\n'].value_counts().index, df1['Career Level \\n(1=lowest, 6=highest)\\n'].value_counts())\n",
    "plt.title('Unit 1 career level distribution ')\n",
    "#plt.bar(df1['Hired Date'].dt.month.value_counts().index, df1['Hired Date'].dt.month.value_counts())\n",
    "plt.xlabel('Career level')\n",
    "plt.ylabel('No. of employees')\n",
    "\n",
    "#plt.title('Time in job distribution Unit 1')\n",
    "plt.savefig('Unit 1 career level distribution')"
   ]
  },
  {
   "cell_type": "code",
   "execution_count": 55,
   "metadata": {},
   "outputs": [
    {
     "data": {
      "image/png": "[encoded data removed]",
      "text/plain": [
       "<Figure size 432x288 with 1 Axes>"
      ]
     },
     "metadata": {
      "needs_background": "light"
     },
     "output_type": "display_data"
    }
   ],
   "source": [
    "plt.bar(df2['Career Level \\n(1=lowest, 6=highest)\\n'].value_counts().index, df2['Career Level \\n(1=lowest, 6=highest)\\n'].value_counts())\n",
    "plt.title('Unit 2 career level distribution')\n",
    "plt.xlabel('Career level')\n",
    "plt.ylabel('No. of employees')\n",
    "\n",
    "#plt.title('Time in job distribution Unit 1')\n",
    "plt.savefig('Unit 2 career level distribution')"
   ]
  },
  {
   "cell_type": "code",
   "execution_count": 56,
   "metadata": {},
   "outputs": [],
   "source": [
    "#sns.distplot(df1['Career Level \\n(1=lowest, 6=highest)\\n'])\n",
    "#sns.distplot(df2['Career Level \\n(1=lowest, 6=highest)\\n'])\n",
    "#plt.legend(['Unit 1', 'Unit 2'])\n",
    "#plt.title('Time in job (years) distribution')"
   ]
  },
  {
   "cell_type": "code",
   "execution_count": null,
   "metadata": {},
   "outputs": [],
   "source": []
  },
  {
   "cell_type": "code",
   "execution_count": 57,
   "metadata": {},
   "outputs": [
    {
     "data": {
      "text/plain": [
       "4    3004\n",
       "3    2578\n",
       "2     373\n",
       "5     358\n",
       "1      13\n",
       "Name: Rating, dtype: int64"
      ]
     },
     "execution_count": 57,
     "metadata": {},
     "output_type": "execute_result"
    }
   ],
   "source": [
    "unit1_ratings = df1['Rating'].value_counts()\n",
    "unit1_ratings"
   ]
  },
  {
   "cell_type": "code",
   "execution_count": 58,
   "metadata": {},
   "outputs": [
    {
     "data": {
      "text/plain": [
       "1      13\n",
       "2     373\n",
       "3    2578\n",
       "4    3004\n",
       "5     358\n",
       "Name: Rating, dtype: int64"
      ]
     },
     "execution_count": 58,
     "metadata": {},
     "output_type": "execute_result"
    }
   ],
   "source": [
    "unit1_ratings[[1,2,3,4,5]]"
   ]
  },
  {
   "cell_type": "code",
   "execution_count": 59,
   "metadata": {},
   "outputs": [
    {
     "data": {
      "image/png": "[encoded data removed]",
      "text/plain": [
       "<Figure size 432x288 with 1 Axes>"
      ]
     },
     "metadata": {
      "needs_background": "light"
     },
     "output_type": "display_data"
    }
   ],
   "source": [
    "plt.bar(unit1_ratings[[1,2,3,4,5]].index, unit1_ratings[[1,2,3,4,5]])\n",
    "#plt.xticks(rotation = 45)\n",
    "plt.title('Unit 1 ratings')\n",
    "\n",
    "plt.xlabel('Ratings')\n",
    "plt.ylabel('No. of employees')\n",
    "plt.savefig('Unit 1 ratings')"
   ]
  },
  {
   "cell_type": "code",
   "execution_count": 60,
   "metadata": {},
   "outputs": [
    {
     "data": {
      "image/png": "[encoded data removed]",
      "text/plain": [
       "<Figure size 432x288 with 1 Axes>"
      ]
     },
     "metadata": {
      "needs_background": "light"
     },
     "output_type": "display_data"
    }
   ],
   "source": [
    "unit2_ratings = df2['Rating\\n(1=lowest, 5=highest)'].value_counts()\n",
    "\n",
    "plt.bar(unit2_ratings[[1,2,3,4,5]].index, unit2_ratings[[1,2,3,4,5]])\n",
    "\n",
    "plt.title('Unit 2 ratings')\n",
    "\n",
    "plt.xlabel('Ratings')\n",
    "plt.ylabel('No. of employees')\n",
    "plt.savefig('Unit 2 ratings')\n"
   ]
  },
  {
   "cell_type": "code",
   "execution_count": null,
   "metadata": {},
   "outputs": [],
   "source": []
  },
  {
   "cell_type": "code",
   "execution_count": 61,
   "metadata": {},
   "outputs": [],
   "source": [
    "#df1['Education\\n(Highest\\nDegree)'].value_counts()"
   ]
  },
  {
   "cell_type": "code",
   "execution_count": 62,
   "metadata": {},
   "outputs": [
    {
     "data": {
      "image/png": "[encoded data removed]",
      "text/plain": [
       "<Figure size 432x288 with 1 Axes>"
      ]
     },
     "metadata": {
      "needs_background": "light"
     },
     "output_type": "display_data"
    }
   ],
   "source": [
    "plt.bar(df1['Education\\n(Highest\\nDegree)'].value_counts().index, ((df1['Education\\n(Highest\\nDegree)'].value_counts())/(df1['Education\\n(Highest\\nDegree)'].value_counts().sum())*100))\n",
    "plt.title('Unit 1 education')\n",
    "plt.yticks(np.arange(0, 100, step =20))\n",
    "\n",
    "#plt.title('Unit 2 ratings')\n",
    "\n",
    "plt.xlabel('Education')\n",
    "plt.ylabel('Percentage (%)')\n",
    "plt.savefig('Unit 1 education')"
   ]
  },
  {
   "cell_type": "code",
   "execution_count": 63,
   "metadata": {},
   "outputs": [
    {
     "data": {
      "image/png": "[encoded data removed]",
      "text/plain": [
       "<Figure size 432x288 with 1 Axes>"
      ]
     },
     "metadata": {
      "needs_background": "light"
     },
     "output_type": "display_data"
    }
   ],
   "source": [
    "plt.bar(df2['Education\\n(Highest\\nDegree)'].value_counts().index, ((df2['Education\\n(Highest\\nDegree)'].value_counts())/(df2['Education\\n(Highest\\nDegree)'].value_counts().sum())*100) )\n",
    "plt.title('Unit 2 education')\n",
    "plt.yticks(np.arange(0, 100, step =20))\n",
    "\n",
    "plt.xlabel('Education')\n",
    "plt.ylabel('Percentage (%)')\n",
    "plt.savefig('Unit 2 education')"
   ]
  },
  {
   "cell_type": "code",
   "execution_count": 64,
   "metadata": {},
   "outputs": [
    {
     "data": {
      "text/html": [
       "<div>\n",
       "<style scoped>\n",
       "    .dataframe tbody tr th:only-of-type {\n",
       "        vertical-align: middle;\n",
       "    }\n",
       "\n",
       "    .dataframe tbody tr th {\n",
       "        vertical-align: top;\n",
       "    }\n",
       "\n",
       "    .dataframe thead th {\n",
       "        text-align: right;\n",
       "    }\n",
       "</style>\n",
       "<table border=\"1\" class=\"dataframe\">\n",
       "  <thead>\n",
       "    <tr style=\"text-align: right;\">\n",
       "      <th></th>\n",
       "      <th>Employee ID</th>\n",
       "      <th>Data Effective Date</th>\n",
       "      <th>Employee\\nStatus\\n</th>\n",
       "      <th>Career Level \\n(1=lowest, 6=highest)\\n</th>\n",
       "      <th>Hired Date</th>\n",
       "      <th>Hired in FY\\n(Yes/No)</th>\n",
       "      <th>Termination Date</th>\n",
       "      <th>Terminated\\nin FY\\n(Yes/No)</th>\n",
       "      <th>Termination Type\\n(Voluntary or Involuntary Exit)</th>\n",
       "      <th>Job Start Date</th>\n",
       "      <th>Promoted\\nin FY\\n(Yes/No)</th>\n",
       "      <th>Birth Date</th>\n",
       "      <th>Age\\n(Years)</th>\n",
       "      <th>Tenure\\n(Years)</th>\n",
       "      <th>Time in\\nJob (Years)</th>\n",
       "      <th>Rating</th>\n",
       "      <th>Education\\n(Highest\\nDegree)</th>\n",
       "      <th>Age bins</th>\n",
       "    </tr>\n",
       "  </thead>\n",
       "  <tbody>\n",
       "    <tr>\n",
       "      <th>0</th>\n",
       "      <td>A0001</td>\n",
       "      <td>2016-12-31</td>\n",
       "      <td>Active</td>\n",
       "      <td>1</td>\n",
       "      <td>2016-09-12</td>\n",
       "      <td>Yes</td>\n",
       "      <td>NaT</td>\n",
       "      <td>No</td>\n",
       "      <td>NaN</td>\n",
       "      <td>2016-09-12</td>\n",
       "      <td>NaN</td>\n",
       "      <td>1992-09-21</td>\n",
       "      <td>24</td>\n",
       "      <td>0</td>\n",
       "      <td>0</td>\n",
       "      <td>3</td>\n",
       "      <td>BA/BS</td>\n",
       "      <td>(20, 30]</td>\n",
       "    </tr>\n",
       "  </tbody>\n",
       "</table>\n",
       "</div>"
      ],
      "text/plain": [
       "  Employee ID Data Effective Date Employee\\nStatus\\n  \\\n",
       "0       A0001          2016-12-31             Active   \n",
       "\n",
       "   Career Level \\n(1=lowest, 6=highest)\\n Hired Date Hired in FY\\n(Yes/No)  \\\n",
       "0                                       1 2016-09-12                   Yes   \n",
       "\n",
       "  Termination Date Terminated\\nin FY\\n(Yes/No)  \\\n",
       "0              NaT                          No   \n",
       "\n",
       "  Termination Type\\n(Voluntary or Involuntary Exit) Job Start Date  \\\n",
       "0                                               NaN     2016-09-12   \n",
       "\n",
       "  Promoted\\nin FY\\n(Yes/No) Birth Date  Age\\n(Years)  Tenure\\n(Years)  \\\n",
       "0                       NaN 1992-09-21            24                0   \n",
       "\n",
       "   Time in\\nJob (Years)  Rating Education\\n(Highest\\nDegree)  Age bins  \n",
       "0                     0       3                        BA/BS  (20, 30]  "
      ]
     },
     "execution_count": 64,
     "metadata": {},
     "output_type": "execute_result"
    }
   ],
   "source": [
    "df1.head(1)"
   ]
  },
  {
   "cell_type": "code",
   "execution_count": 65,
   "metadata": {},
   "outputs": [
    {
     "data": {
      "text/html": [
       "<div>\n",
       "<style scoped>\n",
       "    .dataframe tbody tr th:only-of-type {\n",
       "        vertical-align: middle;\n",
       "    }\n",
       "\n",
       "    .dataframe tbody tr th {\n",
       "        vertical-align: top;\n",
       "    }\n",
       "\n",
       "    .dataframe thead th {\n",
       "        text-align: right;\n",
       "    }\n",
       "</style>\n",
       "<table border=\"1\" class=\"dataframe\">\n",
       "  <thead>\n",
       "    <tr style=\"text-align: right;\">\n",
       "      <th></th>\n",
       "      <th>Employee ID</th>\n",
       "      <th>Data Effective Date</th>\n",
       "      <th>Employee\\nStatus\\n</th>\n",
       "      <th>Career Level \\n(1=lowest, 6=highest)\\n</th>\n",
       "      <th>Hired Date</th>\n",
       "      <th>Hired in FY\\n(Yes/No)</th>\n",
       "      <th>Termination Date</th>\n",
       "      <th>Terminated\\nin FY\\n(Yes/No)</th>\n",
       "      <th>Termination Type\\n(Voluntary or Involuntary Exit)</th>\n",
       "      <th>Job Start Date</th>\n",
       "      <th>Promoted\\nin FY\\n(Yes/No)</th>\n",
       "      <th>Birth Date</th>\n",
       "      <th>Age\\n(Years)</th>\n",
       "      <th>Tenure\\n(Years)</th>\n",
       "      <th>Time in\\nJob (Years)</th>\n",
       "      <th>Rating\\n(1=lowest, 5=highest)</th>\n",
       "      <th>Education\\n(Highest\\nDegree)</th>\n",
       "      <th>Age bins</th>\n",
       "    </tr>\n",
       "  </thead>\n",
       "  <tbody>\n",
       "    <tr>\n",
       "      <th>0</th>\n",
       "      <td>N0001</td>\n",
       "      <td>2016-12-31 00:00:00</td>\n",
       "      <td>Active</td>\n",
       "      <td>1</td>\n",
       "      <td>2016-04-19 00:00:00</td>\n",
       "      <td>Yes</td>\n",
       "      <td>NaN</td>\n",
       "      <td>No</td>\n",
       "      <td>NaN</td>\n",
       "      <td>2016-04-19 00:00:00</td>\n",
       "      <td>NaN</td>\n",
       "      <td>1995-09-01 00:00:00</td>\n",
       "      <td>21</td>\n",
       "      <td>0</td>\n",
       "      <td>0</td>\n",
       "      <td>3</td>\n",
       "      <td>MA/MS</td>\n",
       "      <td>(20, 30]</td>\n",
       "    </tr>\n",
       "  </tbody>\n",
       "</table>\n",
       "</div>"
      ],
      "text/plain": [
       "  Employee ID  Data Effective Date Employee\\nStatus\\n  \\\n",
       "0       N0001  2016-12-31 00:00:00             Active   \n",
       "\n",
       "   Career Level \\n(1=lowest, 6=highest)\\n           Hired Date  \\\n",
       "0                                       1  2016-04-19 00:00:00   \n",
       "\n",
       "  Hired in FY\\n(Yes/No) Termination Date Terminated\\nin FY\\n(Yes/No)  \\\n",
       "0                   Yes              NaN                          No   \n",
       "\n",
       "  Termination Type\\n(Voluntary or Involuntary Exit)       Job Start Date  \\\n",
       "0                                               NaN  2016-04-19 00:00:00   \n",
       "\n",
       "  Promoted\\nin FY\\n(Yes/No)           Birth Date  Age\\n(Years)  \\\n",
       "0                       NaN  1995-09-01 00:00:00            21   \n",
       "\n",
       "   Tenure\\n(Years)  Time in\\nJob (Years)  Rating\\n(1=lowest, 5=highest)  \\\n",
       "0                0                     0                              3   \n",
       "\n",
       "  Education\\n(Highest\\nDegree)  Age bins  \n",
       "0                        MA/MS  (20, 30]  "
      ]
     },
     "execution_count": 65,
     "metadata": {},
     "output_type": "execute_result"
    }
   ],
   "source": [
    "df2.head(1)"
   ]
  },
  {
   "cell_type": "code",
   "execution_count": 66,
   "metadata": {},
   "outputs": [
    {
     "data": {
      "text/plain": [
       "Text(0.5, 1.0, 'Unit 1')"
      ]
     },
     "execution_count": 66,
     "metadata": {},
     "output_type": "execute_result"
    },
    {
     "data": {
      "image/png": "[encoded data removed]",
      "text/plain": [
       "<Figure size 432x288 with 1 Axes>"
      ]
     },
     "metadata": {
      "needs_background": "light"
     },
     "output_type": "display_data"
    }
   ],
   "source": [
    "sns.regplot(x = 'Career Level \\n(1=lowest, 6=highest)\\n' , y = 'Rating', data = df1 )\n",
    "plt.title('Unit 1')"
   ]
  },
  {
   "cell_type": "code",
   "execution_count": 67,
   "metadata": {},
   "outputs": [
    {
     "data": {
      "text/plain": [
       "Text(0.5, 1.0, 'Unit 2')"
      ]
     },
     "execution_count": 67,
     "metadata": {},
     "output_type": "execute_result"
    },
    {
     "data": {
      "image/png": "[encoded data removed]",
      "text/plain": [
       "<Figure size 432x288 with 1 Axes>"
      ]
     },
     "metadata": {
      "needs_background": "light"
     },
     "output_type": "display_data"
    }
   ],
   "source": [
    "sns.regplot(x = 'Career Level \\n(1=lowest, 6=highest)\\n' , y = 'Rating\\n(1=lowest, 5=highest)', data = df2 )\n",
    "plt.title('Unit 2')"
   ]
  },
  {
   "cell_type": "code",
   "execution_count": 68,
   "metadata": {},
   "outputs": [
    {
     "data": {
      "image/png": "[encoded data removed]",
      "text/plain": [
       "<Figure size 432x288 with 1 Axes>"
      ]
     },
     "metadata": {
      "needs_background": "light"
     },
     "output_type": "display_data"
    }
   ],
   "source": [
    "sns.regplot(x = 'Age\\n(Years)' , y = 'Rating', data = df1 )\n",
    "plt.title('Unit 1')\n",
    "plt.yticks([1,2,3,4,5])\n",
    "\n",
    "#plt.xlabel('Age')\n",
    "#plt.ylabel('Percentage (%)')\n",
    "plt.savefig('Unit 1 Rating vs age')"
   ]
  },
  {
   "cell_type": "code",
   "execution_count": 69,
   "metadata": {},
   "outputs": [
    {
     "data": {
      "image/png": "[encoded data removed]",
      "text/plain": [
       "<Figure size 432x288 with 1 Axes>"
      ]
     },
     "metadata": {
      "needs_background": "light"
     },
     "output_type": "display_data"
    }
   ],
   "source": [
    "sns.regplot(x = 'Age\\n(Years)' , y = 'Rating\\n(1=lowest, 5=highest)', data = df2 )\n",
    "plt.title('Unit 2')\n",
    "plt.yticks([1,2,3,4,5])\n",
    "plt.ylabel('Rating')\n",
    "plt.savefig('Unit 2 Rating vs age')"
   ]
  },
  {
   "cell_type": "code",
   "execution_count": 70,
   "metadata": {},
   "outputs": [
    {
     "data": {
      "image/png": "[encoded data removed]",
      "text/plain": [
       "<Figure size 432x288 with 1 Axes>"
      ]
     },
     "metadata": {
      "needs_background": "light"
     },
     "output_type": "display_data"
    }
   ],
   "source": [
    "sns.regplot(x = 'Tenure\\n(Years)' , y = 'Rating', data = df1 )\n",
    "\n",
    "plt.title('Unit 1')\n",
    "plt.yticks([1,2,3,4,5])\n",
    "plt.ylabel('Rating')\n",
    "plt.xlabel('Tenure (years)')\n",
    "plt.savefig('Rating vs tenure unit 1')"
   ]
  },
  {
   "cell_type": "code",
   "execution_count": 71,
   "metadata": {},
   "outputs": [
    {
     "data": {
      "image/png": "[encoded data removed]",
      "text/plain": [
       "<Figure size 432x288 with 1 Axes>"
      ]
     },
     "metadata": {
      "needs_background": "light"
     },
     "output_type": "display_data"
    }
   ],
   "source": [
    "sns.regplot(x = 'Tenure\\n(Years)' , y = 'Rating\\n(1=lowest, 5=highest)', data = df2 )\n",
    "\n",
    "plt.title('Unit 2')\n",
    "plt.yticks([1,2,3,4,5])\n",
    "plt.ylabel('Rating')\n",
    "plt.xlabel('Tenure (years)')\n",
    "plt.savefig('Rating vs tenure unit 2')"
   ]
  },
  {
   "cell_type": "code",
   "execution_count": 72,
   "metadata": {},
   "outputs": [],
   "source": [
    "#sns.regplot(x = 'Tenure\\n(Years)' , y = 'Rating', data = df1 )\n",
    "#sns.regplot(x = 'Tenure\\n(Years)' , y = 'Rating\\n(1=lowest, 5=highest)', data = df2 )"
   ]
  },
  {
   "cell_type": "code",
   "execution_count": 73,
   "metadata": {},
   "outputs": [
    {
     "data": {
      "image/png": "[encoded data removed]",
      "text/plain": [
       "<Figure size 432x288 with 1 Axes>"
      ]
     },
     "metadata": {
      "needs_background": "light"
     },
     "output_type": "display_data"
    }
   ],
   "source": [
    "sns.regplot(x = 'Time in\\nJob (Years)' , y = 'Rating', data = df1 )\n",
    "\n",
    "plt.title('Unit 1')\n",
    "plt.yticks([1,2,3,4,5])\n",
    "plt.ylabel('Rating')\n",
    "plt.xlabel('Time in job (years)')\n",
    "plt.savefig('Rating vs time unit 1')"
   ]
  },
  {
   "cell_type": "code",
   "execution_count": 74,
   "metadata": {},
   "outputs": [
    {
     "data": {
      "image/png": "[encoded data removed]",
      "text/plain": [
       "<Figure size 432x288 with 1 Axes>"
      ]
     },
     "metadata": {
      "needs_background": "light"
     },
     "output_type": "display_data"
    }
   ],
   "source": [
    "sns.regplot(x = 'Time in\\nJob (Years)' , y = 'Rating\\n(1=lowest, 5=highest)', data = df2 )\n",
    "\n",
    "plt.title('Unit 2')\n",
    "plt.yticks([1,2,3,4,5])\n",
    "plt.ylabel('Rating')\n",
    "plt.xlabel('Time in job (years)')\n",
    "plt.savefig('Rating vs time unit 2')"
   ]
  },
  {
   "cell_type": "code",
   "execution_count": 75,
   "metadata": {},
   "outputs": [
    {
     "data": {
      "text/plain": [
       "<matplotlib.axes._subplots.AxesSubplot at 0x1fe7ca665c8>"
      ]
     },
     "execution_count": 75,
     "metadata": {},
     "output_type": "execute_result"
    },
    {
     "data": {
      "image/png": "[encoded data removed]",
      "text/plain": [
       "<Figure size 432x288 with 1 Axes>"
      ]
     },
     "metadata": {
      "needs_background": "light"
     },
     "output_type": "display_data"
    }
   ],
   "source": [
    "sns.regplot(x = 'Time in\\nJob (Years)' , y = 'Rating', data = df1 )\n",
    "sns.regplot(x = 'Time in\\nJob (Years)' , y = 'Rating\\n(1=lowest, 5=highest)', data = df2 )"
   ]
  },
  {
   "cell_type": "code",
   "execution_count": 76,
   "metadata": {},
   "outputs": [
    {
     "data": {
      "text/plain": [
       "<seaborn.axisgrid.FacetGrid at 0x1fe02b97048>"
      ]
     },
     "execution_count": 76,
     "metadata": {},
     "output_type": "execute_result"
    },
    {
     "data": {
      "image/png": "[encoded data removed]",
      "text/plain": [
       "<Figure size 360x360 with 1 Axes>"
      ]
     },
     "metadata": {
      "needs_background": "light"
     },
     "output_type": "display_data"
    }
   ],
   "source": [
    "sns.lmplot(data=df2, x = 'Time in\\nJob (Years)' , y = 'Rating\\n(1=lowest, 5=highest)' )#, col=\"time\", hue=\"smoker\")\n"
   ]
  },
  {
   "cell_type": "code",
   "execution_count": null,
   "metadata": {},
   "outputs": [],
   "source": []
  },
  {
   "cell_type": "code",
   "execution_count": null,
   "metadata": {},
   "outputs": [],
   "source": []
  },
  {
   "cell_type": "markdown",
   "metadata": {},
   "source": [
    "##### The 2016 hire group"
   ]
  },
  {
   "cell_type": "code",
   "execution_count": 77,
   "metadata": {},
   "outputs": [],
   "source": [
    "#df1"
   ]
  },
  {
   "cell_type": "code",
   "execution_count": 78,
   "metadata": {},
   "outputs": [],
   "source": [
    "#df1['Hired in FY\\n(Yes/No)'].value_counts()"
   ]
  },
  {
   "cell_type": "code",
   "execution_count": 79,
   "metadata": {},
   "outputs": [],
   "source": [
    "#df1['Hired in FY\\n(Yes/No)'] == 'Yes'"
   ]
  },
  {
   "cell_type": "code",
   "execution_count": 80,
   "metadata": {},
   "outputs": [],
   "source": [
    "df1_2016hire = df1.loc[df1['Hired in FY\\n(Yes/No)'] == 'Yes']"
   ]
  },
  {
   "cell_type": "code",
   "execution_count": 81,
   "metadata": {},
   "outputs": [],
   "source": [
    "#df1_2016hire"
   ]
  },
  {
   "cell_type": "code",
   "execution_count": 82,
   "metadata": {},
   "outputs": [],
   "source": [
    "df2_2016hire = df2.loc[df2['Hired in FY\\n(Yes/No)'] == 'Yes']"
   ]
  },
  {
   "cell_type": "code",
   "execution_count": null,
   "metadata": {},
   "outputs": [],
   "source": []
  },
  {
   "cell_type": "code",
   "execution_count": null,
   "metadata": {},
   "outputs": [],
   "source": []
  },
  {
   "cell_type": "code",
   "execution_count": 83,
   "metadata": {},
   "outputs": [],
   "source": [
    "#plt.bar(df1_2016hire['Hired Date'].dt.month.value_counts().index, df1_2016hire['Hired Date'].dt.month.value_counts())\n",
    "#plt.title('2016 new hire by months')"
   ]
  },
  {
   "cell_type": "code",
   "execution_count": 84,
   "metadata": {},
   "outputs": [
    {
     "data": {
      "image/png": "[encoded data removed]",
      "text/plain": [
       "<Figure size 432x288 with 1 Axes>"
      ]
     },
     "metadata": {
      "needs_background": "light"
     },
     "output_type": "display_data"
    }
   ],
   "source": [
    "plt.bar(df1_2016hire['Career Level \\n(1=lowest, 6=highest)\\n'].value_counts().index, df1_2016hire['Career Level \\n(1=lowest, 6=highest)\\n'].value_counts())\n",
    "plt.title('Unit 1')\n",
    "plt.xticks([1, 2, 3, 4, 5, 6])\n",
    "\n",
    "\n",
    "#plt.title('Unit 1 ratings')\n",
    "\n",
    "plt.xlabel('Career level')\n",
    "plt.ylabel('No. of employees')\n",
    "plt.savefig('2016 unit 1 career')"
   ]
  },
  {
   "cell_type": "code",
   "execution_count": 85,
   "metadata": {},
   "outputs": [
    {
     "data": {
      "image/png": "[encoded data removed]",
      "text/plain": [
       "<Figure size 432x288 with 1 Axes>"
      ]
     },
     "metadata": {
      "needs_background": "light"
     },
     "output_type": "display_data"
    }
   ],
   "source": [
    "plt.bar(df2_2016hire['Career Level \\n(1=lowest, 6=highest)\\n'].value_counts().index, df2_2016hire['Career Level \\n(1=lowest, 6=highest)\\n'].value_counts())\n",
    "plt.title('Unit 2')\n",
    "\n",
    "#plt.title('Unit 1 ratings')\n",
    "\n",
    "plt.xlabel('Career level')\n",
    "plt.ylabel('No. of employees')\n",
    "plt.savefig('2016 unit 2 career')"
   ]
  },
  {
   "cell_type": "code",
   "execution_count": null,
   "metadata": {},
   "outputs": [],
   "source": []
  },
  {
   "cell_type": "code",
   "execution_count": 86,
   "metadata": {},
   "outputs": [],
   "source": [
    "#plt.bar(df1_2016hire['Age\\n(Years)'].value_counts().index, df1_2016hire['Age\\n(Years)'].value_counts())\n"
   ]
  },
  {
   "cell_type": "code",
   "execution_count": 87,
   "metadata": {},
   "outputs": [
    {
     "data": {
      "text/plain": [
       "(array([ 31., 144., 105.,  49.,  60.,  41.,  36.,  28.,  23.,  27.,  10.,\n",
       "         11.,   5.,   5.,  10.]),\n",
       " array([22., 23., 24., 25., 26., 27., 28., 29., 30., 31., 32., 33., 34.,\n",
       "        35., 36., 37.]),\n",
       " <a list of 15 Patch objects>)"
      ]
     },
     "execution_count": 87,
     "metadata": {},
     "output_type": "execute_result"
    },
    {
     "data": {
      "image/png": "[encoded data removed]",
      "text/plain": [
       "<Figure size 432x288 with 1 Axes>"
      ]
     },
     "metadata": {
      "needs_background": "light"
     },
     "output_type": "display_data"
    }
   ],
   "source": [
    "plt.hist(df1_2016hire['Age\\n(Years)'], 15)"
   ]
  },
  {
   "cell_type": "code",
   "execution_count": 88,
   "metadata": {},
   "outputs": [
    {
     "data": {
      "text/plain": [
       "(array([123., 135., 181., 113.,  84.,  43.,  24.,   8.,   6.,   2.,   4.,\n",
       "          2.,   1.,   0.,   1.]),\n",
       " array([20.        , 22.46666667, 24.93333333, 27.4       , 29.86666667,\n",
       "        32.33333333, 34.8       , 37.26666667, 39.73333333, 42.2       ,\n",
       "        44.66666667, 47.13333333, 49.6       , 52.06666667, 54.53333333,\n",
       "        57.        ]),\n",
       " <a list of 15 Patch objects>)"
      ]
     },
     "execution_count": 88,
     "metadata": {},
     "output_type": "execute_result"
    },
    {
     "data": {
      "image/png": "[encoded data removed]",
      "text/plain": [
       "<Figure size 432x288 with 1 Axes>"
      ]
     },
     "metadata": {
      "needs_background": "light"
     },
     "output_type": "display_data"
    }
   ],
   "source": [
    "plt.hist(df2_2016hire['Age\\n(Years)'], 15)"
   ]
  },
  {
   "cell_type": "code",
   "execution_count": 89,
   "metadata": {},
   "outputs": [
    {
     "data": {
      "text/plain": [
       "Text(0.5, 15.0, 'Age')"
      ]
     },
     "execution_count": 89,
     "metadata": {},
     "output_type": "execute_result"
    },
    {
     "data": {
      "image/png": "[encoded data removed]",
      "text/plain": [
       "<Figure size 432x288 with 1 Axes>"
      ]
     },
     "metadata": {
      "needs_background": "light"
     },
     "output_type": "display_data"
    }
   ],
   "source": [
    "sns.distplot(df1_2016hire['Age\\n(Years)'])\n",
    "sns.distplot(df2_2016hire['Age\\n(Years)'])\n",
    "plt.legend(['Unit 1', 'Unit 2'])\n",
    "plt.title('Age distribution for 2016 new employees')\n",
    "plt.ylabel('Density')\n",
    "\n",
    "#plt.title('Time in job (years) distribution')\n",
    "plt.savefig('2016 age distribution - density')\n",
    "#plt.title('Tenure distribution')\n",
    "#plt.title('Age distribution - KDE')\n",
    "plt.xlabel('Age')\n",
    "#plt.ylabel('Density')"
   ]
  },
  {
   "cell_type": "code",
   "execution_count": null,
   "metadata": {},
   "outputs": [],
   "source": []
  },
  {
   "cell_type": "code",
   "execution_count": 90,
   "metadata": {},
   "outputs": [
    {
     "data": {
      "text/plain": [
       "<BarContainer object of 3 artists>"
      ]
     },
     "execution_count": 90,
     "metadata": {},
     "output_type": "execute_result"
    },
    {
     "data": {
      "image/png": "[encoded data removed]",
      "text/plain": [
       "<Figure size 432x288 with 1 Axes>"
      ]
     },
     "metadata": {
      "needs_background": "light"
     },
     "output_type": "display_data"
    }
   ],
   "source": [
    "plt.bar(df1_2016hire['Education\\n(Highest\\nDegree)'].value_counts().index, df1_2016hire['Education\\n(Highest\\nDegree)'].value_counts())\n"
   ]
  },
  {
   "cell_type": "code",
   "execution_count": 91,
   "metadata": {},
   "outputs": [
    {
     "data": {
      "text/plain": [
       "<BarContainer object of 5 artists>"
      ]
     },
     "execution_count": 91,
     "metadata": {},
     "output_type": "execute_result"
    },
    {
     "data": {
      "image/png": "[encoded data removed]",
      "text/plain": [
       "<Figure size 432x288 with 1 Axes>"
      ]
     },
     "metadata": {
      "needs_background": "light"
     },
     "output_type": "display_data"
    }
   ],
   "source": [
    "plt.bar(df2_2016hire['Education\\n(Highest\\nDegree)'].value_counts().index, df2_2016hire['Education\\n(Highest\\nDegree)'].value_counts())\n"
   ]
  },
  {
   "cell_type": "code",
   "execution_count": null,
   "metadata": {},
   "outputs": [],
   "source": []
  },
  {
   "cell_type": "code",
   "execution_count": null,
   "metadata": {},
   "outputs": [],
   "source": []
  },
  {
   "cell_type": "markdown",
   "metadata": {},
   "source": [
    "##### Promoted in 2016"
   ]
  },
  {
   "cell_type": "code",
   "execution_count": 92,
   "metadata": {},
   "outputs": [],
   "source": [
    "#df1['Promoted\\nin FY\\n(Yes/No)'].value_counts()"
   ]
  },
  {
   "cell_type": "code",
   "execution_count": 93,
   "metadata": {},
   "outputs": [],
   "source": [
    "#df1['Promoted\\nin FY\\n(Yes/No)'] == 'Yes'"
   ]
  },
  {
   "cell_type": "code",
   "execution_count": 94,
   "metadata": {},
   "outputs": [
    {
     "data": {
      "text/html": [
       "<div>\n",
       "<style scoped>\n",
       "    .dataframe tbody tr th:only-of-type {\n",
       "        vertical-align: middle;\n",
       "    }\n",
       "\n",
       "    .dataframe tbody tr th {\n",
       "        vertical-align: top;\n",
       "    }\n",
       "\n",
       "    .dataframe thead th {\n",
       "        text-align: right;\n",
       "    }\n",
       "</style>\n",
       "<table border=\"1\" class=\"dataframe\">\n",
       "  <thead>\n",
       "    <tr style=\"text-align: right;\">\n",
       "      <th></th>\n",
       "      <th>Employee ID</th>\n",
       "      <th>Data Effective Date</th>\n",
       "      <th>Employee\\nStatus\\n</th>\n",
       "      <th>Career Level \\n(1=lowest, 6=highest)\\n</th>\n",
       "      <th>Hired Date</th>\n",
       "      <th>Hired in FY\\n(Yes/No)</th>\n",
       "      <th>Termination Date</th>\n",
       "      <th>Terminated\\nin FY\\n(Yes/No)</th>\n",
       "      <th>Termination Type\\n(Voluntary or Involuntary Exit)</th>\n",
       "      <th>Job Start Date</th>\n",
       "      <th>Promoted\\nin FY\\n(Yes/No)</th>\n",
       "      <th>Birth Date</th>\n",
       "      <th>Age\\n(Years)</th>\n",
       "      <th>Tenure\\n(Years)</th>\n",
       "      <th>Time in\\nJob (Years)</th>\n",
       "      <th>Rating</th>\n",
       "      <th>Education\\n(Highest\\nDegree)</th>\n",
       "      <th>Age bins</th>\n",
       "    </tr>\n",
       "  </thead>\n",
       "  <tbody>\n",
       "    <tr>\n",
       "      <th>1065</th>\n",
       "      <td>A1066</td>\n",
       "      <td>2016-12-31</td>\n",
       "      <td>Active</td>\n",
       "      <td>2</td>\n",
       "      <td>2010-09-13</td>\n",
       "      <td>No</td>\n",
       "      <td>NaT</td>\n",
       "      <td>No</td>\n",
       "      <td>NaN</td>\n",
       "      <td>2016-01-01</td>\n",
       "      <td>Yes</td>\n",
       "      <td>1987-06-15</td>\n",
       "      <td>29</td>\n",
       "      <td>6</td>\n",
       "      <td>0</td>\n",
       "      <td>5</td>\n",
       "      <td>BA/BS</td>\n",
       "      <td>(20, 30]</td>\n",
       "    </tr>\n",
       "    <tr>\n",
       "      <th>1226</th>\n",
       "      <td>A1227</td>\n",
       "      <td>2016-12-31</td>\n",
       "      <td>Active</td>\n",
       "      <td>2</td>\n",
       "      <td>2012-03-14</td>\n",
       "      <td>No</td>\n",
       "      <td>NaT</td>\n",
       "      <td>No</td>\n",
       "      <td>NaN</td>\n",
       "      <td>2016-08-07</td>\n",
       "      <td>Yes</td>\n",
       "      <td>1990-12-01</td>\n",
       "      <td>26</td>\n",
       "      <td>4</td>\n",
       "      <td>0</td>\n",
       "      <td>3</td>\n",
       "      <td>MA/MS</td>\n",
       "      <td>(20, 30]</td>\n",
       "    </tr>\n",
       "    <tr>\n",
       "      <th>1227</th>\n",
       "      <td>A1228</td>\n",
       "      <td>2016-12-31</td>\n",
       "      <td>Active</td>\n",
       "      <td>2</td>\n",
       "      <td>2012-05-26</td>\n",
       "      <td>No</td>\n",
       "      <td>NaT</td>\n",
       "      <td>No</td>\n",
       "      <td>NaN</td>\n",
       "      <td>2016-08-07</td>\n",
       "      <td>Yes</td>\n",
       "      <td>1989-01-28</td>\n",
       "      <td>27</td>\n",
       "      <td>4</td>\n",
       "      <td>0</td>\n",
       "      <td>3</td>\n",
       "      <td>BA/BS</td>\n",
       "      <td>(20, 30]</td>\n",
       "    </tr>\n",
       "    <tr>\n",
       "      <th>1228</th>\n",
       "      <td>A1229</td>\n",
       "      <td>2016-12-31</td>\n",
       "      <td>Active</td>\n",
       "      <td>2</td>\n",
       "      <td>2011-08-08</td>\n",
       "      <td>No</td>\n",
       "      <td>NaT</td>\n",
       "      <td>No</td>\n",
       "      <td>NaN</td>\n",
       "      <td>2016-12-31</td>\n",
       "      <td>Yes</td>\n",
       "      <td>1987-07-12</td>\n",
       "      <td>29</td>\n",
       "      <td>5</td>\n",
       "      <td>0</td>\n",
       "      <td>4</td>\n",
       "      <td>BA/BS</td>\n",
       "      <td>(20, 30]</td>\n",
       "    </tr>\n",
       "    <tr>\n",
       "      <th>1229</th>\n",
       "      <td>A1230</td>\n",
       "      <td>2016-12-31</td>\n",
       "      <td>Active</td>\n",
       "      <td>2</td>\n",
       "      <td>2011-07-02</td>\n",
       "      <td>No</td>\n",
       "      <td>NaT</td>\n",
       "      <td>No</td>\n",
       "      <td>NaN</td>\n",
       "      <td>2016-02-06</td>\n",
       "      <td>Yes</td>\n",
       "      <td>1989-10-23</td>\n",
       "      <td>27</td>\n",
       "      <td>5</td>\n",
       "      <td>0</td>\n",
       "      <td>5</td>\n",
       "      <td>BA/BS</td>\n",
       "      <td>(20, 30]</td>\n",
       "    </tr>\n",
       "  </tbody>\n",
       "</table>\n",
       "</div>"
      ],
      "text/plain": [
       "     Employee ID Data Effective Date Employee\\nStatus\\n  \\\n",
       "1065       A1066          2016-12-31             Active   \n",
       "1226       A1227          2016-12-31             Active   \n",
       "1227       A1228          2016-12-31             Active   \n",
       "1228       A1229          2016-12-31             Active   \n",
       "1229       A1230          2016-12-31             Active   \n",
       "\n",
       "      Career Level \\n(1=lowest, 6=highest)\\n Hired Date Hired in FY\\n(Yes/No)  \\\n",
       "1065                                       2 2010-09-13                    No   \n",
       "1226                                       2 2012-03-14                    No   \n",
       "1227                                       2 2012-05-26                    No   \n",
       "1228                                       2 2011-08-08                    No   \n",
       "1229                                       2 2011-07-02                    No   \n",
       "\n",
       "     Termination Date Terminated\\nin FY\\n(Yes/No)  \\\n",
       "1065              NaT                          No   \n",
       "1226              NaT                          No   \n",
       "1227              NaT                          No   \n",
       "1228              NaT                          No   \n",
       "1229              NaT                          No   \n",
       "\n",
       "     Termination Type\\n(Voluntary or Involuntary Exit) Job Start Date  \\\n",
       "1065                                               NaN     2016-01-01   \n",
       "1226                                               NaN     2016-08-07   \n",
       "1227                                               NaN     2016-08-07   \n",
       "1228                                               NaN     2016-12-31   \n",
       "1229                                               NaN     2016-02-06   \n",
       "\n",
       "     Promoted\\nin FY\\n(Yes/No) Birth Date  Age\\n(Years)  Tenure\\n(Years)  \\\n",
       "1065                       Yes 1987-06-15            29                6   \n",
       "1226                       Yes 1990-12-01            26                4   \n",
       "1227                       Yes 1989-01-28            27                4   \n",
       "1228                       Yes 1987-07-12            29                5   \n",
       "1229                       Yes 1989-10-23            27                5   \n",
       "\n",
       "      Time in\\nJob (Years)  Rating Education\\n(Highest\\nDegree)  Age bins  \n",
       "1065                     0       5                        BA/BS  (20, 30]  \n",
       "1226                     0       3                        MA/MS  (20, 30]  \n",
       "1227                     0       3                        BA/BS  (20, 30]  \n",
       "1228                     0       4                        BA/BS  (20, 30]  \n",
       "1229                     0       5                        BA/BS  (20, 30]  "
      ]
     },
     "execution_count": 94,
     "metadata": {},
     "output_type": "execute_result"
    }
   ],
   "source": [
    "df1_2016promoted = df1.loc[df1['Promoted\\nin FY\\n(Yes/No)'] == 'Yes']\n",
    "df1_2016promoted.head()"
   ]
  },
  {
   "cell_type": "code",
   "execution_count": 95,
   "metadata": {},
   "outputs": [
    {
     "data": {
      "text/html": [
       "<div>\n",
       "<style scoped>\n",
       "    .dataframe tbody tr th:only-of-type {\n",
       "        vertical-align: middle;\n",
       "    }\n",
       "\n",
       "    .dataframe tbody tr th {\n",
       "        vertical-align: top;\n",
       "    }\n",
       "\n",
       "    .dataframe thead th {\n",
       "        text-align: right;\n",
       "    }\n",
       "</style>\n",
       "<table border=\"1\" class=\"dataframe\">\n",
       "  <thead>\n",
       "    <tr style=\"text-align: right;\">\n",
       "      <th></th>\n",
       "      <th>Employee ID</th>\n",
       "      <th>Data Effective Date</th>\n",
       "      <th>Employee\\nStatus\\n</th>\n",
       "      <th>Career Level \\n(1=lowest, 6=highest)\\n</th>\n",
       "      <th>Hired Date</th>\n",
       "      <th>Hired in FY\\n(Yes/No)</th>\n",
       "      <th>Termination Date</th>\n",
       "      <th>Terminated\\nin FY\\n(Yes/No)</th>\n",
       "      <th>Termination Type\\n(Voluntary or Involuntary Exit)</th>\n",
       "      <th>Job Start Date</th>\n",
       "      <th>Promoted\\nin FY\\n(Yes/No)</th>\n",
       "      <th>Birth Date</th>\n",
       "      <th>Age\\n(Years)</th>\n",
       "      <th>Tenure\\n(Years)</th>\n",
       "      <th>Time in\\nJob (Years)</th>\n",
       "      <th>Rating\\n(1=lowest, 5=highest)</th>\n",
       "      <th>Education\\n(Highest\\nDegree)</th>\n",
       "      <th>Age bins</th>\n",
       "    </tr>\n",
       "  </thead>\n",
       "  <tbody>\n",
       "    <tr>\n",
       "      <th>345</th>\n",
       "      <td>N0301</td>\n",
       "      <td>2016-12-31 00:00:00</td>\n",
       "      <td>Active</td>\n",
       "      <td>2</td>\n",
       "      <td>2016-11-24 00:00:00</td>\n",
       "      <td>Yes</td>\n",
       "      <td>NaN</td>\n",
       "      <td>No</td>\n",
       "      <td>NaN</td>\n",
       "      <td>2016-11-24 00:00:00</td>\n",
       "      <td>Yes</td>\n",
       "      <td>1991-05-23 00:00:00</td>\n",
       "      <td>25</td>\n",
       "      <td>0</td>\n",
       "      <td>0</td>\n",
       "      <td>5</td>\n",
       "      <td>BA/BS</td>\n",
       "      <td>(20, 30]</td>\n",
       "    </tr>\n",
       "    <tr>\n",
       "      <th>346</th>\n",
       "      <td>N0302</td>\n",
       "      <td>2016-12-31 00:00:00</td>\n",
       "      <td>Active</td>\n",
       "      <td>2</td>\n",
       "      <td>2016-08-07 00:00:00</td>\n",
       "      <td>Yes</td>\n",
       "      <td>NaN</td>\n",
       "      <td>No</td>\n",
       "      <td>NaN</td>\n",
       "      <td>2016-08-07 00:00:00</td>\n",
       "      <td>Yes</td>\n",
       "      <td>1991-04-23 00:00:00</td>\n",
       "      <td>25</td>\n",
       "      <td>0</td>\n",
       "      <td>0</td>\n",
       "      <td>4</td>\n",
       "      <td>MBA</td>\n",
       "      <td>(20, 30]</td>\n",
       "    </tr>\n",
       "    <tr>\n",
       "      <th>347</th>\n",
       "      <td>N0303</td>\n",
       "      <td>2016-12-31 00:00:00</td>\n",
       "      <td>Active</td>\n",
       "      <td>2</td>\n",
       "      <td>2016-05-26 00:00:00</td>\n",
       "      <td>Yes</td>\n",
       "      <td>NaN</td>\n",
       "      <td>No</td>\n",
       "      <td>NaN</td>\n",
       "      <td>2016-05-26 00:00:00</td>\n",
       "      <td>Yes</td>\n",
       "      <td>1991-10-18 00:00:00</td>\n",
       "      <td>25</td>\n",
       "      <td>0</td>\n",
       "      <td>0</td>\n",
       "      <td>5</td>\n",
       "      <td>BA/BS</td>\n",
       "      <td>(20, 30]</td>\n",
       "    </tr>\n",
       "    <tr>\n",
       "      <th>348</th>\n",
       "      <td>N0304</td>\n",
       "      <td>2016-12-31 00:00:00</td>\n",
       "      <td>Active</td>\n",
       "      <td>2</td>\n",
       "      <td>2016-02-06 00:00:00</td>\n",
       "      <td>Yes</td>\n",
       "      <td>NaN</td>\n",
       "      <td>No</td>\n",
       "      <td>NaN</td>\n",
       "      <td>2016-02-06 00:00:00</td>\n",
       "      <td>Yes</td>\n",
       "      <td>1988-08-18 00:00:00</td>\n",
       "      <td>28</td>\n",
       "      <td>0</td>\n",
       "      <td>0</td>\n",
       "      <td>5</td>\n",
       "      <td>BA/BS</td>\n",
       "      <td>(20, 30]</td>\n",
       "    </tr>\n",
       "    <tr>\n",
       "      <th>349</th>\n",
       "      <td>N0305</td>\n",
       "      <td>2016-12-31 00:00:00</td>\n",
       "      <td>Active</td>\n",
       "      <td>2</td>\n",
       "      <td>2016-08-07 00:00:00</td>\n",
       "      <td>Yes</td>\n",
       "      <td>NaN</td>\n",
       "      <td>No</td>\n",
       "      <td>NaN</td>\n",
       "      <td>2016-08-07 00:00:00</td>\n",
       "      <td>Yes</td>\n",
       "      <td>1990-06-26 00:00:00</td>\n",
       "      <td>26</td>\n",
       "      <td>0</td>\n",
       "      <td>0</td>\n",
       "      <td>5</td>\n",
       "      <td>MA/MS</td>\n",
       "      <td>(20, 30]</td>\n",
       "    </tr>\n",
       "  </tbody>\n",
       "</table>\n",
       "</div>"
      ],
      "text/plain": [
       "    Employee ID  Data Effective Date Employee\\nStatus\\n  \\\n",
       "345       N0301  2016-12-31 00:00:00             Active   \n",
       "346       N0302  2016-12-31 00:00:00             Active   \n",
       "347       N0303  2016-12-31 00:00:00             Active   \n",
       "348       N0304  2016-12-31 00:00:00             Active   \n",
       "349       N0305  2016-12-31 00:00:00             Active   \n",
       "\n",
       "     Career Level \\n(1=lowest, 6=highest)\\n           Hired Date  \\\n",
       "345                                       2  2016-11-24 00:00:00   \n",
       "346                                       2  2016-08-07 00:00:00   \n",
       "347                                       2  2016-05-26 00:00:00   \n",
       "348                                       2  2016-02-06 00:00:00   \n",
       "349                                       2  2016-08-07 00:00:00   \n",
       "\n",
       "    Hired in FY\\n(Yes/No) Termination Date Terminated\\nin FY\\n(Yes/No)  \\\n",
       "345                   Yes              NaN                          No   \n",
       "346                   Yes              NaN                          No   \n",
       "347                   Yes              NaN                          No   \n",
       "348                   Yes              NaN                          No   \n",
       "349                   Yes              NaN                          No   \n",
       "\n",
       "    Termination Type\\n(Voluntary or Involuntary Exit)       Job Start Date  \\\n",
       "345                                               NaN  2016-11-24 00:00:00   \n",
       "346                                               NaN  2016-08-07 00:00:00   \n",
       "347                                               NaN  2016-05-26 00:00:00   \n",
       "348                                               NaN  2016-02-06 00:00:00   \n",
       "349                                               NaN  2016-08-07 00:00:00   \n",
       "\n",
       "    Promoted\\nin FY\\n(Yes/No)           Birth Date  Age\\n(Years)  \\\n",
       "345                       Yes  1991-05-23 00:00:00            25   \n",
       "346                       Yes  1991-04-23 00:00:00            25   \n",
       "347                       Yes  1991-10-18 00:00:00            25   \n",
       "348                       Yes  1988-08-18 00:00:00            28   \n",
       "349                       Yes  1990-06-26 00:00:00            26   \n",
       "\n",
       "     Tenure\\n(Years)  Time in\\nJob (Years)  Rating\\n(1=lowest, 5=highest)  \\\n",
       "345                0                     0                              5   \n",
       "346                0                     0                              4   \n",
       "347                0                     0                              5   \n",
       "348                0                     0                              5   \n",
       "349                0                     0                              5   \n",
       "\n",
       "    Education\\n(Highest\\nDegree)  Age bins  \n",
       "345                        BA/BS  (20, 30]  \n",
       "346                          MBA  (20, 30]  \n",
       "347                        BA/BS  (20, 30]  \n",
       "348                        BA/BS  (20, 30]  \n",
       "349                        MA/MS  (20, 30]  "
      ]
     },
     "execution_count": 95,
     "metadata": {},
     "output_type": "execute_result"
    }
   ],
   "source": [
    "df2_2016promoted = df2.loc[df2['Promoted\\nin FY\\n(Yes/No)'] == 'Yes']\n",
    "df2_2016promoted.head()"
   ]
  },
  {
   "cell_type": "code",
   "execution_count": null,
   "metadata": {},
   "outputs": [],
   "source": []
  },
  {
   "cell_type": "code",
   "execution_count": 96,
   "metadata": {},
   "outputs": [
    {
     "data": {
      "text/plain": [
       "<BarContainer object of 33 artists>"
      ]
     },
     "execution_count": 96,
     "metadata": {},
     "output_type": "execute_result"
    },
    {
     "data": {
      "image/png": "[encoded data removed]",
      "text/plain": [
       "<Figure size 432x288 with 1 Axes>"
      ]
     },
     "metadata": {
      "needs_background": "light"
     },
     "output_type": "display_data"
    }
   ],
   "source": [
    "plt.bar(df1_2016promoted['Age\\n(Years)'].value_counts().index, df1_2016promoted['Age\\n(Years)'].value_counts())"
   ]
  },
  {
   "cell_type": "code",
   "execution_count": 97,
   "metadata": {},
   "outputs": [
    {
     "data": {
      "text/plain": [
       "(array([243., 304., 162., 109.,  44.,  56.,   5.,  11.,  13.,  18.]),\n",
       " array([24. , 27.2, 30.4, 33.6, 36.8, 40. , 43.2, 46.4, 49.6, 52.8, 56. ]),\n",
       " <a list of 10 Patch objects>)"
      ]
     },
     "execution_count": 97,
     "metadata": {},
     "output_type": "execute_result"
    },
    {
     "data": {
      "image/png": "[encoded data removed]",
      "text/plain": [
       "<Figure size 432x288 with 1 Axes>"
      ]
     },
     "metadata": {
      "needs_background": "light"
     },
     "output_type": "display_data"
    }
   ],
   "source": [
    "plt.hist(df1_2016promoted['Age\\n(Years)'])"
   ]
  },
  {
   "cell_type": "code",
   "execution_count": 98,
   "metadata": {},
   "outputs": [
    {
     "data": {
      "text/plain": [
       "(array([125., 194., 176.,  93.,  33.,  25.,   4.,   9.,   6.,   2.]),\n",
       " array([22. , 25.2, 28.4, 31.6, 34.8, 38. , 41.2, 44.4, 47.6, 50.8, 54. ]),\n",
       " <a list of 10 Patch objects>)"
      ]
     },
     "execution_count": 98,
     "metadata": {},
     "output_type": "execute_result"
    },
    {
     "data": {
      "image/png": "[encoded data removed]",
      "text/plain": [
       "<Figure size 432x288 with 1 Axes>"
      ]
     },
     "metadata": {
      "needs_background": "light"
     },
     "output_type": "display_data"
    }
   ],
   "source": [
    "plt.hist(df2_2016promoted['Age\\n(Years)'])"
   ]
  },
  {
   "cell_type": "code",
   "execution_count": 99,
   "metadata": {},
   "outputs": [
    {
     "data": {
      "text/plain": [
       "Text(0.5, 1.0, 'Age distribution')"
      ]
     },
     "execution_count": 99,
     "metadata": {},
     "output_type": "execute_result"
    },
    {
     "data": {
      "image/png": "[encoded data removed]",
      "text/plain": [
       "<Figure size 432x288 with 1 Axes>"
      ]
     },
     "metadata": {
      "needs_background": "light"
     },
     "output_type": "display_data"
    }
   ],
   "source": [
    "sns.distplot(df1_2016promoted['Age\\n(Years)'])\n",
    "sns.distplot(df2_2016promoted['Age\\n(Years)'])\n",
    "plt.legend(['Unit 1', 'Unit 2'])\n",
    "plt.title('Age distribution')"
   ]
  },
  {
   "cell_type": "code",
   "execution_count": 100,
   "metadata": {},
   "outputs": [
    {
     "data": {
      "text/plain": [
       "<BarContainer object of 5 artists>"
      ]
     },
     "execution_count": 100,
     "metadata": {},
     "output_type": "execute_result"
    },
    {
     "data": {
      "image/png": "[encoded data removed]",
      "text/plain": [
       "<Figure size 432x288 with 1 Axes>"
      ]
     },
     "metadata": {
      "needs_background": "light"
     },
     "output_type": "display_data"
    }
   ],
   "source": [
    "plt.bar(df1_2016promoted['Career Level \\n(1=lowest, 6=highest)\\n'].value_counts().index, df1_2016promoted['Career Level \\n(1=lowest, 6=highest)\\n'].value_counts())"
   ]
  },
  {
   "cell_type": "code",
   "execution_count": 101,
   "metadata": {},
   "outputs": [
    {
     "data": {
      "text/plain": [
       "<BarContainer object of 5 artists>"
      ]
     },
     "execution_count": 101,
     "metadata": {},
     "output_type": "execute_result"
    },
    {
     "data": {
      "image/png": "[encoded data removed]",
      "text/plain": [
       "<Figure size 432x288 with 1 Axes>"
      ]
     },
     "metadata": {
      "needs_background": "light"
     },
     "output_type": "display_data"
    }
   ],
   "source": [
    "plt.bar(df2_2016promoted['Career Level \\n(1=lowest, 6=highest)\\n'].value_counts().index, df2_2016promoted['Career Level \\n(1=lowest, 6=highest)\\n'].value_counts())"
   ]
  },
  {
   "cell_type": "code",
   "execution_count": null,
   "metadata": {},
   "outputs": [],
   "source": []
  },
  {
   "cell_type": "code",
   "execution_count": 102,
   "metadata": {},
   "outputs": [
    {
     "data": {
      "text/plain": [
       "<BarContainer object of 32 artists>"
      ]
     },
     "execution_count": 102,
     "metadata": {},
     "output_type": "execute_result"
    },
    {
     "data": {
      "image/png": "[encoded data removed]",
      "text/plain": [
       "<Figure size 432x288 with 1 Axes>"
      ]
     },
     "metadata": {
      "needs_background": "light"
     },
     "output_type": "display_data"
    }
   ],
   "source": [
    "plt.bar(df1_2016promoted['Tenure\\n(Years)'].value_counts().index, df1_2016promoted['Tenure\\n(Years)'].value_counts())"
   ]
  },
  {
   "cell_type": "code",
   "execution_count": 103,
   "metadata": {},
   "outputs": [
    {
     "data": {
      "text/plain": [
       "(array([389., 266., 118.,  53.,  50.,  42.,  13.,  11.,  13.,  10.]),\n",
       " array([ 3. ,  6.1,  9.2, 12.3, 15.4, 18.5, 21.6, 24.7, 27.8, 30.9, 34. ]),\n",
       " <a list of 10 Patch objects>)"
      ]
     },
     "execution_count": 103,
     "metadata": {},
     "output_type": "execute_result"
    },
    {
     "data": {
      "image/png": "[encoded data removed]",
      "text/plain": [
       "<Figure size 432x288 with 1 Axes>"
      ]
     },
     "metadata": {
      "needs_background": "light"
     },
     "output_type": "display_data"
    }
   ],
   "source": [
    "plt.hist(df1_2016promoted['Tenure\\n(Years)'])"
   ]
  },
  {
   "cell_type": "code",
   "execution_count": 104,
   "metadata": {},
   "outputs": [
    {
     "data": {
      "text/plain": [
       "(array([348.,  90., 103.,  57.,  26.,  23.,   8.,   3.,   6.,   3.]),\n",
       " array([ 0. ,  2.8,  5.6,  8.4, 11.2, 14. , 16.8, 19.6, 22.4, 25.2, 28. ]),\n",
       " <a list of 10 Patch objects>)"
      ]
     },
     "execution_count": 104,
     "metadata": {},
     "output_type": "execute_result"
    },
    {
     "data": {
      "image/png": "[encoded data removed]",
      "text/plain": [
       "<Figure size 432x288 with 1 Axes>"
      ]
     },
     "metadata": {
      "needs_background": "light"
     },
     "output_type": "display_data"
    }
   ],
   "source": [
    "plt.hist(df2_2016promoted['Tenure\\n(Years)'])"
   ]
  },
  {
   "cell_type": "code",
   "execution_count": 105,
   "metadata": {},
   "outputs": [
    {
     "data": {
      "text/plain": [
       "Text(0.5, 15.0, 'Density')"
      ]
     },
     "execution_count": 105,
     "metadata": {},
     "output_type": "execute_result"
    },
    {
     "data": {
      "image/png": "[encoded data removed]",
      "text/plain": [
       "<Figure size 432x288 with 1 Axes>"
      ]
     },
     "metadata": {
      "needs_background": "light"
     },
     "output_type": "display_data"
    }
   ],
   "source": [
    "sns.distplot(df1_2016promoted['Tenure\\n(Years)'])\n",
    "sns.distplot(df2_2016promoted['Tenure\\n(Years)'])\n",
    "plt.legend(['Unit 1', 'Unit 2'])\n",
    "plt.title('Tenure distribution of promoted employees - KDE')\n",
    "\n",
    "\n",
    "#plt.title('Age distribution for 2016 new employees')\n",
    "plt.ylabel('Density')\n",
    "\n",
    "#plt.title('Time in job (years) distribution')\n",
    "plt.savefig('2016 promoted tenure - density')\n",
    "#plt.title('Tenure distribution')\n",
    "#plt.title('Age distribution - KDE')\n",
    "plt.xlabel('Density')"
   ]
  },
  {
   "cell_type": "code",
   "execution_count": null,
   "metadata": {},
   "outputs": [],
   "source": []
  },
  {
   "cell_type": "code",
   "execution_count": 106,
   "metadata": {},
   "outputs": [
    {
     "data": {
      "text/plain": [
       "4    584\n",
       "3    217\n",
       "5    158\n",
       "2      6\n",
       "Name: Rating, dtype: int64"
      ]
     },
     "execution_count": 106,
     "metadata": {},
     "output_type": "execute_result"
    }
   ],
   "source": [
    "unit1_2016promotedratings = df1_2016promoted['Rating'].value_counts()\n",
    "unit1_2016promotedratings"
   ]
  },
  {
   "cell_type": "code",
   "execution_count": 107,
   "metadata": {},
   "outputs": [
    {
     "data": {
      "text/plain": [
       "2      6\n",
       "3    217\n",
       "4    584\n",
       "5    158\n",
       "Name: Rating, dtype: int64"
      ]
     },
     "execution_count": 107,
     "metadata": {},
     "output_type": "execute_result"
    }
   ],
   "source": [
    "unit1_2016promotedratings[[2,3,4,5]]"
   ]
  },
  {
   "cell_type": "code",
   "execution_count": 108,
   "metadata": {},
   "outputs": [
    {
     "data": {
      "text/plain": [
       "([<matplotlib.axis.XTick at 0x1fe03f66548>,\n",
       "  <matplotlib.axis.XTick at 0x1fe03f9cb08>,\n",
       "  <matplotlib.axis.XTick at 0x1fe03f9c748>,\n",
       "  <matplotlib.axis.XTick at 0x1fe03fca248>],\n",
       " <a list of 4 Text xticklabel objects>)"
      ]
     },
     "execution_count": 108,
     "metadata": {},
     "output_type": "execute_result"
    },
    {
     "data": {
      "image/png": "[encoded data removed]",
      "text/plain": [
       "<Figure size 432x288 with 1 Axes>"
      ]
     },
     "metadata": {
      "needs_background": "light"
     },
     "output_type": "display_data"
    }
   ],
   "source": [
    "plt.bar(unit1_2016promotedratings[[2,3,4,5]].index, unit1_2016promotedratings[[2,3,4,5]])\n",
    "plt.xticks([2,3,4,5])"
   ]
  },
  {
   "cell_type": "code",
   "execution_count": 109,
   "metadata": {},
   "outputs": [
    {
     "data": {
      "text/plain": [
       "([<matplotlib.axis.XTick at 0x1fe03ffa8c8>,\n",
       "  <matplotlib.axis.XTick at 0x1fe03ff8f88>,\n",
       "  <matplotlib.axis.XTick at 0x1fe03ff8b48>,\n",
       "  <matplotlib.axis.XTick at 0x1fe04025bc8>],\n",
       " <a list of 4 Text xticklabel objects>)"
      ]
     },
     "execution_count": 109,
     "metadata": {},
     "output_type": "execute_result"
    },
    {
     "data": {
      "image/png": "[encoded data removed]",
      "text/plain": [
       "<Figure size 432x288 with 1 Axes>"
      ]
     },
     "metadata": {
      "needs_background": "light"
     },
     "output_type": "display_data"
    }
   ],
   "source": [
    "unit2_2016promotedratings = df2_2016promoted['Rating\\n(1=lowest, 5=highest)'].value_counts()\n",
    "plt.bar(unit2_2016promotedratings[[4,5]].index, unit2_2016promotedratings[[4,5]])\n",
    "plt.xticks([2,3,4,5])"
   ]
  },
  {
   "cell_type": "markdown",
   "metadata": {},
   "source": [
    "##### The voluntary exit group"
   ]
  },
  {
   "cell_type": "markdown",
   "metadata": {},
   "source": [
    "###### All terminations are in 2016"
   ]
  },
  {
   "cell_type": "code",
   "execution_count": 110,
   "metadata": {},
   "outputs": [],
   "source": [
    "#df1['Termination Type\\n(Voluntary or Involuntary Exit)'].value_counts()"
   ]
  },
  {
   "cell_type": "code",
   "execution_count": 111,
   "metadata": {},
   "outputs": [],
   "source": [
    "#df1['Termination Type\\n(Voluntary or Involuntary Exit)'] == 'Voluntary Exit'"
   ]
  },
  {
   "cell_type": "code",
   "execution_count": 112,
   "metadata": {},
   "outputs": [],
   "source": [
    "df1_volexit = df1.loc[df1['Termination Type\\n(Voluntary or Involuntary Exit)'] == 'Voluntary Exit']"
   ]
  },
  {
   "cell_type": "code",
   "execution_count": 113,
   "metadata": {},
   "outputs": [
    {
     "data": {
      "text/html": [
       "<div>\n",
       "<style scoped>\n",
       "    .dataframe tbody tr th:only-of-type {\n",
       "        vertical-align: middle;\n",
       "    }\n",
       "\n",
       "    .dataframe tbody tr th {\n",
       "        vertical-align: top;\n",
       "    }\n",
       "\n",
       "    .dataframe thead th {\n",
       "        text-align: right;\n",
       "    }\n",
       "</style>\n",
       "<table border=\"1\" class=\"dataframe\">\n",
       "  <thead>\n",
       "    <tr style=\"text-align: right;\">\n",
       "      <th></th>\n",
       "      <th>Employee ID</th>\n",
       "      <th>Data Effective Date</th>\n",
       "      <th>Employee\\nStatus\\n</th>\n",
       "      <th>Career Level \\n(1=lowest, 6=highest)\\n</th>\n",
       "      <th>Hired Date</th>\n",
       "      <th>Hired in FY\\n(Yes/No)</th>\n",
       "      <th>Termination Date</th>\n",
       "      <th>Terminated\\nin FY\\n(Yes/No)</th>\n",
       "      <th>Termination Type\\n(Voluntary or Involuntary Exit)</th>\n",
       "      <th>Job Start Date</th>\n",
       "      <th>Promoted\\nin FY\\n(Yes/No)</th>\n",
       "      <th>Birth Date</th>\n",
       "      <th>Age\\n(Years)</th>\n",
       "      <th>Tenure\\n(Years)</th>\n",
       "      <th>Time in\\nJob (Years)</th>\n",
       "      <th>Rating</th>\n",
       "      <th>Education\\n(Highest\\nDegree)</th>\n",
       "      <th>Age bins</th>\n",
       "    </tr>\n",
       "  </thead>\n",
       "  <tbody>\n",
       "    <tr>\n",
       "      <th>5920</th>\n",
       "      <td>A5921</td>\n",
       "      <td>2016-12-31</td>\n",
       "      <td>Terminated</td>\n",
       "      <td>1</td>\n",
       "      <td>2015-11-02</td>\n",
       "      <td>Yes</td>\n",
       "      <td>2016-09-26</td>\n",
       "      <td>Yes</td>\n",
       "      <td>Voluntary Exit</td>\n",
       "      <td>2015-11-02</td>\n",
       "      <td>NaN</td>\n",
       "      <td>1992-06-07</td>\n",
       "      <td>24</td>\n",
       "      <td>1</td>\n",
       "      <td>1</td>\n",
       "      <td>3</td>\n",
       "      <td>BA/BS</td>\n",
       "      <td>(20, 30]</td>\n",
       "    </tr>\n",
       "  </tbody>\n",
       "</table>\n",
       "</div>"
      ],
      "text/plain": [
       "     Employee ID Data Effective Date Employee\\nStatus\\n  \\\n",
       "5920       A5921          2016-12-31         Terminated   \n",
       "\n",
       "      Career Level \\n(1=lowest, 6=highest)\\n Hired Date Hired in FY\\n(Yes/No)  \\\n",
       "5920                                       1 2015-11-02                   Yes   \n",
       "\n",
       "     Termination Date Terminated\\nin FY\\n(Yes/No)  \\\n",
       "5920       2016-09-26                         Yes   \n",
       "\n",
       "     Termination Type\\n(Voluntary or Involuntary Exit) Job Start Date  \\\n",
       "5920                                    Voluntary Exit     2015-11-02   \n",
       "\n",
       "     Promoted\\nin FY\\n(Yes/No) Birth Date  Age\\n(Years)  Tenure\\n(Years)  \\\n",
       "5920                       NaN 1992-06-07            24                1   \n",
       "\n",
       "      Time in\\nJob (Years)  Rating Education\\n(Highest\\nDegree)  Age bins  \n",
       "5920                     1       3                        BA/BS  (20, 30]  "
      ]
     },
     "execution_count": 113,
     "metadata": {},
     "output_type": "execute_result"
    }
   ],
   "source": [
    "df1_volexit.head(1)"
   ]
  },
  {
   "cell_type": "code",
   "execution_count": 114,
   "metadata": {},
   "outputs": [
    {
     "data": {
      "text/plain": [
       "array([nan, 'Voluntary Exit', 'Involuntary Exit'], dtype=object)"
      ]
     },
     "execution_count": 114,
     "metadata": {},
     "output_type": "execute_result"
    }
   ],
   "source": [
    "df1['Termination Type\\n(Voluntary or Involuntary Exit)'].unique()"
   ]
  },
  {
   "cell_type": "code",
   "execution_count": 115,
   "metadata": {},
   "outputs": [],
   "source": [
    "df2_volexit = df2.loc[df2['Termination Type\\n(Voluntary or Involuntary Exit)'] == 'Voluntary Exit']"
   ]
  },
  {
   "cell_type": "code",
   "execution_count": 116,
   "metadata": {},
   "outputs": [
    {
     "data": {
      "text/html": [
       "<div>\n",
       "<style scoped>\n",
       "    .dataframe tbody tr th:only-of-type {\n",
       "        vertical-align: middle;\n",
       "    }\n",
       "\n",
       "    .dataframe tbody tr th {\n",
       "        vertical-align: top;\n",
       "    }\n",
       "\n",
       "    .dataframe thead th {\n",
       "        text-align: right;\n",
       "    }\n",
       "</style>\n",
       "<table border=\"1\" class=\"dataframe\">\n",
       "  <thead>\n",
       "    <tr style=\"text-align: right;\">\n",
       "      <th></th>\n",
       "      <th>Employee ID</th>\n",
       "      <th>Data Effective Date</th>\n",
       "      <th>Employee\\nStatus\\n</th>\n",
       "      <th>Career Level \\n(1=lowest, 6=highest)\\n</th>\n",
       "      <th>Hired Date</th>\n",
       "      <th>Hired in FY\\n(Yes/No)</th>\n",
       "      <th>Termination Date</th>\n",
       "      <th>Terminated\\nin FY\\n(Yes/No)</th>\n",
       "      <th>Termination Type\\n(Voluntary or Involuntary Exit)</th>\n",
       "      <th>Job Start Date</th>\n",
       "      <th>Promoted\\nin FY\\n(Yes/No)</th>\n",
       "      <th>Birth Date</th>\n",
       "      <th>Age\\n(Years)</th>\n",
       "      <th>Tenure\\n(Years)</th>\n",
       "      <th>Time in\\nJob (Years)</th>\n",
       "      <th>Rating\\n(1=lowest, 5=highest)</th>\n",
       "      <th>Education\\n(Highest\\nDegree)</th>\n",
       "      <th>Age bins</th>\n",
       "    </tr>\n",
       "  </thead>\n",
       "  <tbody>\n",
       "    <tr>\n",
       "      <th>300</th>\n",
       "      <td>N2181</td>\n",
       "      <td>2016-12-31 00:00:00</td>\n",
       "      <td>Terminated</td>\n",
       "      <td>1</td>\n",
       "      <td>2016-07-12 00:00:00</td>\n",
       "      <td>Yes</td>\n",
       "      <td>2016-10-30 00:00:00</td>\n",
       "      <td>Yes</td>\n",
       "      <td>Voluntary Exit</td>\n",
       "      <td>2016-07-12 00:00:00</td>\n",
       "      <td>NaN</td>\n",
       "      <td>1993-09-04 00:00:00</td>\n",
       "      <td>23</td>\n",
       "      <td>0</td>\n",
       "      <td>0</td>\n",
       "      <td>2</td>\n",
       "      <td>BA/BS</td>\n",
       "      <td>(20, 30]</td>\n",
       "    </tr>\n",
       "  </tbody>\n",
       "</table>\n",
       "</div>"
      ],
      "text/plain": [
       "    Employee ID  Data Effective Date Employee\\nStatus\\n  \\\n",
       "300       N2181  2016-12-31 00:00:00         Terminated   \n",
       "\n",
       "     Career Level \\n(1=lowest, 6=highest)\\n           Hired Date  \\\n",
       "300                                       1  2016-07-12 00:00:00   \n",
       "\n",
       "    Hired in FY\\n(Yes/No)     Termination Date Terminated\\nin FY\\n(Yes/No)  \\\n",
       "300                   Yes  2016-10-30 00:00:00                         Yes   \n",
       "\n",
       "    Termination Type\\n(Voluntary or Involuntary Exit)       Job Start Date  \\\n",
       "300                                    Voluntary Exit  2016-07-12 00:00:00   \n",
       "\n",
       "    Promoted\\nin FY\\n(Yes/No)           Birth Date  Age\\n(Years)  \\\n",
       "300                       NaN  1993-09-04 00:00:00            23   \n",
       "\n",
       "     Tenure\\n(Years)  Time in\\nJob (Years)  Rating\\n(1=lowest, 5=highest)  \\\n",
       "300                0                     0                              2   \n",
       "\n",
       "    Education\\n(Highest\\nDegree)  Age bins  \n",
       "300                        BA/BS  (20, 30]  "
      ]
     },
     "execution_count": 116,
     "metadata": {},
     "output_type": "execute_result"
    }
   ],
   "source": [
    "df2_volexit.head(1)"
   ]
  },
  {
   "cell_type": "code",
   "execution_count": 117,
   "metadata": {},
   "outputs": [],
   "source": [
    "#df1_volexit['Termination Date'].dt.month.value_counts()"
   ]
  },
  {
   "cell_type": "code",
   "execution_count": 118,
   "metadata": {},
   "outputs": [],
   "source": [
    "#plt.bar(df1_volexit['Termination Date'].dt.month.value_counts().index, df1_volexit['Termination Date'].dt.month.value_counts())"
   ]
  },
  {
   "cell_type": "code",
   "execution_count": 119,
   "metadata": {},
   "outputs": [],
   "source": [
    "#df1_volexit['Age\\n(Years)'].value_counts()"
   ]
  },
  {
   "cell_type": "code",
   "execution_count": 120,
   "metadata": {},
   "outputs": [],
   "source": [
    "#plt.bar(df1_volexit['Age\\n(Years)'].value_counts().index, df1_volexit['Age\\n(Years)'].value_counts())"
   ]
  },
  {
   "cell_type": "code",
   "execution_count": 121,
   "metadata": {},
   "outputs": [
    {
     "data": {
      "text/plain": [
       "(array([ 86., 108.,  74.,  29.,   9.,   9.,   0.,   3.,   1.,   4.]),\n",
       " array([22. , 25.9, 29.8, 33.7, 37.6, 41.5, 45.4, 49.3, 53.2, 57.1, 61. ]),\n",
       " <a list of 10 Patch objects>)"
      ]
     },
     "execution_count": 121,
     "metadata": {},
     "output_type": "execute_result"
    },
    {
     "data": {
      "image/png": "[encoded data removed]",
      "text/plain": [
       "<Figure size 432x288 with 1 Axes>"
      ]
     },
     "metadata": {
      "needs_background": "light"
     },
     "output_type": "display_data"
    }
   ],
   "source": [
    "plt.hist(df1_volexit['Age\\n(Years)'])"
   ]
  },
  {
   "cell_type": "code",
   "execution_count": 122,
   "metadata": {},
   "outputs": [
    {
     "data": {
      "text/plain": [
       "(array([ 8., 33., 70., 28., 20.,  8.,  1.,  0.,  3.,  1.]),\n",
       " array([20. , 23.7, 27.4, 31.1, 34.8, 38.5, 42.2, 45.9, 49.6, 53.3, 57. ]),\n",
       " <a list of 10 Patch objects>)"
      ]
     },
     "execution_count": 122,
     "metadata": {},
     "output_type": "execute_result"
    },
    {
     "data": {
      "image/png": "[encoded data removed]",
      "text/plain": [
       "<Figure size 432x288 with 1 Axes>"
      ]
     },
     "metadata": {
      "needs_background": "light"
     },
     "output_type": "display_data"
    }
   ],
   "source": [
    "plt.hist(df2_volexit['Age\\n(Years)'])"
   ]
  },
  {
   "cell_type": "code",
   "execution_count": 171,
   "metadata": {},
   "outputs": [
    {
     "data": {
      "text/plain": [
       "<matplotlib.axes._subplots.AxesSubplot at 0x1fe05e9fdc8>"
      ]
     },
     "execution_count": 171,
     "metadata": {},
     "output_type": "execute_result"
    },
    {
     "data": {
      "image/png": "[encoded data removed]",
      "text/plain": [
       "<Figure size 432x288 with 1 Axes>"
      ]
     },
     "metadata": {
      "needs_background": "light"
     },
     "output_type": "display_data"
    }
   ],
   "source": [
    "sns.countplot(df2_volexit['Age\\n(Years)'])"
   ]
  },
  {
   "cell_type": "code",
   "execution_count": 172,
   "metadata": {},
   "outputs": [
    {
     "data": {
      "image/png": "[encoded data removed]",
      "text/plain": [
       "<Figure size 432x288 with 1 Axes>"
      ]
     },
     "metadata": {
      "needs_background": "light"
     },
     "output_type": "display_data"
    }
   ],
   "source": [
    "sns.distplot(df1_volexit['Age\\n(Years)'])\n",
    "sns.distplot(df2_volexit['Age\\n(Years)'])\n",
    "plt.legend(['Unit 1', 'Unit 2'])\n",
    "plt.title('Voluntary exit Age distribution')\n",
    "\n",
    "plt.savefig('Voluntary exit age distribution')"
   ]
  },
  {
   "cell_type": "code",
   "execution_count": null,
   "metadata": {},
   "outputs": [],
   "source": []
  },
  {
   "cell_type": "code",
   "execution_count": 124,
   "metadata": {},
   "outputs": [],
   "source": [
    "#df1_volexit['Tenure\\n(Years)'].value_counts()"
   ]
  },
  {
   "cell_type": "code",
   "execution_count": 125,
   "metadata": {},
   "outputs": [],
   "source": [
    "#plt.bar(df1_volexit['Tenure\\n(Years)'].value_counts().index, df1_volexit['Tenure\\n(Years)'].value_counts())"
   ]
  },
  {
   "cell_type": "code",
   "execution_count": 126,
   "metadata": {},
   "outputs": [
    {
     "data": {
      "image/png": "[encoded data removed]",
      "text/plain": [
       "<Figure size 432x288 with 1 Axes>"
      ]
     },
     "metadata": {
      "needs_background": "light"
     },
     "output_type": "display_data"
    }
   ],
   "source": [
    "plt.hist(df1_volexit['Tenure\\n(Years)'])\n",
    "\n",
    "plt.title('Unit 1 voluntary exit employees')\n",
    "plt.ylabel('No. of employees')\n",
    "plt.xlabel('Tenure (years)')\n",
    "\n",
    "plt.savefig('Voluntary exit tenure Unit 1')"
   ]
  },
  {
   "cell_type": "code",
   "execution_count": 127,
   "metadata": {},
   "outputs": [
    {
     "data": {
      "image/png": "[encoded data removed]",
      "text/plain": [
       "<Figure size 432x288 with 1 Axes>"
      ]
     },
     "metadata": {
      "needs_background": "light"
     },
     "output_type": "display_data"
    }
   ],
   "source": [
    "plt.hist(df2_volexit['Tenure\\n(Years)'])\n",
    "\n",
    "plt.title('Unit 2 voluntary exit employees')\n",
    "plt.ylabel('No. of employees')\n",
    "plt.xlabel('Tenure (years)')\n",
    "\n",
    "plt.savefig('Voluntary exit tenure Unit 2')"
   ]
  },
  {
   "cell_type": "code",
   "execution_count": 128,
   "metadata": {},
   "outputs": [
    {
     "data": {
      "image/png": "[encoded data removed]",
      "text/plain": [
       "<Figure size 432x288 with 1 Axes>"
      ]
     },
     "metadata": {
      "needs_background": "light"
     },
     "output_type": "display_data"
    }
   ],
   "source": [
    "sns.distplot(df1_volexit['Tenure\\n(Years)'])\n",
    "sns.distplot(df2_volexit['Tenure\\n(Years)'])\n",
    "plt.legend(['Unit 1', 'Unit 2'])\n",
    "\n",
    "plt.ylabel('Density')\n",
    "plt.xlabel('Tenure (years)')\n",
    "plt.title('Voluntary exit Tenure distribution - KDE')\n",
    "\n",
    "plt.savefig('Voluntary exit tenure density')"
   ]
  },
  {
   "cell_type": "code",
   "execution_count": 129,
   "metadata": {},
   "outputs": [],
   "source": [
    "#df1_volexit['Time in\\nJob (Years)'].value_counts()"
   ]
  },
  {
   "cell_type": "code",
   "execution_count": 130,
   "metadata": {},
   "outputs": [
    {
     "data": {
      "text/plain": [
       "<BarContainer object of 13 artists>"
      ]
     },
     "execution_count": 130,
     "metadata": {},
     "output_type": "execute_result"
    },
    {
     "data": {
      "image/png": "[encoded data removed]",
      "text/plain": [
       "<Figure size 432x288 with 1 Axes>"
      ]
     },
     "metadata": {
      "needs_background": "light"
     },
     "output_type": "display_data"
    }
   ],
   "source": [
    "plt.bar(df1_volexit['Time in\\nJob (Years)'].value_counts().index, df1_volexit['Time in\\nJob (Years)'].value_counts())"
   ]
  },
  {
   "cell_type": "code",
   "execution_count": 131,
   "metadata": {},
   "outputs": [
    {
     "data": {
      "text/plain": [
       "(array([55., 47., 83., 47., 37., 30., 13.,  2.,  1.,  8.]),\n",
       " array([ 0. ,  1.2,  2.4,  3.6,  4.8,  6. ,  7.2,  8.4,  9.6, 10.8, 12. ]),\n",
       " <a list of 10 Patch objects>)"
      ]
     },
     "execution_count": 131,
     "metadata": {},
     "output_type": "execute_result"
    },
    {
     "data": {
      "image/png": "[encoded data removed]",
      "text/plain": [
       "<Figure size 432x288 with 1 Axes>"
      ]
     },
     "metadata": {
      "needs_background": "light"
     },
     "output_type": "display_data"
    }
   ],
   "source": [
    "plt.hist(df1_volexit['Time in\\nJob (Years)'])"
   ]
  },
  {
   "cell_type": "code",
   "execution_count": 132,
   "metadata": {},
   "outputs": [
    {
     "data": {
      "text/plain": [
       "Text(0.5, 1.0, 'Time in job (years) distribution')"
      ]
     },
     "execution_count": 132,
     "metadata": {},
     "output_type": "execute_result"
    },
    {
     "data": {
      "image/png": "[encoded data removed]",
      "text/plain": [
       "<Figure size 432x288 with 1 Axes>"
      ]
     },
     "metadata": {
      "needs_background": "light"
     },
     "output_type": "display_data"
    }
   ],
   "source": [
    "sns.distplot(df1_volexit['Time in\\nJob (Years)'])\n",
    "sns.distplot(df2_volexit['Time in\\nJob (Years)'])\n",
    "plt.legend(['Unit 1', 'Unit 2'])\n",
    "plt.title('Time in job (years) distribution')"
   ]
  },
  {
   "cell_type": "code",
   "execution_count": null,
   "metadata": {},
   "outputs": [],
   "source": []
  },
  {
   "cell_type": "code",
   "execution_count": null,
   "metadata": {},
   "outputs": [],
   "source": []
  },
  {
   "cell_type": "code",
   "execution_count": 133,
   "metadata": {},
   "outputs": [
    {
     "data": {
      "text/plain": [
       "<BarContainer object of 10 artists>"
      ]
     },
     "execution_count": 133,
     "metadata": {},
     "output_type": "execute_result"
    },
    {
     "data": {
      "image/png": "[encoded data removed]",
      "text/plain": [
       "<Figure size 432x288 with 1 Axes>"
      ]
     },
     "metadata": {
      "needs_background": "light"
     },
     "output_type": "display_data"
    }
   ],
   "source": [
    "plt.bar(df2_volexit['Time in\\nJob (Years)'].value_counts().index, df2_volexit['Time in\\nJob (Years)'].value_counts())"
   ]
  },
  {
   "cell_type": "code",
   "execution_count": 134,
   "metadata": {},
   "outputs": [
    {
     "data": {
      "text/plain": [
       "(array([145.,   0.,   3.,  10.,   1.,  10.,   0.,   0.,   1.,   2.]),\n",
       " array([ 0. ,  1.2,  2.4,  3.6,  4.8,  6. ,  7.2,  8.4,  9.6, 10.8, 12. ]),\n",
       " <a list of 10 Patch objects>)"
      ]
     },
     "execution_count": 134,
     "metadata": {},
     "output_type": "execute_result"
    },
    {
     "data": {
      "image/png": "[encoded data removed]",
      "text/plain": [
       "<Figure size 432x288 with 1 Axes>"
      ]
     },
     "metadata": {
      "needs_background": "light"
     },
     "output_type": "display_data"
    }
   ],
   "source": [
    "plt.hist(df2_volexit['Time in\\nJob (Years)'])"
   ]
  },
  {
   "cell_type": "code",
   "execution_count": 135,
   "metadata": {},
   "outputs": [
    {
     "data": {
      "text/plain": [
       "4    162\n",
       "3    102\n",
       "5     50\n",
       "2      9\n",
       "Name: Rating, dtype: int64"
      ]
     },
     "execution_count": 135,
     "metadata": {},
     "output_type": "execute_result"
    }
   ],
   "source": [
    "exit_ratings = df1_volexit['Rating'].value_counts()\n",
    "exit_ratings\n"
   ]
  },
  {
   "cell_type": "code",
   "execution_count": 136,
   "metadata": {},
   "outputs": [
    {
     "data": {
      "text/plain": [
       "2      9\n",
       "3    102\n",
       "4    162\n",
       "5     50\n",
       "Name: Rating, dtype: int64"
      ]
     },
     "execution_count": 136,
     "metadata": {},
     "output_type": "execute_result"
    }
   ],
   "source": [
    "exit_ratings[[2,3,4,5]]"
   ]
  },
  {
   "cell_type": "code",
   "execution_count": 137,
   "metadata": {},
   "outputs": [],
   "source": [
    "#exit_ratings.index[[3,1,0,2]]"
   ]
  },
  {
   "cell_type": "code",
   "execution_count": 138,
   "metadata": {},
   "outputs": [
    {
     "data": {
      "image/png": "[encoded data removed]",
      "text/plain": [
       "<Figure size 432x288 with 1 Axes>"
      ]
     },
     "metadata": {
      "needs_background": "light"
     },
     "output_type": "display_data"
    }
   ],
   "source": [
    "plt.bar(exit_ratings[[2,3,4,5]].index, exit_ratings[[2,3,4,5]])\n",
    "plt.xticks([2,3,4,5])\n",
    "\n",
    "plt.title('Unit 1 exit employee ratings')\n",
    "\n",
    "plt.xlabel('Ratings')\n",
    "plt.ylabel('No. of employees')\n",
    "plt.savefig('exit employee rating unit 1')"
   ]
  },
  {
   "cell_type": "code",
   "execution_count": 139,
   "metadata": {},
   "outputs": [
    {
     "data": {
      "text/plain": [
       "2    105\n",
       "3     67\n",
       "Name: Rating\\n(1=lowest, 5=highest), dtype: int64"
      ]
     },
     "execution_count": 139,
     "metadata": {},
     "output_type": "execute_result"
    }
   ],
   "source": [
    "exit_ratings2 = df2_volexit['Rating\\n(1=lowest, 5=highest)'].value_counts()\n",
    "exit_ratings2"
   ]
  },
  {
   "cell_type": "code",
   "execution_count": 140,
   "metadata": {},
   "outputs": [
    {
     "data": {
      "text/plain": [
       "2    105\n",
       "3     67\n",
       "Name: Rating\\n(1=lowest, 5=highest), dtype: int64"
      ]
     },
     "execution_count": 140,
     "metadata": {},
     "output_type": "execute_result"
    }
   ],
   "source": [
    "exit_ratings2[[2,3]]"
   ]
  },
  {
   "cell_type": "code",
   "execution_count": 141,
   "metadata": {},
   "outputs": [
    {
     "data": {
      "image/png": "[encoded data removed]",
      "text/plain": [
       "<Figure size 432x288 with 1 Axes>"
      ]
     },
     "metadata": {
      "needs_background": "light"
     },
     "output_type": "display_data"
    }
   ],
   "source": [
    "plt.bar(exit_ratings2[[2,3]].index, exit_ratings2[[2,3]])\n",
    "plt.xticks([2,3,4,5])\n",
    "\n",
    "plt.title('Unit 2 exit employee ratings')\n",
    "\n",
    "plt.xlabel('Ratings')\n",
    "plt.ylabel('No. of employees')\n",
    "plt.savefig('exit employee rating unit 2')"
   ]
  },
  {
   "cell_type": "code",
   "execution_count": 142,
   "metadata": {},
   "outputs": [
    {
     "data": {
      "text/plain": [
       "2    88\n",
       "3    84\n",
       "1    81\n",
       "4    44\n",
       "5    18\n",
       "6     8\n",
       "Name: Career Level \\n(1=lowest, 6=highest)\\n, dtype: int64"
      ]
     },
     "execution_count": 142,
     "metadata": {},
     "output_type": "execute_result"
    }
   ],
   "source": [
    "df1_volexit['Career Level \\n(1=lowest, 6=highest)\\n'].value_counts()"
   ]
  },
  {
   "cell_type": "code",
   "execution_count": 143,
   "metadata": {},
   "outputs": [
    {
     "data": {
      "text/plain": [
       "<BarContainer object of 6 artists>"
      ]
     },
     "execution_count": 143,
     "metadata": {},
     "output_type": "execute_result"
    },
    {
     "data": {
      "image/png": "[encoded data removed]",
      "text/plain": [
       "<Figure size 432x288 with 1 Axes>"
      ]
     },
     "metadata": {
      "needs_background": "light"
     },
     "output_type": "display_data"
    }
   ],
   "source": [
    "plt.bar(df1_volexit['Career Level \\n(1=lowest, 6=highest)\\n'].value_counts().index, df1_volexit['Career Level \\n(1=lowest, 6=highest)\\n'].value_counts())"
   ]
  },
  {
   "cell_type": "code",
   "execution_count": 144,
   "metadata": {},
   "outputs": [
    {
     "data": {
      "text/plain": [
       "<BarContainer object of 6 artists>"
      ]
     },
     "execution_count": 144,
     "metadata": {},
     "output_type": "execute_result"
    },
    {
     "data": {
      "image/png": "[encoded data removed]",
      "text/plain": [
       "<Figure size 432x288 with 1 Axes>"
      ]
     },
     "metadata": {
      "needs_background": "light"
     },
     "output_type": "display_data"
    }
   ],
   "source": [
    "plt.bar(df2_volexit['Career Level \\n(1=lowest, 6=highest)\\n'].value_counts().index, df2_volexit['Career Level \\n(1=lowest, 6=highest)\\n'].value_counts())"
   ]
  },
  {
   "cell_type": "code",
   "execution_count": null,
   "metadata": {},
   "outputs": [],
   "source": []
  },
  {
   "cell_type": "code",
   "execution_count": null,
   "metadata": {},
   "outputs": [],
   "source": []
  },
  {
   "cell_type": "code",
   "execution_count": 145,
   "metadata": {},
   "outputs": [
    {
     "data": {
      "text/plain": [
       "BA/BS    223\n",
       "MA/MS     54\n",
       "MBA       42\n",
       "PhD        3\n",
       "JD         1\n",
       "Name: Education\\n(Highest\\nDegree), dtype: int64"
      ]
     },
     "execution_count": 145,
     "metadata": {},
     "output_type": "execute_result"
    }
   ],
   "source": [
    "df1_volexit['Education\\n(Highest\\nDegree)'].value_counts()"
   ]
  },
  {
   "cell_type": "code",
   "execution_count": 146,
   "metadata": {},
   "outputs": [
    {
     "data": {
      "text/plain": [
       "([<matplotlib.axis.YTick at 0x1fe05821a88>,\n",
       "  <matplotlib.axis.YTick at 0x1fe05821108>,\n",
       "  <matplotlib.axis.YTick at 0x1fe0581f348>,\n",
       "  <matplotlib.axis.YTick at 0x1fe0584f448>,\n",
       "  <matplotlib.axis.YTick at 0x1fe0584f7c8>],\n",
       " <a list of 5 Text yticklabel objects>)"
      ]
     },
     "execution_count": 146,
     "metadata": {},
     "output_type": "execute_result"
    },
    {
     "data": {
      "image/png": "[encoded data removed]",
      "text/plain": [
       "<Figure size 432x288 with 1 Axes>"
      ]
     },
     "metadata": {
      "needs_background": "light"
     },
     "output_type": "display_data"
    }
   ],
   "source": [
    "plt.bar(df1_volexit['Education\\n(Highest\\nDegree)'].value_counts().index, ((df1_volexit['Education\\n(Highest\\nDegree)'].value_counts())/(df1_volexit['Education\\n(Highest\\nDegree)'].value_counts().sum())*100))\n",
    "plt.yticks(np.arange(0, 100, step =20))"
   ]
  },
  {
   "cell_type": "code",
   "execution_count": 147,
   "metadata": {},
   "outputs": [
    {
     "data": {
      "text/plain": [
       "([<matplotlib.axis.YTick at 0x1fe05880088>,\n",
       "  <matplotlib.axis.YTick at 0x1fe0584ac08>,\n",
       "  <matplotlib.axis.YTick at 0x1fe058763c8>,\n",
       "  <matplotlib.axis.YTick at 0x1fe058b09c8>,\n",
       "  <matplotlib.axis.YTick at 0x1fe058b0cc8>],\n",
       " <a list of 5 Text yticklabel objects>)"
      ]
     },
     "execution_count": 147,
     "metadata": {},
     "output_type": "execute_result"
    },
    {
     "data": {
      "image/png": "[encoded data removed]",
      "text/plain": [
       "<Figure size 432x288 with 1 Axes>"
      ]
     },
     "metadata": {
      "needs_background": "light"
     },
     "output_type": "display_data"
    }
   ],
   "source": [
    "plt.bar(df2_volexit['Education\\n(Highest\\nDegree)'].value_counts().index, ((df2_volexit['Education\\n(Highest\\nDegree)'].value_counts())/(df2_volexit['Education\\n(Highest\\nDegree)'].value_counts().sum())*100))\n",
    "plt.yticks(np.arange(0, 100, step =20))"
   ]
  },
  {
   "cell_type": "markdown",
   "metadata": {},
   "source": [
    "###### The Involuntary exit group..... those fired"
   ]
  },
  {
   "cell_type": "code",
   "execution_count": 148,
   "metadata": {},
   "outputs": [],
   "source": [
    "df1_fired = df1.loc[df1['Termination Type\\n(Voluntary or Involuntary Exit)'] == 'Involuntary Exit']"
   ]
  },
  {
   "cell_type": "code",
   "execution_count": 149,
   "metadata": {},
   "outputs": [],
   "source": [
    "df2_fired = df2.loc[df2['Termination Type\\n(Voluntary or Involuntary Exit)'] == 'Involuntary Exit']"
   ]
  },
  {
   "cell_type": "code",
   "execution_count": 150,
   "metadata": {},
   "outputs": [
    {
     "data": {
      "text/plain": [
       "(array([ 2., 15., 27., 10., 10.,  4.,  5.,  5.,  4.,  3.]),\n",
       " array([22., 23., 24., 25., 26., 27., 28., 29., 30., 31., 32.]),\n",
       " <a list of 10 Patch objects>)"
      ]
     },
     "execution_count": 150,
     "metadata": {},
     "output_type": "execute_result"
    },
    {
     "data": {
      "image/png": "[encoded data removed]",
      "text/plain": [
       "<Figure size 432x288 with 1 Axes>"
      ]
     },
     "metadata": {
      "needs_background": "light"
     },
     "output_type": "display_data"
    }
   ],
   "source": [
    "plt.hist(df1_fired['Age\\n(Years)'])"
   ]
  },
  {
   "cell_type": "code",
   "execution_count": 151,
   "metadata": {},
   "outputs": [
    {
     "data": {
      "text/plain": [
       "(array([ 71., 105., 129.,  34.,  25.,   6.,   6.,   0.,   3.,   2.]),\n",
       " array([21. , 24.5, 28. , 31.5, 35. , 38.5, 42. , 45.5, 49. , 52.5, 56. ]),\n",
       " <a list of 10 Patch objects>)"
      ]
     },
     "execution_count": 151,
     "metadata": {},
     "output_type": "execute_result"
    },
    {
     "data": {
      "image/png": "[encoded data removed]",
      "text/plain": [
       "<Figure size 432x288 with 1 Axes>"
      ]
     },
     "metadata": {
      "needs_background": "light"
     },
     "output_type": "display_data"
    }
   ],
   "source": [
    "plt.hist(df2_fired['Age\\n(Years)'])"
   ]
  },
  {
   "cell_type": "code",
   "execution_count": 152,
   "metadata": {},
   "outputs": [
    {
     "data": {
      "image/png": "[encoded data removed]",
      "text/plain": [
       "<Figure size 432x288 with 1 Axes>"
      ]
     },
     "metadata": {
      "needs_background": "light"
     },
     "output_type": "display_data"
    }
   ],
   "source": [
    "sns.distplot(df1_fired['Age\\n(Years)'])\n",
    "sns.distplot(df2_fired['Age\\n(Years)'])\n",
    "plt.legend(['Unit 1', 'Unit 2'])\n",
    "plt.ylabel('Density')\n",
    "plt.title('Involuntary exit Age distribution - KDE')\n",
    "plt.savefig('Involuntary exit Age distribution - KDE')"
   ]
  },
  {
   "cell_type": "code",
   "execution_count": 153,
   "metadata": {},
   "outputs": [
    {
     "data": {
      "text/plain": [
       "(array([ 4.,  3.,  6., 37., 11.,  8.,  6.,  6.,  2.,  2.]),\n",
       " array([0. , 0.9, 1.8, 2.7, 3.6, 4.5, 5.4, 6.3, 7.2, 8.1, 9. ]),\n",
       " <a list of 10 Patch objects>)"
      ]
     },
     "execution_count": 153,
     "metadata": {},
     "output_type": "execute_result"
    },
    {
     "data": {
      "image/png": "[encoded data removed]",
      "text/plain": [
       "<Figure size 432x288 with 1 Axes>"
      ]
     },
     "metadata": {
      "needs_background": "light"
     },
     "output_type": "display_data"
    }
   ],
   "source": [
    "plt.hist(df1_fired['Tenure\\n(Years)'])"
   ]
  },
  {
   "cell_type": "code",
   "execution_count": 154,
   "metadata": {},
   "outputs": [
    {
     "data": {
      "text/plain": [
       "(array([139., 115.,  36.,  55.,  17.,  13.,   1.,   0.,   2.,   3.]),\n",
       " array([ 0. ,  3.2,  6.4,  9.6, 12.8, 16. , 19.2, 22.4, 25.6, 28.8, 32. ]),\n",
       " <a list of 10 Patch objects>)"
      ]
     },
     "execution_count": 154,
     "metadata": {},
     "output_type": "execute_result"
    },
    {
     "data": {
      "image/png": "[encoded data removed]",
      "text/plain": [
       "<Figure size 432x288 with 1 Axes>"
      ]
     },
     "metadata": {
      "needs_background": "light"
     },
     "output_type": "display_data"
    }
   ],
   "source": [
    "plt.hist(df2_fired['Tenure\\n(Years)'])"
   ]
  },
  {
   "cell_type": "code",
   "execution_count": 155,
   "metadata": {},
   "outputs": [
    {
     "data": {
      "text/plain": [
       "Text(0.5, 1.0, 'Tenure distribution')"
      ]
     },
     "execution_count": 155,
     "metadata": {},
     "output_type": "execute_result"
    },
    {
     "data": {
      "image/png": "[encoded data removed]",
      "text/plain": [
       "<Figure size 432x288 with 1 Axes>"
      ]
     },
     "metadata": {
      "needs_background": "light"
     },
     "output_type": "display_data"
    }
   ],
   "source": [
    "sns.distplot(df1_fired['Tenure\\n(Years)'])\n",
    "sns.distplot(df2_fired['Tenure\\n(Years)'])\n",
    "plt.legend(['Unit 1', 'Unit 2'])\n",
    "plt.title('Tenure distribution')"
   ]
  },
  {
   "cell_type": "code",
   "execution_count": 156,
   "metadata": {},
   "outputs": [
    {
     "data": {
      "text/plain": [
       "<BarContainer object of 6 artists>"
      ]
     },
     "execution_count": 156,
     "metadata": {},
     "output_type": "execute_result"
    },
    {
     "data": {
      "image/png": "[encoded data removed]",
      "text/plain": [
       "<Figure size 432x288 with 1 Axes>"
      ]
     },
     "metadata": {
      "needs_background": "light"
     },
     "output_type": "display_data"
    }
   ],
   "source": [
    "plt.bar(df1_fired['Time in\\nJob (Years)'].value_counts().index, df1_fired['Time in\\nJob (Years)'].value_counts())"
   ]
  },
  {
   "cell_type": "code",
   "execution_count": 157,
   "metadata": {},
   "outputs": [
    {
     "data": {
      "text/plain": [
       "<BarContainer object of 11 artists>"
      ]
     },
     "execution_count": 157,
     "metadata": {},
     "output_type": "execute_result"
    },
    {
     "data": {
      "image/png": "[encoded data removed]",
      "text/plain": [
       "<Figure size 432x288 with 1 Axes>"
      ]
     },
     "metadata": {
      "needs_background": "light"
     },
     "output_type": "display_data"
    }
   ],
   "source": [
    "plt.bar(df2_fired['Time in\\nJob (Years)'].value_counts().index, df2_fired['Time in\\nJob (Years)'].value_counts())"
   ]
  },
  {
   "cell_type": "code",
   "execution_count": 158,
   "metadata": {},
   "outputs": [
    {
     "data": {
      "text/plain": [
       "(array([ 4.,  9.,  0., 13.,  0., 48., 10.,  0.,  0.,  1.]),\n",
       " array([0. , 0.6, 1.2, 1.8, 2.4, 3. , 3.6, 4.2, 4.8, 5.4, 6. ]),\n",
       " <a list of 10 Patch objects>)"
      ]
     },
     "execution_count": 158,
     "metadata": {},
     "output_type": "execute_result"
    },
    {
     "data": {
      "image/png": "[encoded data removed]",
      "text/plain": [
       "<Figure size 432x288 with 1 Axes>"
      ]
     },
     "metadata": {
      "needs_background": "light"
     },
     "output_type": "display_data"
    }
   ],
   "source": [
    "plt.hist(df1_fired['Time in\\nJob (Years)'])"
   ]
  },
  {
   "cell_type": "code",
   "execution_count": 159,
   "metadata": {},
   "outputs": [
    {
     "data": {
      "text/plain": [
       "(array([113.,  74.,  80.,  68.,  20.,  21.,   0.,   0.,   1.,   4.]),\n",
       " array([ 0. ,  1.2,  2.4,  3.6,  4.8,  6. ,  7.2,  8.4,  9.6, 10.8, 12. ]),\n",
       " <a list of 10 Patch objects>)"
      ]
     },
     "execution_count": 159,
     "metadata": {},
     "output_type": "execute_result"
    },
    {
     "data": {
      "image/png": "[encoded data removed]",
      "text/plain": [
       "<Figure size 432x288 with 1 Axes>"
      ]
     },
     "metadata": {
      "needs_background": "light"
     },
     "output_type": "display_data"
    }
   ],
   "source": [
    "plt.hist(df2_fired['Time in\\nJob (Years)'])"
   ]
  },
  {
   "cell_type": "code",
   "execution_count": 160,
   "metadata": {},
   "outputs": [
    {
     "data": {
      "text/plain": [
       "Text(0.5, 1.0, 'Time in job distribution')"
      ]
     },
     "execution_count": 160,
     "metadata": {},
     "output_type": "execute_result"
    },
    {
     "data": {
      "image/png": "[encoded data removed]",
      "text/plain": [
       "<Figure size 432x288 with 1 Axes>"
      ]
     },
     "metadata": {
      "needs_background": "light"
     },
     "output_type": "display_data"
    }
   ],
   "source": [
    "sns.distplot(df1_fired['Time in\\nJob (Years)'])\n",
    "sns.distplot(df2_fired['Time in\\nJob (Years)'])\n",
    "plt.legend(['Unit 1', 'Unit 2'])\n",
    "plt.title('Time in job distribution')"
   ]
  },
  {
   "cell_type": "code",
   "execution_count": 161,
   "metadata": {},
   "outputs": [
    {
     "data": {
      "text/plain": [
       "2    32\n",
       "3    30\n",
       "4    15\n",
       "1     8\n",
       "Name: Rating, dtype: int64"
      ]
     },
     "execution_count": 161,
     "metadata": {},
     "output_type": "execute_result"
    }
   ],
   "source": [
    "fired_ratings1 = df1_fired['Rating'].value_counts()\n",
    "fired_ratings1\n"
   ]
  },
  {
   "cell_type": "code",
   "execution_count": 162,
   "metadata": {},
   "outputs": [
    {
     "data": {
      "text/plain": [
       "1     8\n",
       "2    32\n",
       "3    30\n",
       "4    15\n",
       "Name: Rating, dtype: int64"
      ]
     },
     "execution_count": 162,
     "metadata": {},
     "output_type": "execute_result"
    }
   ],
   "source": [
    "fired_ratings1[[1,2,3,4]]"
   ]
  },
  {
   "cell_type": "code",
   "execution_count": 163,
   "metadata": {},
   "outputs": [
    {
     "data": {
      "text/plain": [
       "([<matplotlib.axis.XTick at 0x1fe05c55848>,\n",
       "  <matplotlib.axis.XTick at 0x1fe05be5cc8>,\n",
       "  <matplotlib.axis.XTick at 0x1fe05c69308>,\n",
       "  <matplotlib.axis.XTick at 0x1fe05c96908>],\n",
       " <a list of 4 Text xticklabel objects>)"
      ]
     },
     "execution_count": 163,
     "metadata": {},
     "output_type": "execute_result"
    },
    {
     "data": {
      "image/png": "[encoded data removed]",
      "text/plain": [
       "<Figure size 432x288 with 1 Axes>"
      ]
     },
     "metadata": {
      "needs_background": "light"
     },
     "output_type": "display_data"
    }
   ],
   "source": [
    "plt.bar(fired_ratings1[[1,2,3,4]].index, fired_ratings1[[1,2,3,4]])\n",
    "plt.xticks([1,2,3,4])"
   ]
  },
  {
   "cell_type": "code",
   "execution_count": 164,
   "metadata": {},
   "outputs": [
    {
     "data": {
      "text/plain": [
       "2    361\n",
       "1     20\n",
       "Name: Rating\\n(1=lowest, 5=highest), dtype: int64"
      ]
     },
     "execution_count": 164,
     "metadata": {},
     "output_type": "execute_result"
    }
   ],
   "source": [
    "fired_ratings2 = df2_fired['Rating\\n(1=lowest, 5=highest)'].value_counts()\n",
    "fired_ratings2"
   ]
  },
  {
   "cell_type": "code",
   "execution_count": 165,
   "metadata": {},
   "outputs": [
    {
     "data": {
      "text/plain": [
       "1     20\n",
       "2    361\n",
       "Name: Rating\\n(1=lowest, 5=highest), dtype: int64"
      ]
     },
     "execution_count": 165,
     "metadata": {},
     "output_type": "execute_result"
    }
   ],
   "source": [
    "fired_ratings2[[1,2]]"
   ]
  },
  {
   "cell_type": "code",
   "execution_count": 166,
   "metadata": {},
   "outputs": [
    {
     "data": {
      "text/plain": [
       "([<matplotlib.axis.XTick at 0x1fe05cb6748>,\n",
       "  <matplotlib.axis.XTick at 0x1fe05cc8688>,\n",
       "  <matplotlib.axis.XTick at 0x1fe05cc82c8>,\n",
       "  <matplotlib.axis.XTick at 0x1fe05cf4788>,\n",
       "  <matplotlib.axis.XTick at 0x1fe05cf7308>,\n",
       "  <matplotlib.axis.XTick at 0x1fe05cf4f08>],\n",
       " <a list of 6 Text xticklabel objects>)"
      ]
     },
     "execution_count": 166,
     "metadata": {},
     "output_type": "execute_result"
    },
    {
     "data": {
      "image/png": "[encoded data removed]",
      "text/plain": [
       "<Figure size 432x288 with 1 Axes>"
      ]
     },
     "metadata": {
      "needs_background": "light"
     },
     "output_type": "display_data"
    }
   ],
   "source": [
    "plt.bar(fired_ratings2[[1,2]].index, fired_ratings2[[1,2]])\n",
    "plt.xticks([1,2,3,4,5,6])"
   ]
  },
  {
   "cell_type": "code",
   "execution_count": 167,
   "metadata": {},
   "outputs": [
    {
     "data": {
      "image/png": "[encoded data removed]",
      "text/plain": [
       "<Figure size 432x288 with 1 Axes>"
      ]
     },
     "metadata": {
      "needs_background": "light"
     },
     "output_type": "display_data"
    }
   ],
   "source": [
    "plt.bar(df1_fired['Career Level \\n(1=lowest, 6=highest)\\n'].value_counts().index, df1_fired['Career Level \\n(1=lowest, 6=highest)\\n'].value_counts())\n",
    "plt.xticks([1,2,3,4,5,6])\n",
    "\n",
    "plt.title('Unit 1 involuntary exit career level')\n",
    "\n",
    "plt.xlabel('Career level')\n",
    "plt.ylabel('No. of employees')\n",
    "plt.savefig('Unit 1 involuntary exit career level')"
   ]
  },
  {
   "cell_type": "code",
   "execution_count": 168,
   "metadata": {},
   "outputs": [
    {
     "data": {
      "image/png": "[encoded data removed]",
      "text/plain": [
       "<Figure size 432x288 with 1 Axes>"
      ]
     },
     "metadata": {
      "needs_background": "light"
     },
     "output_type": "display_data"
    }
   ],
   "source": [
    "plt.bar(df2_fired['Career Level \\n(1=lowest, 6=highest)\\n'].value_counts().index, df2_fired['Career Level \\n(1=lowest, 6=highest)\\n'].value_counts())\n",
    "\n",
    "plt.title('Unit 2 involuntary exit career level')\n",
    "\n",
    "plt.xlabel('Career level')\n",
    "plt.ylabel('No. of employees')\n",
    "plt.savefig('Unit 2 involuntary exit career level')"
   ]
  },
  {
   "cell_type": "code",
   "execution_count": 169,
   "metadata": {},
   "outputs": [
    {
     "data": {
      "text/plain": [
       "Text(0, 0.5, 'Percentage %')"
      ]
     },
     "execution_count": 169,
     "metadata": {},
     "output_type": "execute_result"
    },
    {
     "data": {
      "image/png": "[encoded data removed]",
      "text/plain": [
       "<Figure size 432x288 with 1 Axes>"
      ]
     },
     "metadata": {
      "needs_background": "light"
     },
     "output_type": "display_data"
    }
   ],
   "source": [
    "plt.bar(df1_fired['Education\\n(Highest\\nDegree)'].value_counts().index, ((df1_fired['Education\\n(Highest\\nDegree)'].value_counts())/(df1_fired['Education\\n(Highest\\nDegree)'].value_counts().sum())*100))\n",
    "plt.yticks(np.arange(0, 100, step =20))\n",
    "plt.ylabel('Percentage %')"
   ]
  },
  {
   "cell_type": "code",
   "execution_count": 170,
   "metadata": {},
   "outputs": [
    {
     "data": {
      "text/plain": [
       "Text(0, 0.5, 'Percentage %')"
      ]
     },
     "execution_count": 170,
     "metadata": {},
     "output_type": "execute_result"
    },
    {
     "data": {
      "image/png": "[encoded data removed]",
      "text/plain": [
       "<Figure size 432x288 with 1 Axes>"
      ]
     },
     "metadata": {
      "needs_background": "light"
     },
     "output_type": "display_data"
    }
   ],
   "source": [
    "plt.bar(df2_fired['Education\\n(Highest\\nDegree)'].value_counts().index, ((df2_fired['Education\\n(Highest\\nDegree)'].value_counts())/(df2_fired['Education\\n(Highest\\nDegree)'].value_counts().sum())*100))\n",
    "plt.yticks(np.arange(0, 100, step =20))\n",
    "plt.ylabel('Percentage %')"
   ]
  }
 ],
 "metadata": {
  "kernelspec": {
   "display_name": "Python 3",
   "language": "python",
   "name": "python3"
  },
  "language_info": {
   "codemirror_mode": {
    "name": "ipython",
    "version": 3
   },
   "file_extension": ".py",
   "mimetype": "text/x-python",
   "name": "python",
   "nbconvert_exporter": "python",
   "pygments_lexer": "ipython3",
   "version": "3.7.6"
  }
 },
 "nbformat": 4,
 "nbformat_minor": 4
}
